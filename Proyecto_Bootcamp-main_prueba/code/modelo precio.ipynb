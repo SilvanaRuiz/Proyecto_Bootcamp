{
 "cells": [
  {
   "cell_type": "code",
   "execution_count": 336,
   "metadata": {},
   "outputs": [],
   "source": [
    "import pandas as pd \n",
    "import nltk\n",
    "import re\n",
    "from nltk.stem import PorterStemmer\n",
    "import string\n",
    "import ast\n",
    "from sklearn.feature_extraction.text import CountVectorizer\n",
    "from sklearn.feature_extraction.text import TfidfTransformer\n",
    "import numpy as np\n",
    "from sklearn.preprocessing import OneHotEncoder\n",
    "from sklearn.preprocessing import MinMaxScaler\n",
    "from textblob import TextBlob\n",
    "from textblob.sentiments import NaiveBayesAnalyzer\n",
    "from sklearn.linear_model import LinearRegression\n",
    "from sklearn.neighbors import KNeighborsRegressor\n",
    "from sklearn.tree import DecisionTreeRegressor\n",
    "from sklearn.ensemble import RandomForestRegressor, AdaBoostRegressor, GradientBoostingRegressor\n",
    "from sklearn.svm import SVR\n",
    "from sklearn.model_selection import train_test_split\n",
    "from sklearn.preprocessing import MinMaxScaler\n",
    "from sklearn.metrics import r2_score, mean_squared_error, mean_absolute_error\n",
    "from base_datos_airbnb import bd, extract_data_from_db, Airbnb \n",
    "from limpieza import limpiezadedatos\n",
    "import plotly.graph_objects as go\n",
    "from base_datos_airbnb import extract_data_from_db\n",
    "\n"
   ]
  },
  {
   "cell_type": "code",
   "execution_count": 337,
   "metadata": {},
   "outputs": [],
   "source": [
    "df = extract_data_from_db()\n",
    "df_modelo = limpiezadedatos(df)"
   ]
  },
  {
   "cell_type": "code",
   "execution_count": 338,
   "metadata": {},
   "outputs": [
    {
     "data": {
      "text/html": [
       "<div>\n",
       "<style scoped>\n",
       "    .dataframe tbody tr th:only-of-type {\n",
       "        vertical-align: middle;\n",
       "    }\n",
       "\n",
       "    .dataframe tbody tr th {\n",
       "        vertical-align: top;\n",
       "    }\n",
       "\n",
       "    .dataframe thead th {\n",
       "        text-align: right;\n",
       "    }\n",
       "</style>\n",
       "<table border=\"1\" class=\"dataframe\">\n",
       "  <thead>\n",
       "    <tr style=\"text-align: right;\">\n",
       "      <th></th>\n",
       "      <th>unique_id</th>\n",
       "      <th>title</th>\n",
       "      <th>city</th>\n",
       "      <th>guest_favorite</th>\n",
       "      <th>rating</th>\n",
       "      <th>number_reviews</th>\n",
       "      <th>type_host</th>\n",
       "      <th>hosting_time</th>\n",
       "      <th>price</th>\n",
       "      <th>all_reviews</th>\n",
       "      <th>url</th>\n",
       "      <th>id_url</th>\n",
       "      <th>number_guest</th>\n",
       "      <th>number_bedroom</th>\n",
       "      <th>number_beds</th>\n",
       "      <th>type_bathroom</th>\n",
       "      <th>number_bathroom</th>\n",
       "    </tr>\n",
       "  </thead>\n",
       "  <tbody>\n",
       "    <tr>\n",
       "      <th>0</th>\n",
       "      <td>0019b8df-c2b4-4b22-8876-db5c2bb4ff9e</td>\n",
       "      <td>1 Private Bed, Renovated Bath, Castro &amp; City V...</td>\n",
       "      <td>San Francisco</td>\n",
       "      <td>1</td>\n",
       "      <td>4.94</td>\n",
       "      <td>422.0</td>\n",
       "      <td>Superhost</td>\n",
       "      <td>120</td>\n",
       "      <td>95.0</td>\n",
       "      <td>['Nice place with a nice view of the city, esp...</td>\n",
       "      <td>https://www.airbnb.com/rooms/5547500?adults=1&amp;...</td>\n",
       "      <td>5547500</td>\n",
       "      <td>NaN</td>\n",
       "      <td>NaN</td>\n",
       "      <td>1.0</td>\n",
       "      <td>private</td>\n",
       "      <td>NaN</td>\n",
       "    </tr>\n",
       "    <tr>\n",
       "      <th>1</th>\n",
       "      <td>00432fb0-d9ac-4346-b9f7-6bd3ae18aeda</td>\n",
       "      <td>Pool and Arcade 4BR Vacation!</td>\n",
       "      <td>Las vegas</td>\n",
       "      <td>0</td>\n",
       "      <td>NaN</td>\n",
       "      <td>NaN</td>\n",
       "      <td>Superhost</td>\n",
       "      <td>6</td>\n",
       "      <td>166.0</td>\n",
       "      <td>[]</td>\n",
       "      <td>https://www.airbnb.com/rooms/12699487907199961...</td>\n",
       "      <td>1269948790719996158</td>\n",
       "      <td>10.0</td>\n",
       "      <td>4.0</td>\n",
       "      <td>5.0</td>\n",
       "      <td>private</td>\n",
       "      <td>2.0</td>\n",
       "    </tr>\n",
       "    <tr>\n",
       "      <th>2</th>\n",
       "      <td>0064b7c5-d957-42ca-ab61-e4ae8e36d013</td>\n",
       "      <td>Stunning 2Bed Waterview Downtown</td>\n",
       "      <td>Miami</td>\n",
       "      <td>1</td>\n",
       "      <td>4.91</td>\n",
       "      <td>85.0</td>\n",
       "      <td>Superhost</td>\n",
       "      <td>120</td>\n",
       "      <td>359.0</td>\n",
       "      <td>['Thanks again to Eva. Very responsive, met al...</td>\n",
       "      <td>https://www.airbnb.com/rooms/76549522520937613...</td>\n",
       "      <td>765495225209376134</td>\n",
       "      <td>5.0</td>\n",
       "      <td>2.0</td>\n",
       "      <td>2.0</td>\n",
       "      <td>private</td>\n",
       "      <td>2.0</td>\n",
       "    </tr>\n",
       "    <tr>\n",
       "      <th>3</th>\n",
       "      <td>009db955-2045-4a1a-8d2a-283c67670180</td>\n",
       "      <td>Charming &amp; Modern South Park Gem: Pool~Gym~Pkg</td>\n",
       "      <td>Charlotte</td>\n",
       "      <td>1</td>\n",
       "      <td>5.00</td>\n",
       "      <td>9.0</td>\n",
       "      <td>normal_host</td>\n",
       "      <td>2</td>\n",
       "      <td>74.0</td>\n",
       "      <td>['We had an amazing stay! The place was so bea...</td>\n",
       "      <td>https://www.airbnb.com/rooms/12153604544972420...</td>\n",
       "      <td>1215360454497242015</td>\n",
       "      <td>6.0</td>\n",
       "      <td>2.0</td>\n",
       "      <td>3.0</td>\n",
       "      <td>private</td>\n",
       "      <td>1.0</td>\n",
       "    </tr>\n",
       "    <tr>\n",
       "      <th>4</th>\n",
       "      <td>00b1a711-fad5-4688-b895-0c0e183c1c44</td>\n",
       "      <td>Relaxing home in SouthEnd Area! Pets are welco...</td>\n",
       "      <td>Charlotte</td>\n",
       "      <td>0</td>\n",
       "      <td>4.69</td>\n",
       "      <td>237.0</td>\n",
       "      <td>Superhost</td>\n",
       "      <td>84</td>\n",
       "      <td>60.0</td>\n",
       "      <td>['Nice place to stay. Literally 15-20 mins fro...</td>\n",
       "      <td>https://www.airbnb.com/rooms/26846030?adults=1...</td>\n",
       "      <td>26846030</td>\n",
       "      <td>4.0</td>\n",
       "      <td>1.0</td>\n",
       "      <td>1.0</td>\n",
       "      <td>private</td>\n",
       "      <td>1.0</td>\n",
       "    </tr>\n",
       "  </tbody>\n",
       "</table>\n",
       "</div>"
      ],
      "text/plain": [
       "                              unique_id  \\\n",
       "0  0019b8df-c2b4-4b22-8876-db5c2bb4ff9e   \n",
       "1  00432fb0-d9ac-4346-b9f7-6bd3ae18aeda   \n",
       "2  0064b7c5-d957-42ca-ab61-e4ae8e36d013   \n",
       "3  009db955-2045-4a1a-8d2a-283c67670180   \n",
       "4  00b1a711-fad5-4688-b895-0c0e183c1c44   \n",
       "\n",
       "                                               title           city  \\\n",
       "0  1 Private Bed, Renovated Bath, Castro & City V...  San Francisco   \n",
       "1                      Pool and Arcade 4BR Vacation!      Las vegas   \n",
       "2                   Stunning 2Bed Waterview Downtown          Miami   \n",
       "3     Charming & Modern South Park Gem: Pool~Gym~Pkg      Charlotte   \n",
       "4  Relaxing home in SouthEnd Area! Pets are welco...      Charlotte   \n",
       "\n",
       "   guest_favorite  rating  number_reviews    type_host  hosting_time  price  \\\n",
       "0               1    4.94           422.0    Superhost           120   95.0   \n",
       "1               0     NaN             NaN    Superhost             6  166.0   \n",
       "2               1    4.91            85.0    Superhost           120  359.0   \n",
       "3               1    5.00             9.0  normal_host             2   74.0   \n",
       "4               0    4.69           237.0    Superhost            84   60.0   \n",
       "\n",
       "                                         all_reviews  \\\n",
       "0  ['Nice place with a nice view of the city, esp...   \n",
       "1                                                 []   \n",
       "2  ['Thanks again to Eva. Very responsive, met al...   \n",
       "3  ['We had an amazing stay! The place was so bea...   \n",
       "4  ['Nice place to stay. Literally 15-20 mins fro...   \n",
       "\n",
       "                                                 url               id_url  \\\n",
       "0  https://www.airbnb.com/rooms/5547500?adults=1&...              5547500   \n",
       "1  https://www.airbnb.com/rooms/12699487907199961...  1269948790719996158   \n",
       "2  https://www.airbnb.com/rooms/76549522520937613...   765495225209376134   \n",
       "3  https://www.airbnb.com/rooms/12153604544972420...  1215360454497242015   \n",
       "4  https://www.airbnb.com/rooms/26846030?adults=1...             26846030   \n",
       "\n",
       "   number_guest  number_bedroom  number_beds type_bathroom  number_bathroom  \n",
       "0           NaN             NaN          1.0       private              NaN  \n",
       "1          10.0             4.0          5.0       private              2.0  \n",
       "2           5.0             2.0          2.0       private              2.0  \n",
       "3           6.0             2.0          3.0       private              1.0  \n",
       "4           4.0             1.0          1.0       private              1.0  "
      ]
     },
     "execution_count": 338,
     "metadata": {},
     "output_type": "execute_result"
    }
   ],
   "source": [
    "df_modelo.head()"
   ]
  },
  {
   "cell_type": "code",
   "execution_count": null,
   "metadata": {},
   "outputs": [],
   "source": []
  },
  {
   "cell_type": "code",
   "execution_count": 339,
   "metadata": {},
   "outputs": [],
   "source": [
    "import pickle\n",
    "from sklearn.preprocessing import OneHotEncoder\n",
    "import pandas as pd\n",
    "\n",
    "# Crear encoders separados\n",
    "encoder_city = OneHotEncoder()\n",
    "encoder_bathroom = OneHotEncoder()\n",
    "\n",
    "# Ajustar el encoder para \"city\"\n",
    "encoder_city.fit(df_modelo[['city']])\n",
    "city_encoded = encoder_city.transform(df_modelo[['city']]).toarray()\n",
    "city_columns = encoder_city.get_feature_names_out(['city'])\n",
    "city_df = pd.DataFrame(city_encoded, columns=city_columns)\n",
    "\n",
    "# Ajustar el encoder para \"type_bathroom\"\n",
    "encoder_bathroom.fit(df_modelo[['type_bathroom']])\n",
    "bathroom_encoded = encoder_bathroom.transform(df_modelo[['type_bathroom']]).toarray()\n",
    "bathroom_columns = encoder_bathroom.get_feature_names_out(['type_bathroom'])\n",
    "bathroom_df = pd.DataFrame(bathroom_encoded, columns=bathroom_columns)\n",
    "\n",
    "# Guardar el encoder y las columnas de \"city\"\n",
    "with open('encoder_city.pkl', 'wb') as file:\n",
    "    pickle.dump(encoder_city, file)\n",
    "\n",
    "with open('city_columns.pkl', 'wb') as file:\n",
    "    pickle.dump(city_columns, file)\n",
    "\n",
    "# Guardar el encoder y las columnas de \"type_bathroom\"\n",
    "with open('encoder_bathroom.pkl', 'wb') as file:\n",
    "    pickle.dump(encoder_bathroom, file)\n",
    "\n",
    "with open('bathroom_columns.pkl', 'wb') as file:\n",
    "    pickle.dump(bathroom_columns, file)\n",
    "\n"
   ]
  },
  {
   "cell_type": "code",
   "execution_count": 340,
   "metadata": {},
   "outputs": [],
   "source": [
    "#Valores de 0 a los que son null \n",
    "# Reemplazar los NaN con 0 en las columnas deseadas\n",
    "df_modelo['number_bedroom'] = df_modelo['number_bedroom'].fillna(0)\n",
    "df_modelo['number_beds'] = df_modelo['number_beds'].fillna(0)\n",
    "df_modelo['number_guest'] = df_modelo['number_guest'].fillna(0)"
   ]
  },
  {
   "cell_type": "code",
   "execution_count": 341,
   "metadata": {},
   "outputs": [
    {
     "data": {
      "text/plain": [
       "1860"
      ]
     },
     "execution_count": 341,
     "metadata": {},
     "output_type": "execute_result"
    }
   ],
   "source": [
    "len(df_modelo)"
   ]
  },
  {
   "cell_type": "markdown",
   "metadata": {},
   "source": [
    "No llega ni a 100 por lo que creo que eliminarlos seria lo mas conveniente, dado qeu varios tienen nulos en precio\n"
   ]
  },
  {
   "cell_type": "code",
   "execution_count": 342,
   "metadata": {},
   "outputs": [],
   "source": [
    "#Unimos df despues del encoding\n",
    "df_modelo=pd.concat([df_modelo, city_df, bathroom_df], axis=1)"
   ]
  },
  {
   "cell_type": "code",
   "execution_count": 343,
   "metadata": {},
   "outputs": [
    {
     "data": {
      "text/plain": [
       "1431"
      ]
     },
     "execution_count": 343,
     "metadata": {},
     "output_type": "execute_result"
    }
   ],
   "source": [
    "df_modelo = df_modelo.dropna()\n",
    "len(df_modelo)"
   ]
  },
  {
   "cell_type": "code",
   "execution_count": 344,
   "metadata": {},
   "outputs": [
    {
     "name": "stdout",
     "output_type": "stream",
     "text": [
      "<class 'pandas.core.frame.DataFrame'>\n",
      "Index: 1431 entries, 2 to 1859\n",
      "Data columns (total 27 columns):\n",
      " #   Column                 Non-Null Count  Dtype  \n",
      "---  ------                 --------------  -----  \n",
      " 0   unique_id              1431 non-null   object \n",
      " 1   title                  1431 non-null   object \n",
      " 2   city                   1431 non-null   object \n",
      " 3   guest_favorite         1431 non-null   int64  \n",
      " 4   rating                 1431 non-null   float64\n",
      " 5   number_reviews         1431 non-null   float64\n",
      " 6   type_host              1431 non-null   object \n",
      " 7   hosting_time           1431 non-null   int64  \n",
      " 8   price                  1431 non-null   float64\n",
      " 9   all_reviews            1431 non-null   object \n",
      " 10  url                    1431 non-null   object \n",
      " 11  id_url                 1431 non-null   object \n",
      " 12  number_guest           1431 non-null   float64\n",
      " 13  number_bedroom         1431 non-null   float64\n",
      " 14  number_beds            1431 non-null   float64\n",
      " 15  type_bathroom          1431 non-null   object \n",
      " 16  number_bathroom        1431 non-null   float64\n",
      " 17  city_Austin            1431 non-null   float64\n",
      " 18  city_Charlotte         1431 non-null   float64\n",
      " 19  city_Chicago           1431 non-null   float64\n",
      " 20  city_Las vegas         1431 non-null   float64\n",
      " 21  city_Miami             1431 non-null   float64\n",
      " 22  city_San Francisco     1431 non-null   float64\n",
      " 23  city_Seattle           1431 non-null   float64\n",
      " 24  type_bathroom_private  1431 non-null   float64\n",
      " 25  type_bathroom_shared   1431 non-null   float64\n",
      " 26  type_bathroom_unknown  1431 non-null   float64\n",
      "dtypes: float64(17), int64(2), object(8)\n",
      "memory usage: 313.0+ KB\n"
     ]
    }
   ],
   "source": [
    "df_modelo.info()"
   ]
  },
  {
   "cell_type": "code",
   "execution_count": 345,
   "metadata": {},
   "outputs": [],
   "source": [
    "df_modelo_cluster = df_modelo.drop(columns=['rating', 'all_reviews', 'price','unique_id', 'url', 'id_url', 'city' , 'title', 'type_host', 'type_bathroom', 'hosting_time', 'number_reviews'])"
   ]
  },
  {
   "cell_type": "markdown",
   "metadata": {},
   "source": [
    "### Clustering con K-Means"
   ]
  },
  {
   "cell_type": "code",
   "execution_count": 346,
   "metadata": {},
   "outputs": [],
   "source": [
    "import numpy as np\n",
    "import pandas as pd\n",
    "import matplotlib.pyplot as plt\n",
    "from sklearn.cluster import KMeans\n",
    "\n",
    "# Suponiendo que df_modelo_cluster ya está escalado con MinMaxScaler\n",
    "\n",
    "# Definir el número de clusters que deseas, por ejemplo, 4\n",
    "n_clusters = 3\n",
    "\n",
    "# Aplicar K-Means a los datos escalados\n",
    "kmeans = KMeans(n_clusters=n_clusters, random_state=0)\n",
    "kmeans.fit(df_modelo_cluster)\n",
    "\n",
    "# Obtener las etiquetas de los clusters\n",
    "cluster_labels = kmeans.labels_\n",
    "\n",
    "# Añadir las etiquetas de clusters al DataFrame (opcional)\n",
    "df_modelo_cluster['cluster'] = cluster_labels\n",
    "\n"
   ]
  },
  {
   "cell_type": "code",
   "execution_count": 347,
   "metadata": {},
   "outputs": [
    {
     "data": {
      "text/html": [
       "<div>\n",
       "<style scoped>\n",
       "    .dataframe tbody tr th:only-of-type {\n",
       "        vertical-align: middle;\n",
       "    }\n",
       "\n",
       "    .dataframe tbody tr th {\n",
       "        vertical-align: top;\n",
       "    }\n",
       "\n",
       "    .dataframe thead th {\n",
       "        text-align: right;\n",
       "    }\n",
       "</style>\n",
       "<table border=\"1\" class=\"dataframe\">\n",
       "  <thead>\n",
       "    <tr style=\"text-align: right;\">\n",
       "      <th></th>\n",
       "      <th>guest_favorite</th>\n",
       "      <th>number_guest</th>\n",
       "      <th>number_bedroom</th>\n",
       "      <th>number_beds</th>\n",
       "      <th>number_bathroom</th>\n",
       "      <th>city_Austin</th>\n",
       "      <th>city_Charlotte</th>\n",
       "      <th>city_Chicago</th>\n",
       "      <th>city_Las vegas</th>\n",
       "      <th>city_Miami</th>\n",
       "      <th>city_San Francisco</th>\n",
       "      <th>city_Seattle</th>\n",
       "      <th>type_bathroom_private</th>\n",
       "      <th>type_bathroom_shared</th>\n",
       "      <th>type_bathroom_unknown</th>\n",
       "      <th>cluster</th>\n",
       "    </tr>\n",
       "  </thead>\n",
       "  <tbody>\n",
       "    <tr>\n",
       "      <th>2</th>\n",
       "      <td>1</td>\n",
       "      <td>5.0</td>\n",
       "      <td>2.0</td>\n",
       "      <td>2.0</td>\n",
       "      <td>2.0</td>\n",
       "      <td>0.0</td>\n",
       "      <td>0.0</td>\n",
       "      <td>0.0</td>\n",
       "      <td>0.0</td>\n",
       "      <td>1.0</td>\n",
       "      <td>0.0</td>\n",
       "      <td>0.0</td>\n",
       "      <td>1.0</td>\n",
       "      <td>0.0</td>\n",
       "      <td>0.0</td>\n",
       "      <td>1</td>\n",
       "    </tr>\n",
       "    <tr>\n",
       "      <th>3</th>\n",
       "      <td>1</td>\n",
       "      <td>6.0</td>\n",
       "      <td>2.0</td>\n",
       "      <td>3.0</td>\n",
       "      <td>1.0</td>\n",
       "      <td>0.0</td>\n",
       "      <td>1.0</td>\n",
       "      <td>0.0</td>\n",
       "      <td>0.0</td>\n",
       "      <td>0.0</td>\n",
       "      <td>0.0</td>\n",
       "      <td>0.0</td>\n",
       "      <td>1.0</td>\n",
       "      <td>0.0</td>\n",
       "      <td>0.0</td>\n",
       "      <td>1</td>\n",
       "    </tr>\n",
       "    <tr>\n",
       "      <th>4</th>\n",
       "      <td>0</td>\n",
       "      <td>4.0</td>\n",
       "      <td>1.0</td>\n",
       "      <td>1.0</td>\n",
       "      <td>1.0</td>\n",
       "      <td>0.0</td>\n",
       "      <td>1.0</td>\n",
       "      <td>0.0</td>\n",
       "      <td>0.0</td>\n",
       "      <td>0.0</td>\n",
       "      <td>0.0</td>\n",
       "      <td>0.0</td>\n",
       "      <td>1.0</td>\n",
       "      <td>0.0</td>\n",
       "      <td>0.0</td>\n",
       "      <td>0</td>\n",
       "    </tr>\n",
       "    <tr>\n",
       "      <th>5</th>\n",
       "      <td>1</td>\n",
       "      <td>4.0</td>\n",
       "      <td>1.0</td>\n",
       "      <td>1.0</td>\n",
       "      <td>1.0</td>\n",
       "      <td>1.0</td>\n",
       "      <td>0.0</td>\n",
       "      <td>0.0</td>\n",
       "      <td>0.0</td>\n",
       "      <td>0.0</td>\n",
       "      <td>0.0</td>\n",
       "      <td>0.0</td>\n",
       "      <td>1.0</td>\n",
       "      <td>0.0</td>\n",
       "      <td>0.0</td>\n",
       "      <td>0</td>\n",
       "    </tr>\n",
       "    <tr>\n",
       "      <th>6</th>\n",
       "      <td>1</td>\n",
       "      <td>2.0</td>\n",
       "      <td>1.0</td>\n",
       "      <td>1.0</td>\n",
       "      <td>5.0</td>\n",
       "      <td>0.0</td>\n",
       "      <td>0.0</td>\n",
       "      <td>1.0</td>\n",
       "      <td>0.0</td>\n",
       "      <td>0.0</td>\n",
       "      <td>0.0</td>\n",
       "      <td>0.0</td>\n",
       "      <td>1.0</td>\n",
       "      <td>0.0</td>\n",
       "      <td>0.0</td>\n",
       "      <td>0</td>\n",
       "    </tr>\n",
       "  </tbody>\n",
       "</table>\n",
       "</div>"
      ],
      "text/plain": [
       "   guest_favorite  number_guest  number_bedroom  number_beds  number_bathroom  \\\n",
       "2               1           5.0             2.0          2.0              2.0   \n",
       "3               1           6.0             2.0          3.0              1.0   \n",
       "4               0           4.0             1.0          1.0              1.0   \n",
       "5               1           4.0             1.0          1.0              1.0   \n",
       "6               1           2.0             1.0          1.0              5.0   \n",
       "\n",
       "   city_Austin  city_Charlotte  city_Chicago  city_Las vegas  city_Miami  \\\n",
       "2          0.0             0.0           0.0             0.0         1.0   \n",
       "3          0.0             1.0           0.0             0.0         0.0   \n",
       "4          0.0             1.0           0.0             0.0         0.0   \n",
       "5          1.0             0.0           0.0             0.0         0.0   \n",
       "6          0.0             0.0           1.0             0.0         0.0   \n",
       "\n",
       "   city_San Francisco  city_Seattle  type_bathroom_private  \\\n",
       "2                 0.0           0.0                    1.0   \n",
       "3                 0.0           0.0                    1.0   \n",
       "4                 0.0           0.0                    1.0   \n",
       "5                 0.0           0.0                    1.0   \n",
       "6                 0.0           0.0                    1.0   \n",
       "\n",
       "   type_bathroom_shared  type_bathroom_unknown  cluster  \n",
       "2                   0.0                    0.0        1  \n",
       "3                   0.0                    0.0        1  \n",
       "4                   0.0                    0.0        0  \n",
       "5                   0.0                    0.0        0  \n",
       "6                   0.0                    0.0        0  "
      ]
     },
     "execution_count": 347,
     "metadata": {},
     "output_type": "execute_result"
    }
   ],
   "source": [
    "df_modelo_cluster.head()"
   ]
  },
  {
   "cell_type": "code",
   "execution_count": 348,
   "metadata": {},
   "outputs": [],
   "source": [
    "#Drop filas que tienen valores nulos\n",
    "df_modelo = df_modelo.dropna()"
   ]
  },
  {
   "cell_type": "code",
   "execution_count": 349,
   "metadata": {},
   "outputs": [
    {
     "data": {
      "text/plain": [
       "1431"
      ]
     },
     "execution_count": 349,
     "metadata": {},
     "output_type": "execute_result"
    }
   ],
   "source": [
    "len(df_modelo)"
   ]
  },
  {
   "cell_type": "code",
   "execution_count": 350,
   "metadata": {},
   "outputs": [
    {
     "data": {
      "text/plain": [
       "1431"
      ]
     },
     "execution_count": 350,
     "metadata": {},
     "output_type": "execute_result"
    }
   ],
   "source": [
    "len(df_modelo_cluster)"
   ]
  },
  {
   "cell_type": "code",
   "execution_count": 351,
   "metadata": {},
   "outputs": [
    {
     "data": {
      "image/png": "[encoded data removed]",
      "text/plain": [
       "<Figure size 800x600 with 2 Axes>"
      ]
     },
     "metadata": {},
     "output_type": "display_data"
    }
   ],
   "source": [
    "import numpy as np\n",
    "import pandas as pd\n",
    "import matplotlib.pyplot as plt\n",
    "from sklearn.cluster import KMeans\n",
    "from sklearn.decomposition import PCA\n",
    "\n",
    "# Suponiendo que ya tienes tu df_modelo_cluster escalado\n",
    "\n",
    "# Reducir a 2 dimensiones usando PCA\n",
    "pca = PCA(n_components=2)\n",
    "df_pca = pca.fit_transform(df_modelo_cluster)\n",
    "\n",
    "# Aplicar K-Means con el número óptimo de clusters (4 clusters en este caso)\n",
    "kmeans = KMeans(n_clusters=2, random_state=0)\n",
    "cluster_labels = kmeans.fit_predict(df_pca)\n",
    "\n",
    "# Visualizar los clusters en 2D\n",
    "plt.figure(figsize=(8, 6))\n",
    "plt.scatter(df_pca[:, 0], df_pca[:, 1], c=cluster_labels, cmap='viridis', marker='o', edgecolor='k', s=50)\n",
    "plt.title(f'K-Means Clustering con {n_clusters} Clusters (después de PCA)')\n",
    "plt.xlabel('Componente Principal 1')\n",
    "plt.ylabel('Componente Principal 2')\n",
    "plt.colorbar(label='Etiqueta de Cluster')\n",
    "plt.show()\n"
   ]
  },
  {
   "cell_type": "code",
   "execution_count": 352,
   "metadata": {},
   "outputs": [
    {
     "data": {
      "image/png": "[encoded data removed]",
      "text/plain": [
       "<Figure size 800x600 with 1 Axes>"
      ]
     },
     "metadata": {},
     "output_type": "display_data"
    }
   ],
   "source": [
    "from sklearn.cluster import KMeans\n",
    "import matplotlib.pyplot as plt\n",
    "\n",
    "# Lista para almacenar la inercia (suma de los errores cuadráticos dentro de los clusters)\n",
    "inertia = []\n",
    "range_n_clusters = range(1, 11)  # Número de clusters a probar\n",
    "\n",
    "# Probar diferentes números de clusters\n",
    "for n_clusters in range_n_clusters:\n",
    "    kmeans = KMeans(n_clusters=n_clusters, random_state=0)\n",
    "    kmeans.fit(df_modelo_cluster)  # df_modelo_cluster debe estar escalado\n",
    "    inertia.append(kmeans.inertia_)\n",
    "\n",
    "# Graficar el método del codo\n",
    "plt.figure(figsize=(8, 6))\n",
    "plt.plot(range_n_clusters, inertia, marker='o')\n",
    "plt.title('Método del Codo para Determinar el Número de Clusters')\n",
    "plt.xlabel('Número de Clusters')\n",
    "plt.ylabel('Inercia')\n",
    "plt.show()\n"
   ]
  },
  {
   "cell_type": "markdown",
   "metadata": {},
   "source": [
    "#### Modelo clasificación para ver a que cluster pertenece"
   ]
  },
  {
   "cell_type": "code",
   "execution_count": 353,
   "metadata": {},
   "outputs": [],
   "source": [
    "from sklearn.ensemble import RandomForestClassifier, GradientBoostingClassifier, AdaBoostClassifier\n",
    "from sklearn.linear_model import LogisticRegression\n",
    "from sklearn.neighbors import KNeighborsClassifier\n",
    "from sklearn.tree import DecisionTreeClassifier\n",
    "from sklearn.svm import SVC\n",
    "from sklearn.model_selection import GridSearchCV, train_test_split\n",
    "from sklearn.metrics import accuracy_score, f1_score, precision_score, recall_score, confusion_matrix\n",
    "import numpy as np\n",
    "import pandas as pd\n",
    "import seaborn as sns\n",
    "import matplotlib.pyplot as plt\n",
    "\n",
    "# Función para graficar la matriz de confusión\n",
    "def graficar_matriz_confusion(y_test, y_pred, nombre_modelo):\n",
    "    cm = confusion_matrix(y_test, y_pred)\n",
    "    fig, ax = plt.subplots(figsize=(6, 4))\n",
    "    sns.heatmap(cm, annot=True, fmt=\"d\", cmap=\"Blues\", cbar=False, ax=ax)\n",
    "    ax.set_xlabel('Predicciones')\n",
    "    ax.set_ylabel('Valores Reales')\n",
    "    ax.set_title(f'Matriz de Confusión - {nombre_modelo}')\n",
    "    plt.show()\n",
    "\n",
    "# Función para realizar GridSearch con los hiperparámetros ajustados\n",
    "def realizar_grid_search(modelo, X_train, y_train, nombre_modelo):\n",
    "    parametros = {\n",
    "        'LogisticRegression': {\n",
    "            'C': [0.01, 0.1, 1, 10],\n",
    "            'solver': ['liblinear', 'lbfgs']\n",
    "        },\n",
    "        'KNeighborsClassifier': {\n",
    "            'n_neighbors': [3, 5, 7, 9],\n",
    "            'weights': ['uniform', 'distance']\n",
    "        },\n",
    "        'DecisionTreeClassifier': {\n",
    "            'max_depth': [None, 10, 20],\n",
    "            'min_samples_split': [2, 10, 20]\n",
    "        },\n",
    "        'RandomForestClassifier': {\n",
    "            'n_estimators': [50, 100, 200],\n",
    "            'max_depth': [None, 10, 20],\n",
    "            'min_samples_split': [2, 10, 20]\n",
    "        },\n",
    "        'SVC': {\n",
    "            'C': [0.1, 1, 10],\n",
    "            'kernel': ['linear', 'rbf']\n",
    "        },\n",
    "        'AdaBoostClassifier': {\n",
    "            'n_estimators': [50, 100, 200],\n",
    "            'learning_rate': [0.01, 0.1, 1]\n",
    "        },\n",
    "        'GradientBoostingClassifier': {\n",
    "            'n_estimators': [50, 100, 200],\n",
    "            'learning_rate': [0.01, 0.1, 1],\n",
    "            'max_depth': [3, 5, 7]\n",
    "        }\n",
    "    }\n",
    "\n",
    "    # Si el modelo no tiene parámetros definidos, no se ejecuta GridSearch\n",
    "    if nombre_modelo not in parametros:\n",
    "        return modelo\n",
    "\n",
    "    grid_search = GridSearchCV(estimator=modelo, param_grid=parametros[nombre_modelo], scoring='accuracy', cv=10, n_jobs=-1, verbose=1)\n",
    "    grid_search.fit(X_train, y_train)\n",
    "\n",
    "    mejor_modelo = grid_search.best_estimator_\n",
    "    mejor_score = grid_search.best_score_\n",
    "\n",
    "    print(f\"Mejor modelo encontrado para {nombre_modelo}: {mejor_modelo}\")\n",
    "    print(f\"Mejor score (Accuracy) en GridSearchCV: {mejor_score}\")\n",
    "\n",
    "    return mejor_modelo\n",
    "\n",
    "\n",
    "# Función para evaluar múltiples modelos de clasificación\n",
    "def evaluate_classification_models(X, y, df_original, aplicar_gridsearch=True):\n",
    "    # Suponemos que el df_original contiene la columna 'ID'\n",
    "    ids = df_original['id_url']  # Mantener los IDs\n",
    "    \n",
    "\n",
    "    # Lista de modelos de clasificación\n",
    "    modelos = [\n",
    "        LogisticRegression(),\n",
    "        KNeighborsClassifier(),\n",
    "        DecisionTreeClassifier(),\n",
    "        RandomForestClassifier(),\n",
    "        SVC(),\n",
    "        AdaBoostClassifier(),\n",
    "        GradientBoostingClassifier()\n",
    "    ]\n",
    "\n",
    "    nombres = [\n",
    "        'LogisticRegression',\n",
    "        'KNeighborsClassifier',\n",
    "        'DecisionTreeClassifier',\n",
    "        'RandomForestClassifier',\n",
    "        'SVC',\n",
    "        'AdaBoostClassifier',\n",
    "        'GradientBoostingClassifier'\n",
    "    ]\n",
    "\n",
    "    resultados = pd.DataFrame(columns=['Model', 'Accuracy', 'F1-Score', 'Precision', 'Recall'])\n",
    "    \n",
    "    mejor_accuracy = -np.inf\n",
    "    mejor_y_test = None\n",
    "    mejor_y_pred = None\n",
    "    mejor_ids_test = None  # Para almacenar los IDs del mejor modelo\n",
    "    mejor_modelo = None\n",
    "    mejor_nombre = None\n",
    "    mejor_X_train = None\n",
    "    mejor_y_train = None\n",
    "\n",
    "    # Entrenar y evaluar cada modelo\n",
    "    for modelo, nombre in zip(modelos, nombres):\n",
    "        X_train, X_test, y_train, y_test, ids_train, ids_test = train_test_split(\n",
    "            X, y, ids, test_size=0.2, random_state=42, stratify=y)\n",
    "\n",
    "        modelo.fit(X_train, y_train)\n",
    "        y_pred = modelo.predict(X_test)\n",
    "\n",
    "        # Métricas para evaluar el modelo\n",
    "        accuracy = accuracy_score(y_test, y_pred)\n",
    "        f1 = f1_score(y_test, y_pred, average='weighted')\n",
    "        precision = precision_score(y_test, y_pred, average='weighted')\n",
    "        recall = recall_score(y_test, y_pred, average='weighted')\n",
    "\n",
    "        if accuracy > mejor_accuracy:\n",
    "            mejor_accuracy = accuracy\n",
    "            mejor_y_test = y_test\n",
    "            mejor_y_pred = y_pred\n",
    "            mejor_ids_test = ids_test  # Guardar los IDs del mejor split\n",
    "            mejor_modelo = modelo\n",
    "            mejor_nombre = nombre\n",
    "            mejor_X_train = X_train\n",
    "            mejor_y_train = y_train\n",
    "\n",
    "        modelo_df = pd.DataFrame({\n",
    "            'Model': [nombre],\n",
    "            'Accuracy': [accuracy],\n",
    "            'F1-Score': [f1],\n",
    "            'Precision': [precision],\n",
    "            'Recall': [recall]\n",
    "        })\n",
    "\n",
    "        print(f'Modelo: {nombre}\\nAccuracy: {accuracy}, F1-Score: {f1}, Precision: {precision}, Recall: {recall}\\n')\n",
    "\n",
    "        resultados = pd.concat([resultados, modelo_df], ignore_index=True)\n",
    "\n",
    "    if aplicar_gridsearch:\n",
    "        print(f\"\\nAplicando GridSearchCV al mejor modelo: {mejor_nombre}\")\n",
    "        mejor_modelo = realizar_grid_search(mejor_modelo, mejor_X_train, mejor_y_train, mejor_nombre)\n",
    "\n",
    "    # Imprimir los valores reales y predicciones del mejor modelo\n",
    "    df_resultado = pd.DataFrame({\n",
    "        'ID': mejor_ids_test,\n",
    "        'Valor Real': mejor_y_test,\n",
    "        'Predicción': mejor_y_pred\n",
    "    })\n",
    "\n",
    "    print(f\"\\nResultados del mejor modelo {mejor_nombre} con IDs correspondientes:\")\n",
    "    print(df_resultado)\n",
    "\n",
    "    # Graficar matriz de confusión para el mejor modelo\n",
    "    graficar_matriz_confusion(mejor_y_test, mejor_y_pred, mejor_nombre)\n",
    "\n",
    "    return df_resultado, mejor_modelo\n"
   ]
  },
  {
   "cell_type": "code",
   "execution_count": 354,
   "metadata": {},
   "outputs": [],
   "source": [
    "def evaluate_classification_models_entrenado(X, y, df_original, aplicar_gridsearch=True):\n",
    "    # Suponemos que el df_original contiene la columna 'ID'\n",
    "    ids = df_original['id_url']  # Mantener los IDs\n",
    "    \n",
    "    # Lista de modelos de clasificación\n",
    "    modelos = [\n",
    "        LogisticRegression(),\n",
    "        KNeighborsClassifier(),\n",
    "        DecisionTreeClassifier(),\n",
    "        RandomForestClassifier(),\n",
    "        SVC(),\n",
    "        AdaBoostClassifier(),\n",
    "        GradientBoostingClassifier()\n",
    "    ]\n",
    "\n",
    "    nombres = [\n",
    "        'LogisticRegression',\n",
    "        'KNeighborsClassifier',\n",
    "        'DecisionTreeClassifier',\n",
    "        'RandomForestClassifier',\n",
    "        'SVC',\n",
    "        'AdaBoostClassifier',\n",
    "        'GradientBoostingClassifier'\n",
    "    ]\n",
    "\n",
    "    resultados = pd.DataFrame(columns=['Model', 'Accuracy', 'F1-Score', 'Precision', 'Recall'])\n",
    "    \n",
    "    mejor_accuracy = -np.inf\n",
    "    mejor_y_test = None\n",
    "    mejor_y_pred = None\n",
    "    mejor_ids_test = None  # Para almacenar los IDs del mejor modelo\n",
    "    mejor_modelo = None\n",
    "    mejor_nombre = None\n",
    "    mejor_X_train = None\n",
    "    mejor_y_train = None\n",
    "\n",
    "    # Entrenar y evaluar cada modelo\n",
    "    for modelo, nombre in zip(modelos, nombres):\n",
    "        X_train, X_test, y_train, y_test, ids_train, ids_test = train_test_split(\n",
    "            X, y, ids, test_size=0.2, random_state=42, stratify=y)\n",
    "\n",
    "        modelo.fit(X_train, y_train)\n",
    "        y_pred = modelo.predict(X_test)\n",
    "\n",
    "        # Métricas para evaluar el modelo\n",
    "        accuracy = accuracy_score(y_test, y_pred)\n",
    "        f1 = f1_score(y_test, y_pred, average='weighted')\n",
    "        precision = precision_score(y_test, y_pred, average='weighted')\n",
    "        recall = recall_score(y_test, y_pred, average='weighted')\n",
    "\n",
    "        if accuracy > mejor_accuracy:\n",
    "            mejor_accuracy = accuracy\n",
    "            mejor_y_test = y_test\n",
    "            mejor_y_pred = y_pred\n",
    "            mejor_ids_test = ids_test  # Guardar los IDs del mejor split\n",
    "            mejor_modelo = modelo\n",
    "            mejor_nombre = nombre\n",
    "            mejor_X_train = X_train\n",
    "            mejor_y_train = y_train\n",
    "\n",
    "        modelo_df = pd.DataFrame({\n",
    "            'Model': [nombre],\n",
    "            'Accuracy': [accuracy],\n",
    "            'F1-Score': [f1],\n",
    "            'Precision': [precision],\n",
    "            'Recall': [recall]\n",
    "        })\n",
    "\n",
    "        print(f'Modelo: {nombre}\\nAccuracy: {accuracy}, F1-Score: {f1}, Precision: {precision}, Recall: {recall}\\n')\n",
    "\n",
    "        resultados = pd.concat([resultados, modelo_df], ignore_index=True)\n",
    "\n",
    "    if aplicar_gridsearch:\n",
    "        print(f\"\\nAplicando GridSearchCV al mejor modelo: {mejor_nombre}\")\n",
    "        mejor_modelo = realizar_grid_search(mejor_modelo, mejor_X_train, mejor_y_train, mejor_nombre)\n",
    "\n",
    "    # Imprimir los valores reales y predicciones del mejor modelo\n",
    "    df_resultado = pd.DataFrame({\n",
    "        'ID': mejor_ids_test,\n",
    "        'Valor Real': mejor_y_test,\n",
    "        'Predicción': mejor_y_pred\n",
    "    })\n",
    "\n",
    "    print(f\"\\nResultados del mejor modelo {mejor_nombre} con IDs correspondientes:\")\n",
    "    print(df_resultado)\n",
    "\n",
    "    # Graficar matriz de confusión para el mejor modelo\n",
    "    graficar_matriz_confusion(mejor_y_test, mejor_y_pred, mejor_nombre)\n",
    "\n",
    "    # Retornar el DataFrame de resultados y el mejor modelo entrenado\n",
    "    return df_resultado, mejor_modelo\n"
   ]
  },
  {
   "cell_type": "code",
   "execution_count": 355,
   "metadata": {},
   "outputs": [
    {
     "name": "stdout",
     "output_type": "stream",
     "text": [
      "<class 'pandas.core.frame.DataFrame'>\n",
      "Index: 1431 entries, 2 to 1859\n",
      "Data columns (total 27 columns):\n",
      " #   Column                 Non-Null Count  Dtype  \n",
      "---  ------                 --------------  -----  \n",
      " 0   unique_id              1431 non-null   object \n",
      " 1   title                  1431 non-null   object \n",
      " 2   city                   1431 non-null   object \n",
      " 3   guest_favorite         1431 non-null   int64  \n",
      " 4   rating                 1431 non-null   float64\n",
      " 5   number_reviews         1431 non-null   float64\n",
      " 6   type_host              1431 non-null   object \n",
      " 7   hosting_time           1431 non-null   int64  \n",
      " 8   price                  1431 non-null   float64\n",
      " 9   all_reviews            1431 non-null   object \n",
      " 10  url                    1431 non-null   object \n",
      " 11  id_url                 1431 non-null   object \n",
      " 12  number_guest           1431 non-null   float64\n",
      " 13  number_bedroom         1431 non-null   float64\n",
      " 14  number_beds            1431 non-null   float64\n",
      " 15  type_bathroom          1431 non-null   object \n",
      " 16  number_bathroom        1431 non-null   float64\n",
      " 17  city_Austin            1431 non-null   float64\n",
      " 18  city_Charlotte         1431 non-null   float64\n",
      " 19  city_Chicago           1431 non-null   float64\n",
      " 20  city_Las vegas         1431 non-null   float64\n",
      " 21  city_Miami             1431 non-null   float64\n",
      " 22  city_San Francisco     1431 non-null   float64\n",
      " 23  city_Seattle           1431 non-null   float64\n",
      " 24  type_bathroom_private  1431 non-null   float64\n",
      " 25  type_bathroom_shared   1431 non-null   float64\n",
      " 26  type_bathroom_unknown  1431 non-null   float64\n",
      "dtypes: float64(17), int64(2), object(8)\n",
      "memory usage: 313.0+ KB\n"
     ]
    }
   ],
   "source": [
    "df_modelo.info()"
   ]
  },
  {
   "cell_type": "code",
   "execution_count": 356,
   "metadata": {},
   "outputs": [
    {
     "name": "stdout",
     "output_type": "stream",
     "text": [
      "Modelo: LogisticRegression\n",
      "Accuracy: 0.9930313588850174, F1-Score: 0.9930416043755076, Precision: 0.9931616138591292, Recall: 0.9930313588850174\n",
      "\n",
      "Modelo: KNeighborsClassifier\n",
      "Accuracy: 0.9930313588850174, F1-Score: 0.9930313588850174, Precision: 0.9930313588850174, Recall: 0.9930313588850174\n",
      "\n",
      "Modelo: DecisionTreeClassifier\n",
      "Accuracy: 0.9965156794425087, F1-Score: 0.9965182980671398, Precision: 0.9965485503911643, Recall: 0.9965156794425087\n",
      "\n",
      "Modelo: RandomForestClassifier\n",
      "Accuracy: 0.9895470383275261, F1-Score: 0.9895620162912924, Precision: 0.9897161491238148, Recall: 0.9895470383275261\n",
      "\n",
      "Modelo: SVC\n",
      "Accuracy: 0.9895470383275261, F1-Score: 0.9895548942014191, Precision: 0.9895901547666719, Recall: 0.9895470383275261\n",
      "\n",
      "Modelo: AdaBoostClassifier\n",
      "Accuracy: 0.7839721254355401, F1-Score: 0.7582823241359826, Precision: 0.8386408448802095, Recall: 0.7839721254355401\n",
      "\n"
     ]
    },
    {
     "name": "stderr",
     "output_type": "stream",
     "text": [
      "/var/folders/7h/qmh6bk5x34g5j30ygn0wjywr0000gn/T/ipykernel_1991/24862598.py:71: FutureWarning:\n",
      "\n",
      "The behavior of DataFrame concatenation with empty or all-NA entries is deprecated. In a future version, this will no longer exclude empty or all-NA columns when determining the result dtypes. To retain the old behavior, exclude the relevant entries before the concat operation.\n",
      "\n",
      "/Users/silvanaruizmedina/Desktop/Bootcamp/airbnb/venv/lib/python3.12/site-packages/sklearn/ensemble/_weight_boosting.py:527: FutureWarning:\n",
      "\n",
      "The SAMME.R algorithm (the default) is deprecated and will be removed in 1.6. Use the SAMME algorithm to circumvent this warning.\n",
      "\n"
     ]
    },
    {
     "name": "stdout",
     "output_type": "stream",
     "text": [
      "Modelo: GradientBoostingClassifier\n",
      "Accuracy: 1.0, F1-Score: 1.0, Precision: 1.0, Recall: 1.0\n",
      "\n",
      "\n",
      "Aplicando GridSearchCV al mejor modelo: GradientBoostingClassifier\n",
      "Fitting 10 folds for each of 27 candidates, totalling 270 fits\n",
      "Mejor modelo encontrado para GradientBoostingClassifier: GradientBoostingClassifier(learning_rate=1, n_estimators=50)\n",
      "Mejor score (Accuracy) en GridSearchCV: 0.9973913043478261\n",
      "\n",
      "Resultados del mejor modelo GradientBoostingClassifier con IDs correspondientes:\n",
      "                       ID  Valor Real  Predicción\n",
      "871    664692681829332904           0           0\n",
      "75               50000091           2           2\n",
      "926              14741430           0           0\n",
      "1088             45948009           0           0\n",
      "97     880548281073496058           0           0\n",
      "...                   ...         ...         ...\n",
      "1278             51044188           0           0\n",
      "1212   975536549265419343           0           0\n",
      "1178  1216083428705095008           0           0\n",
      "429              52932802           1           1\n",
      "1206             54192684           1           1\n",
      "\n",
      "[287 rows x 3 columns]\n"
     ]
    },
    {
     "data": {
      "image/png": "[encoded data removed]",
      "text/plain": [
       "<Figure size 600x400 with 1 Axes>"
      ]
     },
     "metadata": {},
     "output_type": "display_data"
    }
   ],
   "source": [
    "X = df_modelo_cluster.drop(columns='cluster')\n",
    "y = df_modelo_cluster['cluster']\n",
    "resultados, modelo_clasificacion = evaluate_classification_models_entrenado(X, y, df_modelo)"
   ]
  },
  {
   "cell_type": "code",
   "execution_count": 357,
   "metadata": {},
   "outputs": [],
   "source": [
    "# Guarda el modelo de clasificación\n",
    "with open('modelo_clasificacion.pkl', 'wb') as file:\n",
    "    pickle.dump(modelo_clasificacion, file)"
   ]
  },
  {
   "cell_type": "code",
   "execution_count": 358,
   "metadata": {},
   "outputs": [
    {
     "data": {
      "text/html": [
       "<div>\n",
       "<style scoped>\n",
       "    .dataframe tbody tr th:only-of-type {\n",
       "        vertical-align: middle;\n",
       "    }\n",
       "\n",
       "    .dataframe tbody tr th {\n",
       "        vertical-align: top;\n",
       "    }\n",
       "\n",
       "    .dataframe thead th {\n",
       "        text-align: right;\n",
       "    }\n",
       "</style>\n",
       "<table border=\"1\" class=\"dataframe\">\n",
       "  <thead>\n",
       "    <tr style=\"text-align: right;\">\n",
       "      <th></th>\n",
       "      <th>ID</th>\n",
       "      <th>Valor Real</th>\n",
       "      <th>Predicción</th>\n",
       "    </tr>\n",
       "  </thead>\n",
       "  <tbody>\n",
       "    <tr>\n",
       "      <th>871</th>\n",
       "      <td>664692681829332904</td>\n",
       "      <td>0</td>\n",
       "      <td>0</td>\n",
       "    </tr>\n",
       "    <tr>\n",
       "      <th>75</th>\n",
       "      <td>50000091</td>\n",
       "      <td>2</td>\n",
       "      <td>2</td>\n",
       "    </tr>\n",
       "    <tr>\n",
       "      <th>926</th>\n",
       "      <td>14741430</td>\n",
       "      <td>0</td>\n",
       "      <td>0</td>\n",
       "    </tr>\n",
       "    <tr>\n",
       "      <th>1088</th>\n",
       "      <td>45948009</td>\n",
       "      <td>0</td>\n",
       "      <td>0</td>\n",
       "    </tr>\n",
       "    <tr>\n",
       "      <th>97</th>\n",
       "      <td>880548281073496058</td>\n",
       "      <td>0</td>\n",
       "      <td>0</td>\n",
       "    </tr>\n",
       "    <tr>\n",
       "      <th>...</th>\n",
       "      <td>...</td>\n",
       "      <td>...</td>\n",
       "      <td>...</td>\n",
       "    </tr>\n",
       "    <tr>\n",
       "      <th>1278</th>\n",
       "      <td>51044188</td>\n",
       "      <td>0</td>\n",
       "      <td>0</td>\n",
       "    </tr>\n",
       "    <tr>\n",
       "      <th>1212</th>\n",
       "      <td>975536549265419343</td>\n",
       "      <td>0</td>\n",
       "      <td>0</td>\n",
       "    </tr>\n",
       "    <tr>\n",
       "      <th>1178</th>\n",
       "      <td>1216083428705095008</td>\n",
       "      <td>0</td>\n",
       "      <td>0</td>\n",
       "    </tr>\n",
       "    <tr>\n",
       "      <th>429</th>\n",
       "      <td>52932802</td>\n",
       "      <td>1</td>\n",
       "      <td>1</td>\n",
       "    </tr>\n",
       "    <tr>\n",
       "      <th>1206</th>\n",
       "      <td>54192684</td>\n",
       "      <td>1</td>\n",
       "      <td>1</td>\n",
       "    </tr>\n",
       "  </tbody>\n",
       "</table>\n",
       "<p>287 rows × 3 columns</p>\n",
       "</div>"
      ],
      "text/plain": [
       "                       ID  Valor Real  Predicción\n",
       "871    664692681829332904           0           0\n",
       "75               50000091           2           2\n",
       "926              14741430           0           0\n",
       "1088             45948009           0           0\n",
       "97     880548281073496058           0           0\n",
       "...                   ...         ...         ...\n",
       "1278             51044188           0           0\n",
       "1212   975536549265419343           0           0\n",
       "1178  1216083428705095008           0           0\n",
       "429              52932802           1           1\n",
       "1206             54192684           1           1\n",
       "\n",
       "[287 rows x 3 columns]"
      ]
     },
     "execution_count": 358,
     "metadata": {},
     "output_type": "execute_result"
    }
   ],
   "source": [
    "resultados"
   ]
  },
  {
   "cell_type": "code",
   "execution_count": 359,
   "metadata": {},
   "outputs": [],
   "source": [
    "resultados.rename(columns={'ID': 'id_url'}, inplace=True)\n",
    "#df_reseñas = pd.merge(resultados,  on='id_url', how='left') #Ver si se llama asi "
   ]
  },
  {
   "cell_type": "markdown",
   "metadata": {},
   "source": [
    "Entrenado este modelo ahora entreno el otrao modelo depediendo de los clusters"
   ]
  },
  {
   "cell_type": "markdown",
   "metadata": {},
   "source": [
    "### Modelo para predecir precio"
   ]
  },
  {
   "cell_type": "code",
   "execution_count": 360,
   "metadata": {},
   "outputs": [
    {
     "data": {
      "text/html": [
       "<div>\n",
       "<style scoped>\n",
       "    .dataframe tbody tr th:only-of-type {\n",
       "        vertical-align: middle;\n",
       "    }\n",
       "\n",
       "    .dataframe tbody tr th {\n",
       "        vertical-align: top;\n",
       "    }\n",
       "\n",
       "    .dataframe thead th {\n",
       "        text-align: right;\n",
       "    }\n",
       "</style>\n",
       "<table border=\"1\" class=\"dataframe\">\n",
       "  <thead>\n",
       "    <tr style=\"text-align: right;\">\n",
       "      <th></th>\n",
       "      <th>unique_id</th>\n",
       "      <th>title</th>\n",
       "      <th>city</th>\n",
       "      <th>guest_favorite</th>\n",
       "      <th>rating</th>\n",
       "      <th>number_reviews</th>\n",
       "      <th>type_host</th>\n",
       "      <th>hosting_time</th>\n",
       "      <th>price</th>\n",
       "      <th>all_reviews</th>\n",
       "      <th>...</th>\n",
       "      <th>city_Austin</th>\n",
       "      <th>city_Charlotte</th>\n",
       "      <th>city_Chicago</th>\n",
       "      <th>city_Las vegas</th>\n",
       "      <th>city_Miami</th>\n",
       "      <th>city_San Francisco</th>\n",
       "      <th>city_Seattle</th>\n",
       "      <th>type_bathroom_private</th>\n",
       "      <th>type_bathroom_shared</th>\n",
       "      <th>type_bathroom_unknown</th>\n",
       "    </tr>\n",
       "  </thead>\n",
       "  <tbody>\n",
       "    <tr>\n",
       "      <th>2</th>\n",
       "      <td>0064b7c5-d957-42ca-ab61-e4ae8e36d013</td>\n",
       "      <td>Stunning 2Bed Waterview Downtown</td>\n",
       "      <td>Miami</td>\n",
       "      <td>1</td>\n",
       "      <td>4.91</td>\n",
       "      <td>85.0</td>\n",
       "      <td>Superhost</td>\n",
       "      <td>120</td>\n",
       "      <td>359.0</td>\n",
       "      <td>['Thanks again to Eva. Very responsive, met al...</td>\n",
       "      <td>...</td>\n",
       "      <td>0.0</td>\n",
       "      <td>0.0</td>\n",
       "      <td>0.0</td>\n",
       "      <td>0.0</td>\n",
       "      <td>1.0</td>\n",
       "      <td>0.0</td>\n",
       "      <td>0.0</td>\n",
       "      <td>1.0</td>\n",
       "      <td>0.0</td>\n",
       "      <td>0.0</td>\n",
       "    </tr>\n",
       "    <tr>\n",
       "      <th>3</th>\n",
       "      <td>009db955-2045-4a1a-8d2a-283c67670180</td>\n",
       "      <td>Charming &amp; Modern South Park Gem: Pool~Gym~Pkg</td>\n",
       "      <td>Charlotte</td>\n",
       "      <td>1</td>\n",
       "      <td>5.00</td>\n",
       "      <td>9.0</td>\n",
       "      <td>normal_host</td>\n",
       "      <td>2</td>\n",
       "      <td>74.0</td>\n",
       "      <td>['We had an amazing stay! The place was so bea...</td>\n",
       "      <td>...</td>\n",
       "      <td>0.0</td>\n",
       "      <td>1.0</td>\n",
       "      <td>0.0</td>\n",
       "      <td>0.0</td>\n",
       "      <td>0.0</td>\n",
       "      <td>0.0</td>\n",
       "      <td>0.0</td>\n",
       "      <td>1.0</td>\n",
       "      <td>0.0</td>\n",
       "      <td>0.0</td>\n",
       "    </tr>\n",
       "    <tr>\n",
       "      <th>4</th>\n",
       "      <td>00b1a711-fad5-4688-b895-0c0e183c1c44</td>\n",
       "      <td>Relaxing home in SouthEnd Area! Pets are welco...</td>\n",
       "      <td>Charlotte</td>\n",
       "      <td>0</td>\n",
       "      <td>4.69</td>\n",
       "      <td>237.0</td>\n",
       "      <td>Superhost</td>\n",
       "      <td>84</td>\n",
       "      <td>60.0</td>\n",
       "      <td>['Nice place to stay. Literally 15-20 mins fro...</td>\n",
       "      <td>...</td>\n",
       "      <td>0.0</td>\n",
       "      <td>1.0</td>\n",
       "      <td>0.0</td>\n",
       "      <td>0.0</td>\n",
       "      <td>0.0</td>\n",
       "      <td>0.0</td>\n",
       "      <td>0.0</td>\n",
       "      <td>1.0</td>\n",
       "      <td>0.0</td>\n",
       "      <td>0.0</td>\n",
       "    </tr>\n",
       "    <tr>\n",
       "      <th>5</th>\n",
       "      <td>00c126ac-9399-4c9c-ad04-ca1125758ade</td>\n",
       "      <td>Midcentury Farmhouse with Treehouse Cabin</td>\n",
       "      <td>Austin</td>\n",
       "      <td>1</td>\n",
       "      <td>4.99</td>\n",
       "      <td>231.0</td>\n",
       "      <td>Superhost</td>\n",
       "      <td>72</td>\n",
       "      <td>100.0</td>\n",
       "      <td>[\"We had a wonderful stay at Paul's guesthouse...</td>\n",
       "      <td>...</td>\n",
       "      <td>1.0</td>\n",
       "      <td>0.0</td>\n",
       "      <td>0.0</td>\n",
       "      <td>0.0</td>\n",
       "      <td>0.0</td>\n",
       "      <td>0.0</td>\n",
       "      <td>0.0</td>\n",
       "      <td>1.0</td>\n",
       "      <td>0.0</td>\n",
       "      <td>0.0</td>\n",
       "    </tr>\n",
       "    <tr>\n",
       "      <th>6</th>\n",
       "      <td>00f14e20-7c06-4be8-97f9-6b2bd11093b2</td>\n",
       "      <td>Urban Oasis in Vibrant Gold Coast</td>\n",
       "      <td>Chicago</td>\n",
       "      <td>1</td>\n",
       "      <td>4.94</td>\n",
       "      <td>53.0</td>\n",
       "      <td>Superhost</td>\n",
       "      <td>60</td>\n",
       "      <td>182.0</td>\n",
       "      <td>['I had a great stay in a wonderful area of Ch...</td>\n",
       "      <td>...</td>\n",
       "      <td>0.0</td>\n",
       "      <td>0.0</td>\n",
       "      <td>1.0</td>\n",
       "      <td>0.0</td>\n",
       "      <td>0.0</td>\n",
       "      <td>0.0</td>\n",
       "      <td>0.0</td>\n",
       "      <td>1.0</td>\n",
       "      <td>0.0</td>\n",
       "      <td>0.0</td>\n",
       "    </tr>\n",
       "    <tr>\n",
       "      <th>...</th>\n",
       "      <td>...</td>\n",
       "      <td>...</td>\n",
       "      <td>...</td>\n",
       "      <td>...</td>\n",
       "      <td>...</td>\n",
       "      <td>...</td>\n",
       "      <td>...</td>\n",
       "      <td>...</td>\n",
       "      <td>...</td>\n",
       "      <td>...</td>\n",
       "      <td>...</td>\n",
       "      <td>...</td>\n",
       "      <td>...</td>\n",
       "      <td>...</td>\n",
       "      <td>...</td>\n",
       "      <td>...</td>\n",
       "      <td>...</td>\n",
       "      <td>...</td>\n",
       "      <td>...</td>\n",
       "      <td>...</td>\n",
       "      <td>...</td>\n",
       "    </tr>\n",
       "    <tr>\n",
       "      <th>1855</th>\n",
       "      <td>ff2e5e9e-7b3b-47f7-a59c-99954c604b74</td>\n",
       "      <td>adorable suite</td>\n",
       "      <td>Chicago</td>\n",
       "      <td>1</td>\n",
       "      <td>4.87</td>\n",
       "      <td>60.0</td>\n",
       "      <td>Superhost</td>\n",
       "      <td>36</td>\n",
       "      <td>53.0</td>\n",
       "      <td>[\"my 8 day stay at Ricardo's place was very ni...</td>\n",
       "      <td>...</td>\n",
       "      <td>0.0</td>\n",
       "      <td>0.0</td>\n",
       "      <td>1.0</td>\n",
       "      <td>0.0</td>\n",
       "      <td>0.0</td>\n",
       "      <td>0.0</td>\n",
       "      <td>0.0</td>\n",
       "      <td>0.0</td>\n",
       "      <td>1.0</td>\n",
       "      <td>0.0</td>\n",
       "    </tr>\n",
       "    <tr>\n",
       "      <th>1856</th>\n",
       "      <td>ff4b46a6-0a10-4ecf-ab70-e50db752118a</td>\n",
       "      <td>Luxurious apartment in Miami</td>\n",
       "      <td>Miami</td>\n",
       "      <td>0</td>\n",
       "      <td>4.64</td>\n",
       "      <td>11.0</td>\n",
       "      <td>Superhost</td>\n",
       "      <td>24</td>\n",
       "      <td>60.0</td>\n",
       "      <td>['I been to a lot of airbnbs expensive ones at...</td>\n",
       "      <td>...</td>\n",
       "      <td>0.0</td>\n",
       "      <td>0.0</td>\n",
       "      <td>0.0</td>\n",
       "      <td>0.0</td>\n",
       "      <td>1.0</td>\n",
       "      <td>0.0</td>\n",
       "      <td>0.0</td>\n",
       "      <td>1.0</td>\n",
       "      <td>0.0</td>\n",
       "      <td>0.0</td>\n",
       "    </tr>\n",
       "    <tr>\n",
       "      <th>1857</th>\n",
       "      <td>ffa29e8c-bc7e-4e29-92df-3bf826dbfa41</td>\n",
       "      <td>Off Main Millhouse</td>\n",
       "      <td>Charlotte</td>\n",
       "      <td>1</td>\n",
       "      <td>4.96</td>\n",
       "      <td>238.0</td>\n",
       "      <td>Superhost</td>\n",
       "      <td>72</td>\n",
       "      <td>90.0</td>\n",
       "      <td>['We thoroughly enjoyed our stay in this adora...</td>\n",
       "      <td>...</td>\n",
       "      <td>0.0</td>\n",
       "      <td>1.0</td>\n",
       "      <td>0.0</td>\n",
       "      <td>0.0</td>\n",
       "      <td>0.0</td>\n",
       "      <td>0.0</td>\n",
       "      <td>0.0</td>\n",
       "      <td>1.0</td>\n",
       "      <td>0.0</td>\n",
       "      <td>0.0</td>\n",
       "    </tr>\n",
       "    <tr>\n",
       "      <th>1858</th>\n",
       "      <td>ffc778da-391a-4247-8d58-9c1fe5da2210</td>\n",
       "      <td>At Mine | Oriental Zen Queen Suite in Miami</td>\n",
       "      <td>Miami</td>\n",
       "      <td>0</td>\n",
       "      <td>4.84</td>\n",
       "      <td>592.0</td>\n",
       "      <td>Superhost</td>\n",
       "      <td>24</td>\n",
       "      <td>59.0</td>\n",
       "      <td>['Location of the apartment not very good. Aft...</td>\n",
       "      <td>...</td>\n",
       "      <td>0.0</td>\n",
       "      <td>0.0</td>\n",
       "      <td>0.0</td>\n",
       "      <td>0.0</td>\n",
       "      <td>1.0</td>\n",
       "      <td>0.0</td>\n",
       "      <td>0.0</td>\n",
       "      <td>1.0</td>\n",
       "      <td>0.0</td>\n",
       "      <td>0.0</td>\n",
       "    </tr>\n",
       "    <tr>\n",
       "      <th>1859</th>\n",
       "      <td>ffc9a2f7-37fd-4b22-9f3e-cbf5f054f284</td>\n",
       "      <td>Quiet Space with Full-size bed</td>\n",
       "      <td>Las vegas</td>\n",
       "      <td>1</td>\n",
       "      <td>4.94</td>\n",
       "      <td>179.0</td>\n",
       "      <td>Superhost</td>\n",
       "      <td>60</td>\n",
       "      <td>41.0</td>\n",
       "      <td>['Enjoyed my stay here during the hectic CES w...</td>\n",
       "      <td>...</td>\n",
       "      <td>0.0</td>\n",
       "      <td>0.0</td>\n",
       "      <td>0.0</td>\n",
       "      <td>1.0</td>\n",
       "      <td>0.0</td>\n",
       "      <td>0.0</td>\n",
       "      <td>0.0</td>\n",
       "      <td>0.0</td>\n",
       "      <td>1.0</td>\n",
       "      <td>0.0</td>\n",
       "    </tr>\n",
       "  </tbody>\n",
       "</table>\n",
       "<p>1431 rows × 27 columns</p>\n",
       "</div>"
      ],
      "text/plain": [
       "                                 unique_id  \\\n",
       "2     0064b7c5-d957-42ca-ab61-e4ae8e36d013   \n",
       "3     009db955-2045-4a1a-8d2a-283c67670180   \n",
       "4     00b1a711-fad5-4688-b895-0c0e183c1c44   \n",
       "5     00c126ac-9399-4c9c-ad04-ca1125758ade   \n",
       "6     00f14e20-7c06-4be8-97f9-6b2bd11093b2   \n",
       "...                                    ...   \n",
       "1855  ff2e5e9e-7b3b-47f7-a59c-99954c604b74   \n",
       "1856  ff4b46a6-0a10-4ecf-ab70-e50db752118a   \n",
       "1857  ffa29e8c-bc7e-4e29-92df-3bf826dbfa41   \n",
       "1858  ffc778da-391a-4247-8d58-9c1fe5da2210   \n",
       "1859  ffc9a2f7-37fd-4b22-9f3e-cbf5f054f284   \n",
       "\n",
       "                                                  title       city  \\\n",
       "2                      Stunning 2Bed Waterview Downtown      Miami   \n",
       "3        Charming & Modern South Park Gem: Pool~Gym~Pkg  Charlotte   \n",
       "4     Relaxing home in SouthEnd Area! Pets are welco...  Charlotte   \n",
       "5             Midcentury Farmhouse with Treehouse Cabin     Austin   \n",
       "6                     Urban Oasis in Vibrant Gold Coast    Chicago   \n",
       "...                                                 ...        ...   \n",
       "1855                                     adorable suite    Chicago   \n",
       "1856                       Luxurious apartment in Miami      Miami   \n",
       "1857                                 Off Main Millhouse  Charlotte   \n",
       "1858        At Mine | Oriental Zen Queen Suite in Miami      Miami   \n",
       "1859                     Quiet Space with Full-size bed  Las vegas   \n",
       "\n",
       "      guest_favorite  rating  number_reviews    type_host  hosting_time  \\\n",
       "2                  1    4.91            85.0    Superhost           120   \n",
       "3                  1    5.00             9.0  normal_host             2   \n",
       "4                  0    4.69           237.0    Superhost            84   \n",
       "5                  1    4.99           231.0    Superhost            72   \n",
       "6                  1    4.94            53.0    Superhost            60   \n",
       "...              ...     ...             ...          ...           ...   \n",
       "1855               1    4.87            60.0    Superhost            36   \n",
       "1856               0    4.64            11.0    Superhost            24   \n",
       "1857               1    4.96           238.0    Superhost            72   \n",
       "1858               0    4.84           592.0    Superhost            24   \n",
       "1859               1    4.94           179.0    Superhost            60   \n",
       "\n",
       "      price                                        all_reviews  ...  \\\n",
       "2     359.0  ['Thanks again to Eva. Very responsive, met al...  ...   \n",
       "3      74.0  ['We had an amazing stay! The place was so bea...  ...   \n",
       "4      60.0  ['Nice place to stay. Literally 15-20 mins fro...  ...   \n",
       "5     100.0  [\"We had a wonderful stay at Paul's guesthouse...  ...   \n",
       "6     182.0  ['I had a great stay in a wonderful area of Ch...  ...   \n",
       "...     ...                                                ...  ...   \n",
       "1855   53.0  [\"my 8 day stay at Ricardo's place was very ni...  ...   \n",
       "1856   60.0  ['I been to a lot of airbnbs expensive ones at...  ...   \n",
       "1857   90.0  ['We thoroughly enjoyed our stay in this adora...  ...   \n",
       "1858   59.0  ['Location of the apartment not very good. Aft...  ...   \n",
       "1859   41.0  ['Enjoyed my stay here during the hectic CES w...  ...   \n",
       "\n",
       "     city_Austin city_Charlotte  city_Chicago  city_Las vegas  city_Miami  \\\n",
       "2            0.0            0.0           0.0             0.0         1.0   \n",
       "3            0.0            1.0           0.0             0.0         0.0   \n",
       "4            0.0            1.0           0.0             0.0         0.0   \n",
       "5            1.0            0.0           0.0             0.0         0.0   \n",
       "6            0.0            0.0           1.0             0.0         0.0   \n",
       "...          ...            ...           ...             ...         ...   \n",
       "1855         0.0            0.0           1.0             0.0         0.0   \n",
       "1856         0.0            0.0           0.0             0.0         1.0   \n",
       "1857         0.0            1.0           0.0             0.0         0.0   \n",
       "1858         0.0            0.0           0.0             0.0         1.0   \n",
       "1859         0.0            0.0           0.0             1.0         0.0   \n",
       "\n",
       "     city_San Francisco  city_Seattle  type_bathroom_private  \\\n",
       "2                   0.0           0.0                    1.0   \n",
       "3                   0.0           0.0                    1.0   \n",
       "4                   0.0           0.0                    1.0   \n",
       "5                   0.0           0.0                    1.0   \n",
       "6                   0.0           0.0                    1.0   \n",
       "...                 ...           ...                    ...   \n",
       "1855                0.0           0.0                    0.0   \n",
       "1856                0.0           0.0                    1.0   \n",
       "1857                0.0           0.0                    1.0   \n",
       "1858                0.0           0.0                    1.0   \n",
       "1859                0.0           0.0                    0.0   \n",
       "\n",
       "      type_bathroom_shared  type_bathroom_unknown  \n",
       "2                      0.0                    0.0  \n",
       "3                      0.0                    0.0  \n",
       "4                      0.0                    0.0  \n",
       "5                      0.0                    0.0  \n",
       "6                      0.0                    0.0  \n",
       "...                    ...                    ...  \n",
       "1855                   1.0                    0.0  \n",
       "1856                   0.0                    0.0  \n",
       "1857                   0.0                    0.0  \n",
       "1858                   0.0                    0.0  \n",
       "1859                   1.0                    0.0  \n",
       "\n",
       "[1431 rows x 27 columns]"
      ]
     },
     "execution_count": 360,
     "metadata": {},
     "output_type": "execute_result"
    }
   ],
   "source": [
    "df_modelo"
   ]
  },
  {
   "cell_type": "code",
   "execution_count": 361,
   "metadata": {},
   "outputs": [],
   "source": [
    "df_precio = pd.concat([df_modelo_cluster, df_modelo[['price']]], axis=1)\n"
   ]
  },
  {
   "cell_type": "code",
   "execution_count": 362,
   "metadata": {},
   "outputs": [
    {
     "data": {
      "text/html": [
       "<div>\n",
       "<style scoped>\n",
       "    .dataframe tbody tr th:only-of-type {\n",
       "        vertical-align: middle;\n",
       "    }\n",
       "\n",
       "    .dataframe tbody tr th {\n",
       "        vertical-align: top;\n",
       "    }\n",
       "\n",
       "    .dataframe thead th {\n",
       "        text-align: right;\n",
       "    }\n",
       "</style>\n",
       "<table border=\"1\" class=\"dataframe\">\n",
       "  <thead>\n",
       "    <tr style=\"text-align: right;\">\n",
       "      <th></th>\n",
       "      <th>guest_favorite</th>\n",
       "      <th>number_guest</th>\n",
       "      <th>number_bedroom</th>\n",
       "      <th>number_beds</th>\n",
       "      <th>number_bathroom</th>\n",
       "      <th>city_Austin</th>\n",
       "      <th>city_Charlotte</th>\n",
       "      <th>city_Chicago</th>\n",
       "      <th>city_Las vegas</th>\n",
       "      <th>city_Miami</th>\n",
       "      <th>city_San Francisco</th>\n",
       "      <th>city_Seattle</th>\n",
       "      <th>type_bathroom_private</th>\n",
       "      <th>type_bathroom_shared</th>\n",
       "      <th>type_bathroom_unknown</th>\n",
       "      <th>cluster</th>\n",
       "      <th>price</th>\n",
       "    </tr>\n",
       "  </thead>\n",
       "  <tbody>\n",
       "    <tr>\n",
       "      <th>2</th>\n",
       "      <td>1</td>\n",
       "      <td>5.0</td>\n",
       "      <td>2.0</td>\n",
       "      <td>2.0</td>\n",
       "      <td>2.0</td>\n",
       "      <td>0.0</td>\n",
       "      <td>0.0</td>\n",
       "      <td>0.0</td>\n",
       "      <td>0.0</td>\n",
       "      <td>1.0</td>\n",
       "      <td>0.0</td>\n",
       "      <td>0.0</td>\n",
       "      <td>1.0</td>\n",
       "      <td>0.0</td>\n",
       "      <td>0.0</td>\n",
       "      <td>1</td>\n",
       "      <td>359.0</td>\n",
       "    </tr>\n",
       "    <tr>\n",
       "      <th>3</th>\n",
       "      <td>1</td>\n",
       "      <td>6.0</td>\n",
       "      <td>2.0</td>\n",
       "      <td>3.0</td>\n",
       "      <td>1.0</td>\n",
       "      <td>0.0</td>\n",
       "      <td>1.0</td>\n",
       "      <td>0.0</td>\n",
       "      <td>0.0</td>\n",
       "      <td>0.0</td>\n",
       "      <td>0.0</td>\n",
       "      <td>0.0</td>\n",
       "      <td>1.0</td>\n",
       "      <td>0.0</td>\n",
       "      <td>0.0</td>\n",
       "      <td>1</td>\n",
       "      <td>74.0</td>\n",
       "    </tr>\n",
       "    <tr>\n",
       "      <th>4</th>\n",
       "      <td>0</td>\n",
       "      <td>4.0</td>\n",
       "      <td>1.0</td>\n",
       "      <td>1.0</td>\n",
       "      <td>1.0</td>\n",
       "      <td>0.0</td>\n",
       "      <td>1.0</td>\n",
       "      <td>0.0</td>\n",
       "      <td>0.0</td>\n",
       "      <td>0.0</td>\n",
       "      <td>0.0</td>\n",
       "      <td>0.0</td>\n",
       "      <td>1.0</td>\n",
       "      <td>0.0</td>\n",
       "      <td>0.0</td>\n",
       "      <td>0</td>\n",
       "      <td>60.0</td>\n",
       "    </tr>\n",
       "    <tr>\n",
       "      <th>5</th>\n",
       "      <td>1</td>\n",
       "      <td>4.0</td>\n",
       "      <td>1.0</td>\n",
       "      <td>1.0</td>\n",
       "      <td>1.0</td>\n",
       "      <td>1.0</td>\n",
       "      <td>0.0</td>\n",
       "      <td>0.0</td>\n",
       "      <td>0.0</td>\n",
       "      <td>0.0</td>\n",
       "      <td>0.0</td>\n",
       "      <td>0.0</td>\n",
       "      <td>1.0</td>\n",
       "      <td>0.0</td>\n",
       "      <td>0.0</td>\n",
       "      <td>0</td>\n",
       "      <td>100.0</td>\n",
       "    </tr>\n",
       "    <tr>\n",
       "      <th>6</th>\n",
       "      <td>1</td>\n",
       "      <td>2.0</td>\n",
       "      <td>1.0</td>\n",
       "      <td>1.0</td>\n",
       "      <td>5.0</td>\n",
       "      <td>0.0</td>\n",
       "      <td>0.0</td>\n",
       "      <td>1.0</td>\n",
       "      <td>0.0</td>\n",
       "      <td>0.0</td>\n",
       "      <td>0.0</td>\n",
       "      <td>0.0</td>\n",
       "      <td>1.0</td>\n",
       "      <td>0.0</td>\n",
       "      <td>0.0</td>\n",
       "      <td>0</td>\n",
       "      <td>182.0</td>\n",
       "    </tr>\n",
       "    <tr>\n",
       "      <th>...</th>\n",
       "      <td>...</td>\n",
       "      <td>...</td>\n",
       "      <td>...</td>\n",
       "      <td>...</td>\n",
       "      <td>...</td>\n",
       "      <td>...</td>\n",
       "      <td>...</td>\n",
       "      <td>...</td>\n",
       "      <td>...</td>\n",
       "      <td>...</td>\n",
       "      <td>...</td>\n",
       "      <td>...</td>\n",
       "      <td>...</td>\n",
       "      <td>...</td>\n",
       "      <td>...</td>\n",
       "      <td>...</td>\n",
       "      <td>...</td>\n",
       "    </tr>\n",
       "    <tr>\n",
       "      <th>1855</th>\n",
       "      <td>1</td>\n",
       "      <td>0.0</td>\n",
       "      <td>0.0</td>\n",
       "      <td>1.0</td>\n",
       "      <td>1.0</td>\n",
       "      <td>0.0</td>\n",
       "      <td>0.0</td>\n",
       "      <td>1.0</td>\n",
       "      <td>0.0</td>\n",
       "      <td>0.0</td>\n",
       "      <td>0.0</td>\n",
       "      <td>0.0</td>\n",
       "      <td>0.0</td>\n",
       "      <td>1.0</td>\n",
       "      <td>0.0</td>\n",
       "      <td>2</td>\n",
       "      <td>53.0</td>\n",
       "    </tr>\n",
       "    <tr>\n",
       "      <th>1856</th>\n",
       "      <td>0</td>\n",
       "      <td>4.0</td>\n",
       "      <td>1.0</td>\n",
       "      <td>1.0</td>\n",
       "      <td>1.0</td>\n",
       "      <td>0.0</td>\n",
       "      <td>0.0</td>\n",
       "      <td>0.0</td>\n",
       "      <td>0.0</td>\n",
       "      <td>1.0</td>\n",
       "      <td>0.0</td>\n",
       "      <td>0.0</td>\n",
       "      <td>1.0</td>\n",
       "      <td>0.0</td>\n",
       "      <td>0.0</td>\n",
       "      <td>0</td>\n",
       "      <td>60.0</td>\n",
       "    </tr>\n",
       "    <tr>\n",
       "      <th>1857</th>\n",
       "      <td>1</td>\n",
       "      <td>7.0</td>\n",
       "      <td>3.0</td>\n",
       "      <td>3.0</td>\n",
       "      <td>2.0</td>\n",
       "      <td>0.0</td>\n",
       "      <td>1.0</td>\n",
       "      <td>0.0</td>\n",
       "      <td>0.0</td>\n",
       "      <td>0.0</td>\n",
       "      <td>0.0</td>\n",
       "      <td>0.0</td>\n",
       "      <td>1.0</td>\n",
       "      <td>0.0</td>\n",
       "      <td>0.0</td>\n",
       "      <td>1</td>\n",
       "      <td>90.0</td>\n",
       "    </tr>\n",
       "    <tr>\n",
       "      <th>1858</th>\n",
       "      <td>0</td>\n",
       "      <td>2.0</td>\n",
       "      <td>1.0</td>\n",
       "      <td>1.0</td>\n",
       "      <td>1.0</td>\n",
       "      <td>0.0</td>\n",
       "      <td>0.0</td>\n",
       "      <td>0.0</td>\n",
       "      <td>0.0</td>\n",
       "      <td>1.0</td>\n",
       "      <td>0.0</td>\n",
       "      <td>0.0</td>\n",
       "      <td>1.0</td>\n",
       "      <td>0.0</td>\n",
       "      <td>0.0</td>\n",
       "      <td>0</td>\n",
       "      <td>59.0</td>\n",
       "    </tr>\n",
       "    <tr>\n",
       "      <th>1859</th>\n",
       "      <td>1</td>\n",
       "      <td>0.0</td>\n",
       "      <td>0.0</td>\n",
       "      <td>1.0</td>\n",
       "      <td>1.0</td>\n",
       "      <td>0.0</td>\n",
       "      <td>0.0</td>\n",
       "      <td>0.0</td>\n",
       "      <td>1.0</td>\n",
       "      <td>0.0</td>\n",
       "      <td>0.0</td>\n",
       "      <td>0.0</td>\n",
       "      <td>0.0</td>\n",
       "      <td>1.0</td>\n",
       "      <td>0.0</td>\n",
       "      <td>2</td>\n",
       "      <td>41.0</td>\n",
       "    </tr>\n",
       "  </tbody>\n",
       "</table>\n",
       "<p>1431 rows × 17 columns</p>\n",
       "</div>"
      ],
      "text/plain": [
       "      guest_favorite  number_guest  number_bedroom  number_beds  \\\n",
       "2                  1           5.0             2.0          2.0   \n",
       "3                  1           6.0             2.0          3.0   \n",
       "4                  0           4.0             1.0          1.0   \n",
       "5                  1           4.0             1.0          1.0   \n",
       "6                  1           2.0             1.0          1.0   \n",
       "...              ...           ...             ...          ...   \n",
       "1855               1           0.0             0.0          1.0   \n",
       "1856               0           4.0             1.0          1.0   \n",
       "1857               1           7.0             3.0          3.0   \n",
       "1858               0           2.0             1.0          1.0   \n",
       "1859               1           0.0             0.0          1.0   \n",
       "\n",
       "      number_bathroom  city_Austin  city_Charlotte  city_Chicago  \\\n",
       "2                 2.0          0.0             0.0           0.0   \n",
       "3                 1.0          0.0             1.0           0.0   \n",
       "4                 1.0          0.0             1.0           0.0   \n",
       "5                 1.0          1.0             0.0           0.0   \n",
       "6                 5.0          0.0             0.0           1.0   \n",
       "...               ...          ...             ...           ...   \n",
       "1855              1.0          0.0             0.0           1.0   \n",
       "1856              1.0          0.0             0.0           0.0   \n",
       "1857              2.0          0.0             1.0           0.0   \n",
       "1858              1.0          0.0             0.0           0.0   \n",
       "1859              1.0          0.0             0.0           0.0   \n",
       "\n",
       "      city_Las vegas  city_Miami  city_San Francisco  city_Seattle  \\\n",
       "2                0.0         1.0                 0.0           0.0   \n",
       "3                0.0         0.0                 0.0           0.0   \n",
       "4                0.0         0.0                 0.0           0.0   \n",
       "5                0.0         0.0                 0.0           0.0   \n",
       "6                0.0         0.0                 0.0           0.0   \n",
       "...              ...         ...                 ...           ...   \n",
       "1855             0.0         0.0                 0.0           0.0   \n",
       "1856             0.0         1.0                 0.0           0.0   \n",
       "1857             0.0         0.0                 0.0           0.0   \n",
       "1858             0.0         1.0                 0.0           0.0   \n",
       "1859             1.0         0.0                 0.0           0.0   \n",
       "\n",
       "      type_bathroom_private  type_bathroom_shared  type_bathroom_unknown  \\\n",
       "2                       1.0                   0.0                    0.0   \n",
       "3                       1.0                   0.0                    0.0   \n",
       "4                       1.0                   0.0                    0.0   \n",
       "5                       1.0                   0.0                    0.0   \n",
       "6                       1.0                   0.0                    0.0   \n",
       "...                     ...                   ...                    ...   \n",
       "1855                    0.0                   1.0                    0.0   \n",
       "1856                    1.0                   0.0                    0.0   \n",
       "1857                    1.0                   0.0                    0.0   \n",
       "1858                    1.0                   0.0                    0.0   \n",
       "1859                    0.0                   1.0                    0.0   \n",
       "\n",
       "      cluster  price  \n",
       "2           1  359.0  \n",
       "3           1   74.0  \n",
       "4           0   60.0  \n",
       "5           0  100.0  \n",
       "6           0  182.0  \n",
       "...       ...    ...  \n",
       "1855        2   53.0  \n",
       "1856        0   60.0  \n",
       "1857        1   90.0  \n",
       "1858        0   59.0  \n",
       "1859        2   41.0  \n",
       "\n",
       "[1431 rows x 17 columns]"
      ]
     },
     "execution_count": 362,
     "metadata": {},
     "output_type": "execute_result"
    }
   ],
   "source": [
    "df_precio"
   ]
  },
  {
   "cell_type": "code",
   "execution_count": 363,
   "metadata": {},
   "outputs": [],
   "source": [
    "df_precio_cluster_0 = df_precio[df_precio['cluster'] == 0]  # DataFrame para cluster 0\n",
    "df_precio_cluster_1 = df_precio[df_precio['cluster'] == 1]  # DataFrame para cluster 1\n",
    "#df_precio_cluster_2 = df_precio[df_precio['cluster'] == 2]"
   ]
  },
  {
   "cell_type": "code",
   "execution_count": 364,
   "metadata": {},
   "outputs": [],
   "source": [
    "def graficar_predicciones_vs_reales(y_test, y_pred, nombre_modelo):\n",
    "    # Crear la figura\n",
    "    fig = go.Figure()\n",
    "\n",
    "    # Añadir la traza para los valores reales\n",
    "    fig.add_trace(go.Scatter(\n",
    "        x=y_test,\n",
    "        y=y_pred,\n",
    "        mode='markers',\n",
    "        name='Predicciones',\n",
    "        marker=dict(color='blue', size=10),\n",
    "        hovertext=[f'Real: {real}<br>Predicción: {pred}' for real, pred in zip(y_test, y_pred)]\n",
    "    ))\n",
    "\n",
    "    # Añadir la línea de referencia (y=x) para facilitar la comparación\n",
    "    fig.add_trace(go.Scatter(\n",
    "        x=y_test,\n",
    "        y=y_test,\n",
    "        mode='lines',\n",
    "        name='Valor Real',\n",
    "        line=dict(color='red', dash='dash')\n",
    "    ))\n",
    "\n",
    "    # Configurar el layout del gráfico\n",
    "    fig.update_layout(\n",
    "        title=f'Predicciones vs Valores Reales - {nombre_modelo}',\n",
    "        xaxis_title='Valores Reales',\n",
    "        yaxis_title='Predicciones',\n",
    "        width=700,\n",
    "        height=500,\n",
    "        showlegend=True,\n",
    "        xaxis=dict(showgrid=True),\n",
    "        yaxis=dict(showgrid=True)\n",
    "    )\n",
    "\n",
    "    # Mostrar el gráfico\n",
    "    fig.show()\n",
    "\n",
    "\n",
    "from sklearn.linear_model import LinearRegression\n",
    "from sklearn.neighbors import KNeighborsRegressor\n",
    "from sklearn.tree import DecisionTreeRegressor\n",
    "from sklearn.ensemble import RandomForestRegressor, AdaBoostRegressor, GradientBoostingRegressor\n",
    "from sklearn.svm import SVR\n",
    "from sklearn.model_selection import train_test_split\n",
    "from sklearn.metrics import r2_score, mean_squared_error, mean_absolute_error\n",
    "import numpy as np\n",
    "import pandas as pd\n",
    "from sklearn.linear_model import LinearRegression\n",
    "from sklearn.neighbors import KNeighborsRegressor\n",
    "from sklearn.tree import DecisionTreeRegressor\n",
    "from sklearn.ensemble import RandomForestRegressor, AdaBoostRegressor, GradientBoostingRegressor\n",
    "from sklearn.svm import SVR\n",
    "from sklearn.model_selection import train_test_split\n",
    "from sklearn.metrics import r2_score, mean_squared_error, mean_absolute_error\n",
    "import numpy as np\n",
    "import pandas as pd\n",
    "\n",
    "def evaluate_models(X, y):\n",
    "    # Lista de modelos de regresión\n",
    "    modelos = [\n",
    "        LinearRegression(),\n",
    "        KNeighborsRegressor(),\n",
    "        DecisionTreeRegressor(),\n",
    "        RandomForestRegressor(),\n",
    "        SVR(),\n",
    "        AdaBoostRegressor(),\n",
    "        GradientBoostingRegressor()\n",
    "    ]\n",
    "\n",
    "    nombres = [\n",
    "        'LinearRegression',\n",
    "        'KNeighborsRegressor',\n",
    "        'DecisionTreeRegressor',\n",
    "        'RandomForestRegressor',\n",
    "        'SVR',\n",
    "        'AdaBoostRegressor',\n",
    "        'GradientBoostingRegressor'\n",
    "    ]\n",
    "\n",
    "    # DataFrame para acumular los resultados\n",
    "    resultados = pd.DataFrame(columns=['Model', 'R2', 'RMSE', 'MAE'])\n",
    "    \n",
    "    # Definir variables para guardar el mejor modelo\n",
    "    mejor_r2 = -np.inf  # R2 más alto es mejor\n",
    "    mejor_y_test = None\n",
    "    mejor_y_pred = None\n",
    "    mejor_modelo = None\n",
    "    mejor_nombre = None\n",
    "    percentil_inferior = None\n",
    "    percentil_superior = None\n",
    "\n",
    "    # Entrenar y evaluar cada modelo\n",
    "    for modelo, nombre in zip(modelos, nombres):\n",
    "        # División del dataset\n",
    "        X_train, X_test, y_train, y_test = train_test_split(X, y, test_size=0.2, random_state=42)\n",
    "\n",
    "        # Entrenar el modelo\n",
    "        modelo.fit(X_train, y_train)\n",
    "        y_pred = modelo.predict(X_test)\n",
    "\n",
    "        # Métricas para evaluar el modelo\n",
    "        r2 = r2_score(y_test, y_pred)\n",
    "        rmse = np.sqrt(mean_squared_error(y_test, y_pred))\n",
    "        mae = mean_absolute_error(y_test, y_pred)\n",
    "        \n",
    "        # Calcular los errores absolutos\n",
    "        errores_absolutos = np.abs(y_test - y_pred)\n",
    "        \n",
    "        # Calcular percentiles\n",
    "        p_inferior = np.percentile(errores_absolutos, 10)  # 10% más bajo\n",
    "        p_superior = np.percentile(errores_absolutos, 90)  # 90% más alto\n",
    "\n",
    "        # Guardar el mejor modelo según el R2\n",
    "        if r2 > mejor_r2:\n",
    "            mejor_r2 = r2\n",
    "            mejor_y_test = y_test\n",
    "            mejor_y_pred = y_pred\n",
    "            mejor_modelo = modelo\n",
    "            mejor_nombre = nombre\n",
    "            percentil_inferior = p_inferior\n",
    "            percentil_superior = p_superior\n",
    "\n",
    "        # Crear un DataFrame con los resultados del modelo actual\n",
    "        modelo_df = pd.DataFrame({\n",
    "            'Model': [nombre],\n",
    "            'R2': [r2],\n",
    "            'RMSE': [rmse],\n",
    "            'MAE': [mae],\n",
    "            'Percentil Inferior (10%)': [p_inferior],\n",
    "            'Percentil Superior (90%)': [p_superior]\n",
    "        })\n",
    "\n",
    "        # Mostrar las métricas\n",
    "        print(f'Modelo: {nombre}\\nR2: {r2}, RMSE: {rmse}, MAE: {mae}, Percentil Inferior: {p_inferior}, Percentil Superior: {p_superior}\\n')\n",
    "        resultados = pd.concat([resultados, modelo_df], ignore_index=True)\n",
    "\n",
    "    # Imprimir los valores de y_test y y_pred del mejor modelo\n",
    "    resultados_comparados = np.column_stack((mejor_y_test, mejor_y_pred))\n",
    "    print(\"\\nValores reales vs predicciones del mejor modelo:\")\n",
    "    print(resultados_comparados)\n",
    "\n",
    "    # Graficar predicciones vs valores reales\n",
    "    graficar_predicciones_vs_reales(mejor_y_test, mejor_y_pred, mejor_nombre)\n",
    "\n",
    "    # Retornar resultados, datos de entrenamiento, el mejor modelo entrenado y los percentiles del error absoluto\n",
    "    return resultados, X_train, y_train, mejor_modelo, percentil_inferior, percentil_superior\n",
    "\n",
    "\n",
    "\n",
    "\n"
   ]
  },
  {
   "cell_type": "code",
   "execution_count": 365,
   "metadata": {},
   "outputs": [
    {
     "name": "stdout",
     "output_type": "stream",
     "text": [
      "Modelo: LinearRegression\n",
      "R2: 0.38205572359367723, RMSE: 46.59689892376859, MAE: 28.71493405358802, Percentil Inferior: 3.6665386556356565, Percentil Superior: 57.22600147204364\n",
      "\n",
      "Modelo: KNeighborsRegressor\n",
      "R2: 0.006153460172307557, RMSE: 59.09381427033985, MAE: 40.025087108013935, Percentil Inferior: 4.400000000000006, Percentil Superior: 84.56000000000002\n",
      "\n",
      "Modelo: DecisionTreeRegressor\n",
      "R2: 0.21960800443010198, RMSE: 52.36471702253507, MAE: 32.58710801393728, Percentil Inferior: 0.0, Percentil Superior: 81.40000000000003\n",
      "\n"
     ]
    },
    {
     "name": "stderr",
     "output_type": "stream",
     "text": [
      "/var/folders/7h/qmh6bk5x34g5j30ygn0wjywr0000gn/T/ipykernel_1991/381939984.py:136: FutureWarning:\n",
      "\n",
      "The behavior of DataFrame concatenation with empty or all-NA entries is deprecated. In a future version, this will no longer exclude empty or all-NA columns when determining the result dtypes. To retain the old behavior, exclude the relevant entries before the concat operation.\n",
      "\n"
     ]
    },
    {
     "name": "stdout",
     "output_type": "stream",
     "text": [
      "Modelo: RandomForestRegressor\n",
      "R2: 0.49907217503268797, RMSE: 41.95366788256922, MAE: 26.101965156794428, Percentil Inferior: 1.5759999999999992, Percentil Superior: 56.656000000000006\n",
      "\n",
      "Modelo: SVR\n",
      "R2: -0.03765262211018161, RMSE: 60.38211928600666, MAE: 37.33892816354501, Percentil Inferior: 4.424991139559782, Percentil Superior: 77.429926177635\n",
      "\n",
      "Modelo: AdaBoostRegressor\n",
      "R2: 0.2194272425202589, RMSE: 52.37078128142633, MAE: 37.7645903143699, Percentil Inferior: 8.67863247863248, Percentil Superior: 60.78824457593689\n",
      "\n",
      "Modelo: GradientBoostingRegressor\n",
      "R2: 0.4941720050271179, RMSE: 42.158367824417795, MAE: 26.6744940881292, Percentil Inferior: 3.4517123561575973, Percentil Superior: 55.97609037766837\n",
      "\n",
      "\n",
      "Valores reales vs predicciones del mejor modelo:\n",
      "[[ 85.         115.4       ]\n",
      " [ 85.         100.42      ]\n",
      " [ 91.         102.24      ]\n",
      " [ 99.         112.25      ]\n",
      " [116.         115.1       ]\n",
      " [ 88.         112.31      ]\n",
      " [120.          80.86      ]\n",
      " [114.         155.04      ]\n",
      " [ 42.          32.63      ]\n",
      " [ 92.         107.2       ]\n",
      " [ 67.          84.07      ]\n",
      " [182.          90.82      ]\n",
      " [ 74.          83.38      ]\n",
      " [353.         174.14      ]\n",
      " [ 85.          84.66      ]\n",
      " [ 60.          81.55      ]\n",
      " [ 66.          82.24      ]\n",
      " [ 55.          80.79      ]\n",
      " [ 60.          80.94      ]\n",
      " [134.         101.08      ]\n",
      " [108.         131.02      ]\n",
      " [ 92.         103.45      ]\n",
      " [ 72.          82.11      ]\n",
      " [ 70.          83.05      ]\n",
      " [102.          84.84416667]\n",
      " [110.          58.13      ]\n",
      " [ 92.         108.89      ]\n",
      " [202.         176.88      ]\n",
      " [102.         102.55      ]\n",
      " [ 71.          99.68      ]\n",
      " [ 75.          98.69      ]\n",
      " [ 60.          75.54257143]\n",
      " [107.         104.71      ]\n",
      " [ 90.          87.63      ]\n",
      " [161.         120.61      ]\n",
      " [124.         157.68      ]\n",
      " [ 69.         109.67      ]\n",
      " [ 72.          89.2       ]\n",
      " [ 94.          86.65      ]\n",
      " [110.         158.63      ]\n",
      " [177.         139.68      ]\n",
      " [140.         135.51      ]\n",
      " [ 78.          77.61      ]\n",
      " [100.          86.23      ]\n",
      " [ 57.          40.75      ]\n",
      " [ 60.          87.49      ]\n",
      " [ 66.          44.05      ]\n",
      " [ 61.          65.89      ]\n",
      " [ 36.          41.03      ]\n",
      " [345.         168.12      ]\n",
      " [105.         108.57      ]\n",
      " [ 52.          92.08      ]\n",
      " [144.          96.2       ]\n",
      " [ 63.          61.43      ]\n",
      " [ 98.         133.26      ]\n",
      " [ 79.         111.7       ]\n",
      " [ 63.          99.73      ]\n",
      " [ 92.         122.41      ]\n",
      " [ 67.          68.12      ]\n",
      " [115.         107.9       ]\n",
      " [ 30.          31.99      ]\n",
      " [121.          73.04      ]\n",
      " [132.          98.29      ]\n",
      " [109.         103.95      ]\n",
      " [108.          96.81      ]\n",
      " [ 83.          85.27      ]\n",
      " [ 62.          43.72      ]\n",
      " [ 21.          43.25      ]\n",
      " [ 60.          68.61      ]\n",
      " [ 83.          89.65      ]\n",
      " [ 34.          49.62      ]\n",
      " [197.         182.13      ]\n",
      " [ 77.         125.35      ]\n",
      " [ 48.          46.54      ]\n",
      " [ 71.          69.54      ]\n",
      " [258.         186.48      ]\n",
      " [ 91.         136.12      ]\n",
      " [ 51.          87.16      ]\n",
      " [391.         178.51      ]\n",
      " [138.         136.86      ]\n",
      " [104.         105.39      ]\n",
      " [ 49.          48.95      ]\n",
      " [ 92.          95.18      ]\n",
      " [ 59.          60.24      ]\n",
      " [ 69.          92.51      ]\n",
      " [ 36.          46.68      ]\n",
      " [552.         278.04      ]\n",
      " [ 91.          66.89      ]\n",
      " [ 87.         102.89      ]\n",
      " [ 99.         135.33      ]\n",
      " [ 92.          94.74      ]\n",
      " [ 97.          96.87      ]\n",
      " [129.         128.19      ]\n",
      " [ 75.          81.7       ]\n",
      " [122.          59.38      ]\n",
      " [ 73.          75.99      ]\n",
      " [183.         155.55      ]\n",
      " [ 66.          99.99      ]\n",
      " [ 75.          87.41      ]\n",
      " [120.          92.91      ]\n",
      " [ 52.          49.19      ]\n",
      " [ 69.          91.75      ]\n",
      " [ 88.          86.45666667]\n",
      " [115.         100.47      ]\n",
      " [102.          75.53      ]\n",
      " [ 60.          62.615     ]\n",
      " [ 88.          86.71      ]\n",
      " [ 92.          62.44833333]\n",
      " [ 68.          92.47      ]\n",
      " [106.         103.41      ]\n",
      " [ 87.          83.8       ]\n",
      " [170.         109.6       ]\n",
      " [230.         198.53      ]\n",
      " [ 60.          75.92      ]\n",
      " [ 63.          64.        ]\n",
      " [ 81.          70.61      ]\n",
      " [ 45.          67.34      ]\n",
      " [ 74.          85.24      ]\n",
      " [ 98.          83.45      ]\n",
      " [118.         113.99      ]\n",
      " [ 57.          61.72      ]\n",
      " [135.         133.69      ]\n",
      " [ 63.         125.08      ]\n",
      " [ 84.          87.55      ]\n",
      " [215.         149.28      ]\n",
      " [120.          94.77797619]\n",
      " [ 73.          76.39      ]\n",
      " [120.         140.67      ]\n",
      " [ 28.          29.89      ]\n",
      " [ 79.          93.4       ]\n",
      " [101.          87.1125    ]\n",
      " [ 94.          86.64      ]\n",
      " [ 62.          46.85      ]\n",
      " [139.         100.97      ]\n",
      " [ 69.          60.27      ]\n",
      " [ 83.         104.66      ]\n",
      " [192.          86.75      ]\n",
      " [166.         179.33      ]\n",
      " [ 91.          93.19      ]\n",
      " [ 97.         162.88      ]\n",
      " [ 96.          84.07      ]\n",
      " [ 84.          70.745     ]\n",
      " [ 74.          85.51      ]\n",
      " [ 60.          86.26      ]\n",
      " [ 84.         119.03      ]\n",
      " [116.         172.74      ]\n",
      " [ 72.          78.03      ]\n",
      " [303.         173.73      ]\n",
      " [ 34.          45.1       ]\n",
      " [116.         170.08      ]\n",
      " [100.         122.7       ]\n",
      " [ 80.         100.74      ]\n",
      " [188.         153.6       ]\n",
      " [103.          92.33      ]\n",
      " [232.         137.9       ]\n",
      " [ 89.          93.89      ]\n",
      " [ 53.          92.37      ]\n",
      " [ 66.          63.71      ]\n",
      " [116.         231.71      ]\n",
      " [108.         109.58      ]\n",
      " [  7.          66.54      ]\n",
      " [ 50.          89.73      ]\n",
      " [ 29.          29.89      ]\n",
      " [ 83.          83.22      ]\n",
      " [118.         106.44      ]\n",
      " [147.         169.95      ]\n",
      " [ 74.          89.97      ]\n",
      " [111.          78.57      ]\n",
      " [ 84.          82.27      ]\n",
      " [ 64.          71.62      ]\n",
      " [151.         136.03      ]\n",
      " [ 72.         100.48      ]\n",
      " [ 33.          30.81      ]\n",
      " [ 67.          89.03      ]\n",
      " [ 46.          46.81      ]\n",
      " [ 92.          87.38      ]\n",
      " [138.         106.25      ]\n",
      " [ 69.          72.61      ]\n",
      " [137.         108.39      ]\n",
      " [ 74.          95.05      ]\n",
      " [ 63.          66.96      ]\n",
      " [131.         100.19      ]\n",
      " [195.         223.        ]\n",
      " [ 88.          85.19      ]\n",
      " [161.          84.22      ]\n",
      " [ 55.          59.09      ]\n",
      " [170.          93.38      ]\n",
      " [170.         106.21      ]\n",
      " [ 40.          62.11      ]\n",
      " [141.         155.81      ]\n",
      " [120.         106.83      ]\n",
      " [ 63.          76.22      ]\n",
      " [ 77.          81.6       ]\n",
      " [ 77.         129.13666667]\n",
      " [ 68.         100.16      ]\n",
      " [113.          93.1       ]\n",
      " [ 82.          99.7       ]\n",
      " [ 87.          83.35      ]\n",
      " [139.          86.7875    ]\n",
      " [ 83.          82.02      ]\n",
      " [ 91.          88.56      ]\n",
      " [ 55.          58.6       ]\n",
      " [ 55.          74.1       ]\n",
      " [113.          95.72      ]\n",
      " [ 73.          92.32      ]\n",
      " [108.         114.5       ]\n",
      " [104.         103.74      ]\n",
      " [134.         153.02      ]\n",
      " [124.         121.52      ]\n",
      " [ 66.         113.26857143]\n",
      " [ 95.         106.12      ]\n",
      " [ 17.         200.43      ]\n",
      " [275.         175.65      ]\n",
      " [ 59.          44.71      ]\n",
      " [105.         152.84      ]\n",
      " [193.         154.69      ]\n",
      " [205.         176.44      ]\n",
      " [ 64.          58.65      ]\n",
      " [ 78.          77.86      ]\n",
      " [118.         139.13      ]\n",
      " [210.         203.54      ]\n",
      " [ 80.         134.84      ]\n",
      " [ 99.          98.96      ]\n",
      " [161.         140.89      ]\n",
      " [ 92.         107.2       ]\n",
      " [216.         159.79      ]\n",
      " [ 80.          74.14      ]\n",
      " [ 89.          77.8       ]\n",
      " [ 68.          93.06      ]\n",
      " [129.         118.2       ]\n",
      " [ 64.          54.95      ]\n",
      " [ 55.          59.12      ]\n",
      " [ 40.          71.84      ]\n",
      " [138.          84.84      ]\n",
      " [134.          89.35      ]\n",
      " [ 79.         109.37      ]\n",
      " [143.          82.74      ]\n",
      " [ 21.          43.25      ]\n",
      " [ 75.          88.49      ]\n",
      " [138.         159.69      ]\n",
      " [187.         130.4       ]\n",
      " [ 62.          88.46      ]\n",
      " [ 56.          52.23      ]\n",
      " [ 95.          78.66      ]\n",
      " [154.          84.84      ]\n",
      " [ 87.          84.53      ]\n",
      " [164.         135.78      ]\n",
      " [110.         120.07      ]\n",
      " [ 86.         166.1       ]\n",
      " [ 60.         128.65      ]\n",
      " [152.         158.81      ]\n",
      " [ 29.          29.85      ]\n",
      " [ 97.         106.31      ]\n",
      " [ 70.          95.73      ]\n",
      " [136.          98.93666667]\n",
      " [ 70.         119.15      ]\n",
      " [108.         100.47      ]\n",
      " [102.         121.94      ]\n",
      " [121.          82.78      ]\n",
      " [ 56.         100.77      ]\n",
      " [ 28.          31.36      ]\n",
      " [115.         169.29      ]\n",
      " [ 69.          82.75      ]\n",
      " [135.         133.69      ]\n",
      " [144.          83.64      ]\n",
      " [101.         135.6       ]\n",
      " [ 85.         111.5       ]\n",
      " [106.         101.05      ]\n",
      " [ 37.          41.24      ]\n",
      " [ 87.         114.4       ]\n",
      " [ 46.          45.14      ]\n",
      " [ 77.          99.22      ]\n",
      " [ 99.         100.41      ]\n",
      " [111.         132.2       ]\n",
      " [ 91.          83.73      ]\n",
      " [ 54.          66.51      ]\n",
      " [126.          71.84      ]\n",
      " [ 75.          72.95      ]\n",
      " [ 56.          93.17      ]\n",
      " [ 58.          75.4       ]\n",
      " [216.         152.2       ]\n",
      " [ 91.         102.38      ]\n",
      " [ 60.          96.99      ]\n",
      " [132.         198.01      ]\n",
      " [124.         113.84      ]\n",
      " [139.          97.35      ]\n",
      " [204.         180.35      ]]\n"
     ]
    },
    {
     "data": {
      "application/vnd.plotly.v1+json": {
       "config": {
        "plotlyServerURL": "https://plot.ly"
       },
       "data": [
        {
         "hovertext": [
          "Real: 85.0<br>Predicción: 115.4",
          "Real: 85.0<br>Predicción: 100.42",
          "Real: 91.0<br>Predicción: 102.24",
          "Real: 99.0<br>Predicción: 112.25",
          "Real: 116.0<br>Predicción: 115.1",
          "Real: 88.0<br>Predicción: 112.31",
          "Real: 120.0<br>Predicción: 80.86",
          "Real: 114.0<br>Predicción: 155.04",
          "Real: 42.0<br>Predicción: 32.63",
          "Real: 92.0<br>Predicción: 107.2",
          "Real: 67.0<br>Predicción: 84.07",
          "Real: 182.0<br>Predicción: 90.82",
          "Real: 74.0<br>Predicción: 83.38",
          "Real: 353.0<br>Predicción: 174.14",
          "Real: 85.0<br>Predicción: 84.66",
          "Real: 60.0<br>Predicción: 81.55",
          "Real: 66.0<br>Predicción: 82.24",
          "Real: 55.0<br>Predicción: 80.79",
          "Real: 60.0<br>Predicción: 80.94",
          "Real: 134.0<br>Predicción: 101.08",
          "Real: 108.0<br>Predicción: 131.02",
          "Real: 92.0<br>Predicción: 103.45",
          "Real: 72.0<br>Predicción: 82.11",
          "Real: 70.0<br>Predicción: 83.05",
          "Real: 102.0<br>Predicción: 84.84416666666668",
          "Real: 110.0<br>Predicción: 58.13",
          "Real: 92.0<br>Predicción: 108.89",
          "Real: 202.0<br>Predicción: 176.88",
          "Real: 102.0<br>Predicción: 102.55",
          "Real: 71.0<br>Predicción: 99.68",
          "Real: 75.0<br>Predicción: 98.69",
          "Real: 60.0<br>Predicción: 75.54257142857143",
          "Real: 107.0<br>Predicción: 104.71",
          "Real: 90.0<br>Predicción: 87.63",
          "Real: 161.0<br>Predicción: 120.61",
          "Real: 124.0<br>Predicción: 157.68",
          "Real: 69.0<br>Predicción: 109.67",
          "Real: 72.0<br>Predicción: 89.2",
          "Real: 94.0<br>Predicción: 86.65",
          "Real: 110.0<br>Predicción: 158.63",
          "Real: 177.0<br>Predicción: 139.68",
          "Real: 140.0<br>Predicción: 135.51",
          "Real: 78.0<br>Predicción: 77.61",
          "Real: 100.0<br>Predicción: 86.23",
          "Real: 57.0<br>Predicción: 40.75",
          "Real: 60.0<br>Predicción: 87.49",
          "Real: 66.0<br>Predicción: 44.05",
          "Real: 61.0<br>Predicción: 65.89",
          "Real: 36.0<br>Predicción: 41.03",
          "Real: 345.0<br>Predicción: 168.12",
          "Real: 105.0<br>Predicción: 108.57",
          "Real: 52.0<br>Predicción: 92.08",
          "Real: 144.0<br>Predicción: 96.2",
          "Real: 63.0<br>Predicción: 61.43",
          "Real: 98.0<br>Predicción: 133.26",
          "Real: 79.0<br>Predicción: 111.7",
          "Real: 63.0<br>Predicción: 99.73",
          "Real: 92.0<br>Predicción: 122.41",
          "Real: 67.0<br>Predicción: 68.12",
          "Real: 115.0<br>Predicción: 107.9",
          "Real: 30.0<br>Predicción: 31.99",
          "Real: 121.0<br>Predicción: 73.04",
          "Real: 132.0<br>Predicción: 98.29",
          "Real: 109.0<br>Predicción: 103.95",
          "Real: 108.0<br>Predicción: 96.81",
          "Real: 83.0<br>Predicción: 85.27",
          "Real: 62.0<br>Predicción: 43.72",
          "Real: 21.0<br>Predicción: 43.25",
          "Real: 60.0<br>Predicción: 68.61",
          "Real: 83.0<br>Predicción: 89.65",
          "Real: 34.0<br>Predicción: 49.62",
          "Real: 197.0<br>Predicción: 182.13",
          "Real: 77.0<br>Predicción: 125.35",
          "Real: 48.0<br>Predicción: 46.54",
          "Real: 71.0<br>Predicción: 69.54",
          "Real: 258.0<br>Predicción: 186.48",
          "Real: 91.0<br>Predicción: 136.12",
          "Real: 51.0<br>Predicción: 87.16",
          "Real: 391.0<br>Predicción: 178.51",
          "Real: 138.0<br>Predicción: 136.86",
          "Real: 104.0<br>Predicción: 105.39",
          "Real: 49.0<br>Predicción: 48.95",
          "Real: 92.0<br>Predicción: 95.18",
          "Real: 59.0<br>Predicción: 60.24",
          "Real: 69.0<br>Predicción: 92.51",
          "Real: 36.0<br>Predicción: 46.68",
          "Real: 552.0<br>Predicción: 278.04",
          "Real: 91.0<br>Predicción: 66.89",
          "Real: 87.0<br>Predicción: 102.89",
          "Real: 99.0<br>Predicción: 135.33",
          "Real: 92.0<br>Predicción: 94.74",
          "Real: 97.0<br>Predicción: 96.87",
          "Real: 129.0<br>Predicción: 128.19",
          "Real: 75.0<br>Predicción: 81.7",
          "Real: 122.0<br>Predicción: 59.38",
          "Real: 73.0<br>Predicción: 75.99",
          "Real: 183.0<br>Predicción: 155.55",
          "Real: 66.0<br>Predicción: 99.99",
          "Real: 75.0<br>Predicción: 87.41",
          "Real: 120.0<br>Predicción: 92.91",
          "Real: 52.0<br>Predicción: 49.19",
          "Real: 69.0<br>Predicción: 91.75",
          "Real: 88.0<br>Predicción: 86.45666666666668",
          "Real: 115.0<br>Predicción: 100.47",
          "Real: 102.0<br>Predicción: 75.53",
          "Real: 60.0<br>Predicción: 62.615",
          "Real: 88.0<br>Predicción: 86.71",
          "Real: 92.0<br>Predicción: 62.44833333333334",
          "Real: 68.0<br>Predicción: 92.47",
          "Real: 106.0<br>Predicción: 103.41",
          "Real: 87.0<br>Predicción: 83.8",
          "Real: 170.0<br>Predicción: 109.6",
          "Real: 230.0<br>Predicción: 198.53",
          "Real: 60.0<br>Predicción: 75.92",
          "Real: 63.0<br>Predicción: 64.0",
          "Real: 81.0<br>Predicción: 70.61",
          "Real: 45.0<br>Predicción: 67.34",
          "Real: 74.0<br>Predicción: 85.24",
          "Real: 98.0<br>Predicción: 83.45",
          "Real: 118.0<br>Predicción: 113.99",
          "Real: 57.0<br>Predicción: 61.72",
          "Real: 135.0<br>Predicción: 133.69",
          "Real: 63.0<br>Predicción: 125.08",
          "Real: 84.0<br>Predicción: 87.55",
          "Real: 215.0<br>Predicción: 149.28",
          "Real: 120.0<br>Predicción: 94.77797619047617",
          "Real: 73.0<br>Predicción: 76.39",
          "Real: 120.0<br>Predicción: 140.67",
          "Real: 28.0<br>Predicción: 29.89",
          "Real: 79.0<br>Predicción: 93.4",
          "Real: 101.0<br>Predicción: 87.1125",
          "Real: 94.0<br>Predicción: 86.64",
          "Real: 62.0<br>Predicción: 46.85",
          "Real: 139.0<br>Predicción: 100.97",
          "Real: 69.0<br>Predicción: 60.27",
          "Real: 83.0<br>Predicción: 104.66",
          "Real: 192.0<br>Predicción: 86.75",
          "Real: 166.0<br>Predicción: 179.33",
          "Real: 91.0<br>Predicción: 93.19",
          "Real: 97.0<br>Predicción: 162.88",
          "Real: 96.0<br>Predicción: 84.07",
          "Real: 84.0<br>Predicción: 70.745",
          "Real: 74.0<br>Predicción: 85.51",
          "Real: 60.0<br>Predicción: 86.26",
          "Real: 84.0<br>Predicción: 119.03",
          "Real: 116.0<br>Predicción: 172.74",
          "Real: 72.0<br>Predicción: 78.03",
          "Real: 303.0<br>Predicción: 173.73",
          "Real: 34.0<br>Predicción: 45.1",
          "Real: 116.0<br>Predicción: 170.08",
          "Real: 100.0<br>Predicción: 122.7",
          "Real: 80.0<br>Predicción: 100.74",
          "Real: 188.0<br>Predicción: 153.6",
          "Real: 103.0<br>Predicción: 92.33",
          "Real: 232.0<br>Predicción: 137.9",
          "Real: 89.0<br>Predicción: 93.89",
          "Real: 53.0<br>Predicción: 92.37",
          "Real: 66.0<br>Predicción: 63.71",
          "Real: 116.0<br>Predicción: 231.71",
          "Real: 108.0<br>Predicción: 109.58",
          "Real: 7.0<br>Predicción: 66.54",
          "Real: 50.0<br>Predicción: 89.73",
          "Real: 29.0<br>Predicción: 29.89",
          "Real: 83.0<br>Predicción: 83.22",
          "Real: 118.0<br>Predicción: 106.44",
          "Real: 147.0<br>Predicción: 169.95",
          "Real: 74.0<br>Predicción: 89.97",
          "Real: 111.0<br>Predicción: 78.57",
          "Real: 84.0<br>Predicción: 82.27",
          "Real: 64.0<br>Predicción: 71.62",
          "Real: 151.0<br>Predicción: 136.03",
          "Real: 72.0<br>Predicción: 100.48",
          "Real: 33.0<br>Predicción: 30.81",
          "Real: 67.0<br>Predicción: 89.03",
          "Real: 46.0<br>Predicción: 46.81",
          "Real: 92.0<br>Predicción: 87.38",
          "Real: 138.0<br>Predicción: 106.25",
          "Real: 69.0<br>Predicción: 72.61",
          "Real: 137.0<br>Predicción: 108.39",
          "Real: 74.0<br>Predicción: 95.05",
          "Real: 63.0<br>Predicción: 66.96",
          "Real: 131.0<br>Predicción: 100.19",
          "Real: 195.0<br>Predicción: 223.0",
          "Real: 88.0<br>Predicción: 85.19",
          "Real: 161.0<br>Predicción: 84.22",
          "Real: 55.0<br>Predicción: 59.09",
          "Real: 170.0<br>Predicción: 93.38",
          "Real: 170.0<br>Predicción: 106.21",
          "Real: 40.0<br>Predicción: 62.11",
          "Real: 141.0<br>Predicción: 155.81",
          "Real: 120.0<br>Predicción: 106.83",
          "Real: 63.0<br>Predicción: 76.22",
          "Real: 77.0<br>Predicción: 81.6",
          "Real: 77.0<br>Predicción: 129.13666666666668",
          "Real: 68.0<br>Predicción: 100.16",
          "Real: 113.0<br>Predicción: 93.1",
          "Real: 82.0<br>Predicción: 99.7",
          "Real: 87.0<br>Predicción: 83.35",
          "Real: 139.0<br>Predicción: 86.7875",
          "Real: 83.0<br>Predicción: 82.02",
          "Real: 91.0<br>Predicción: 88.56",
          "Real: 55.0<br>Predicción: 58.6",
          "Real: 55.0<br>Predicción: 74.1",
          "Real: 113.0<br>Predicción: 95.72",
          "Real: 73.0<br>Predicción: 92.32",
          "Real: 108.0<br>Predicción: 114.5",
          "Real: 104.0<br>Predicción: 103.74",
          "Real: 134.0<br>Predicción: 153.02",
          "Real: 124.0<br>Predicción: 121.52",
          "Real: 66.0<br>Predicción: 113.26857142857143",
          "Real: 95.0<br>Predicción: 106.12",
          "Real: 17.0<br>Predicción: 200.43",
          "Real: 275.0<br>Predicción: 175.65",
          "Real: 59.0<br>Predicción: 44.71",
          "Real: 105.0<br>Predicción: 152.84",
          "Real: 193.0<br>Predicción: 154.69",
          "Real: 205.0<br>Predicción: 176.44",
          "Real: 64.0<br>Predicción: 58.65",
          "Real: 78.0<br>Predicción: 77.86",
          "Real: 118.0<br>Predicción: 139.13",
          "Real: 210.0<br>Predicción: 203.54",
          "Real: 80.0<br>Predicción: 134.84",
          "Real: 99.0<br>Predicción: 98.96",
          "Real: 161.0<br>Predicción: 140.89",
          "Real: 92.0<br>Predicción: 107.2",
          "Real: 216.0<br>Predicción: 159.79",
          "Real: 80.0<br>Predicción: 74.14",
          "Real: 89.0<br>Predicción: 77.8",
          "Real: 68.0<br>Predicción: 93.06",
          "Real: 129.0<br>Predicción: 118.2",
          "Real: 64.0<br>Predicción: 54.95",
          "Real: 55.0<br>Predicción: 59.12",
          "Real: 40.0<br>Predicción: 71.84",
          "Real: 138.0<br>Predicción: 84.84",
          "Real: 134.0<br>Predicción: 89.35",
          "Real: 79.0<br>Predicción: 109.37",
          "Real: 143.0<br>Predicción: 82.74",
          "Real: 21.0<br>Predicción: 43.25",
          "Real: 75.0<br>Predicción: 88.49",
          "Real: 138.0<br>Predicción: 159.69",
          "Real: 187.0<br>Predicción: 130.4",
          "Real: 62.0<br>Predicción: 88.46",
          "Real: 56.0<br>Predicción: 52.23",
          "Real: 95.0<br>Predicción: 78.66",
          "Real: 154.0<br>Predicción: 84.84",
          "Real: 87.0<br>Predicción: 84.53",
          "Real: 164.0<br>Predicción: 135.78",
          "Real: 110.0<br>Predicción: 120.07",
          "Real: 86.0<br>Predicción: 166.1",
          "Real: 60.0<br>Predicción: 128.65",
          "Real: 152.0<br>Predicción: 158.81",
          "Real: 29.0<br>Predicción: 29.85",
          "Real: 97.0<br>Predicción: 106.31",
          "Real: 70.0<br>Predicción: 95.73",
          "Real: 136.0<br>Predicción: 98.93666666666668",
          "Real: 70.0<br>Predicción: 119.15",
          "Real: 108.0<br>Predicción: 100.47",
          "Real: 102.0<br>Predicción: 121.94",
          "Real: 121.0<br>Predicción: 82.78",
          "Real: 56.0<br>Predicción: 100.77",
          "Real: 28.0<br>Predicción: 31.36",
          "Real: 115.0<br>Predicción: 169.29",
          "Real: 69.0<br>Predicción: 82.75",
          "Real: 135.0<br>Predicción: 133.69",
          "Real: 144.0<br>Predicción: 83.64",
          "Real: 101.0<br>Predicción: 135.6",
          "Real: 85.0<br>Predicción: 111.5",
          "Real: 106.0<br>Predicción: 101.05",
          "Real: 37.0<br>Predicción: 41.24",
          "Real: 87.0<br>Predicción: 114.4",
          "Real: 46.0<br>Predicción: 45.14",
          "Real: 77.0<br>Predicción: 99.22",
          "Real: 99.0<br>Predicción: 100.41",
          "Real: 111.0<br>Predicción: 132.2",
          "Real: 91.0<br>Predicción: 83.73",
          "Real: 54.0<br>Predicción: 66.51",
          "Real: 126.0<br>Predicción: 71.84",
          "Real: 75.0<br>Predicción: 72.95",
          "Real: 56.0<br>Predicción: 93.17",
          "Real: 58.0<br>Predicción: 75.4",
          "Real: 216.0<br>Predicción: 152.2",
          "Real: 91.0<br>Predicción: 102.38",
          "Real: 60.0<br>Predicción: 96.99",
          "Real: 132.0<br>Predicción: 198.01",
          "Real: 124.0<br>Predicción: 113.84",
          "Real: 139.0<br>Predicción: 97.35",
          "Real: 204.0<br>Predicción: 180.35"
         ],
         "marker": {
          "color": "blue",
          "size": 10
         },
         "mode": "markers",
         "name": "Predicciones",
         "type": "scatter",
         "x": [
          85,
          85,
          91,
          99,
          116,
          88,
          120,
          114,
          42,
          92,
          67,
          182,
          74,
          353,
          85,
          60,
          66,
          55,
          60,
          134,
          108,
          92,
          72,
          70,
          102,
          110,
          92,
          202,
          102,
          71,
          75,
          60,
          107,
          90,
          161,
          124,
          69,
          72,
          94,
          110,
          177,
          140,
          78,
          100,
          57,
          60,
          66,
          61,
          36,
          345,
          105,
          52,
          144,
          63,
          98,
          79,
          63,
          92,
          67,
          115,
          30,
          121,
          132,
          109,
          108,
          83,
          62,
          21,
          60,
          83,
          34,
          197,
          77,
          48,
          71,
          258,
          91,
          51,
          391,
          138,
          104,
          49,
          92,
          59,
          69,
          36,
          552,
          91,
          87,
          99,
          92,
          97,
          129,
          75,
          122,
          73,
          183,
          66,
          75,
          120,
          52,
          69,
          88,
          115,
          102,
          60,
          88,
          92,
          68,
          106,
          87,
          170,
          230,
          60,
          63,
          81,
          45,
          74,
          98,
          118,
          57,
          135,
          63,
          84,
          215,
          120,
          73,
          120,
          28,
          79,
          101,
          94,
          62,
          139,
          69,
          83,
          192,
          166,
          91,
          97,
          96,
          84,
          74,
          60,
          84,
          116,
          72,
          303,
          34,
          116,
          100,
          80,
          188,
          103,
          232,
          89,
          53,
          66,
          116,
          108,
          7,
          50,
          29,
          83,
          118,
          147,
          74,
          111,
          84,
          64,
          151,
          72,
          33,
          67,
          46,
          92,
          138,
          69,
          137,
          74,
          63,
          131,
          195,
          88,
          161,
          55,
          170,
          170,
          40,
          141,
          120,
          63,
          77,
          77,
          68,
          113,
          82,
          87,
          139,
          83,
          91,
          55,
          55,
          113,
          73,
          108,
          104,
          134,
          124,
          66,
          95,
          17,
          275,
          59,
          105,
          193,
          205,
          64,
          78,
          118,
          210,
          80,
          99,
          161,
          92,
          216,
          80,
          89,
          68,
          129,
          64,
          55,
          40,
          138,
          134,
          79,
          143,
          21,
          75,
          138,
          187,
          62,
          56,
          95,
          154,
          87,
          164,
          110,
          86,
          60,
          152,
          29,
          97,
          70,
          136,
          70,
          108,
          102,
          121,
          56,
          28,
          115,
          69,
          135,
          144,
          101,
          85,
          106,
          37,
          87,
          46,
          77,
          99,
          111,
          91,
          54,
          126,
          75,
          56,
          58,
          216,
          91,
          60,
          132,
          124,
          139,
          204
         ],
         "y": [
          115.4,
          100.42,
          102.24,
          112.25,
          115.1,
          112.31,
          80.86,
          155.04,
          32.63,
          107.2,
          84.07,
          90.82,
          83.38,
          174.14,
          84.66,
          81.55,
          82.24,
          80.79,
          80.94,
          101.08,
          131.02,
          103.45,
          82.11,
          83.05,
          84.84416666666668,
          58.13,
          108.89,
          176.88,
          102.55,
          99.68,
          98.69,
          75.54257142857143,
          104.71,
          87.63,
          120.61,
          157.68,
          109.67,
          89.2,
          86.65,
          158.63,
          139.68,
          135.51,
          77.61,
          86.23,
          40.75,
          87.49,
          44.05,
          65.89,
          41.03,
          168.12,
          108.57,
          92.08,
          96.2,
          61.43,
          133.26,
          111.7,
          99.73,
          122.41,
          68.12,
          107.9,
          31.99,
          73.04,
          98.29,
          103.95,
          96.81,
          85.27,
          43.72,
          43.25,
          68.61,
          89.65,
          49.62,
          182.13,
          125.35,
          46.54,
          69.54,
          186.48,
          136.12,
          87.16,
          178.51,
          136.86,
          105.39,
          48.95,
          95.18,
          60.24,
          92.51,
          46.68,
          278.04,
          66.89,
          102.89,
          135.33,
          94.74,
          96.87,
          128.19,
          81.7,
          59.38,
          75.99,
          155.55,
          99.99,
          87.41,
          92.91,
          49.19,
          91.75,
          86.45666666666668,
          100.47,
          75.53,
          62.615,
          86.71,
          62.44833333333334,
          92.47,
          103.41,
          83.8,
          109.6,
          198.53,
          75.92,
          64,
          70.61,
          67.34,
          85.24,
          83.45,
          113.99,
          61.72,
          133.69,
          125.08,
          87.55,
          149.28,
          94.77797619047617,
          76.39,
          140.67,
          29.89,
          93.4,
          87.1125,
          86.64,
          46.85,
          100.97,
          60.27,
          104.66,
          86.75,
          179.33,
          93.19,
          162.88,
          84.07,
          70.745,
          85.51,
          86.26,
          119.03,
          172.74,
          78.03,
          173.73,
          45.1,
          170.08,
          122.7,
          100.74,
          153.6,
          92.33,
          137.9,
          93.89,
          92.37,
          63.71,
          231.71,
          109.58,
          66.54,
          89.73,
          29.89,
          83.22,
          106.44,
          169.95,
          89.97,
          78.57,
          82.27,
          71.62,
          136.03,
          100.48,
          30.81,
          89.03,
          46.81,
          87.38,
          106.25,
          72.61,
          108.39,
          95.05,
          66.96,
          100.19,
          223,
          85.19,
          84.22,
          59.09,
          93.38,
          106.21,
          62.11,
          155.81,
          106.83,
          76.22,
          81.6,
          129.13666666666668,
          100.16,
          93.1,
          99.7,
          83.35,
          86.7875,
          82.02,
          88.56,
          58.6,
          74.1,
          95.72,
          92.32,
          114.5,
          103.74,
          153.02,
          121.52,
          113.26857142857143,
          106.12,
          200.43,
          175.65,
          44.71,
          152.84,
          154.69,
          176.44,
          58.65,
          77.86,
          139.13,
          203.54,
          134.84,
          98.96,
          140.89,
          107.2,
          159.79,
          74.14,
          77.8,
          93.06,
          118.2,
          54.95,
          59.12,
          71.84,
          84.84,
          89.35,
          109.37,
          82.74,
          43.25,
          88.49,
          159.69,
          130.4,
          88.46,
          52.23,
          78.66,
          84.84,
          84.53,
          135.78,
          120.07,
          166.1,
          128.65,
          158.81,
          29.85,
          106.31,
          95.73,
          98.93666666666668,
          119.15,
          100.47,
          121.94,
          82.78,
          100.77,
          31.36,
          169.29,
          82.75,
          133.69,
          83.64,
          135.6,
          111.5,
          101.05,
          41.24,
          114.4,
          45.14,
          99.22,
          100.41,
          132.2,
          83.73,
          66.51,
          71.84,
          72.95,
          93.17,
          75.4,
          152.2,
          102.38,
          96.99,
          198.01,
          113.84,
          97.35,
          180.35
         ]
        },
        {
         "line": {
          "color": "red",
          "dash": "dash"
         },
         "mode": "lines",
         "name": "Valor Real",
         "type": "scatter",
         "x": [
          85,
          85,
          91,
          99,
          116,
          88,
          120,
          114,
          42,
          92,
          67,
          182,
          74,
          353,
          85,
          60,
          66,
          55,
          60,
          134,
          108,
          92,
          72,
          70,
          102,
          110,
          92,
          202,
          102,
          71,
          75,
          60,
          107,
          90,
          161,
          124,
          69,
          72,
          94,
          110,
          177,
          140,
          78,
          100,
          57,
          60,
          66,
          61,
          36,
          345,
          105,
          52,
          144,
          63,
          98,
          79,
          63,
          92,
          67,
          115,
          30,
          121,
          132,
          109,
          108,
          83,
          62,
          21,
          60,
          83,
          34,
          197,
          77,
          48,
          71,
          258,
          91,
          51,
          391,
          138,
          104,
          49,
          92,
          59,
          69,
          36,
          552,
          91,
          87,
          99,
          92,
          97,
          129,
          75,
          122,
          73,
          183,
          66,
          75,
          120,
          52,
          69,
          88,
          115,
          102,
          60,
          88,
          92,
          68,
          106,
          87,
          170,
          230,
          60,
          63,
          81,
          45,
          74,
          98,
          118,
          57,
          135,
          63,
          84,
          215,
          120,
          73,
          120,
          28,
          79,
          101,
          94,
          62,
          139,
          69,
          83,
          192,
          166,
          91,
          97,
          96,
          84,
          74,
          60,
          84,
          116,
          72,
          303,
          34,
          116,
          100,
          80,
          188,
          103,
          232,
          89,
          53,
          66,
          116,
          108,
          7,
          50,
          29,
          83,
          118,
          147,
          74,
          111,
          84,
          64,
          151,
          72,
          33,
          67,
          46,
          92,
          138,
          69,
          137,
          74,
          63,
          131,
          195,
          88,
          161,
          55,
          170,
          170,
          40,
          141,
          120,
          63,
          77,
          77,
          68,
          113,
          82,
          87,
          139,
          83,
          91,
          55,
          55,
          113,
          73,
          108,
          104,
          134,
          124,
          66,
          95,
          17,
          275,
          59,
          105,
          193,
          205,
          64,
          78,
          118,
          210,
          80,
          99,
          161,
          92,
          216,
          80,
          89,
          68,
          129,
          64,
          55,
          40,
          138,
          134,
          79,
          143,
          21,
          75,
          138,
          187,
          62,
          56,
          95,
          154,
          87,
          164,
          110,
          86,
          60,
          152,
          29,
          97,
          70,
          136,
          70,
          108,
          102,
          121,
          56,
          28,
          115,
          69,
          135,
          144,
          101,
          85,
          106,
          37,
          87,
          46,
          77,
          99,
          111,
          91,
          54,
          126,
          75,
          56,
          58,
          216,
          91,
          60,
          132,
          124,
          139,
          204
         ],
         "y": [
          85,
          85,
          91,
          99,
          116,
          88,
          120,
          114,
          42,
          92,
          67,
          182,
          74,
          353,
          85,
          60,
          66,
          55,
          60,
          134,
          108,
          92,
          72,
          70,
          102,
          110,
          92,
          202,
          102,
          71,
          75,
          60,
          107,
          90,
          161,
          124,
          69,
          72,
          94,
          110,
          177,
          140,
          78,
          100,
          57,
          60,
          66,
          61,
          36,
          345,
          105,
          52,
          144,
          63,
          98,
          79,
          63,
          92,
          67,
          115,
          30,
          121,
          132,
          109,
          108,
          83,
          62,
          21,
          60,
          83,
          34,
          197,
          77,
          48,
          71,
          258,
          91,
          51,
          391,
          138,
          104,
          49,
          92,
          59,
          69,
          36,
          552,
          91,
          87,
          99,
          92,
          97,
          129,
          75,
          122,
          73,
          183,
          66,
          75,
          120,
          52,
          69,
          88,
          115,
          102,
          60,
          88,
          92,
          68,
          106,
          87,
          170,
          230,
          60,
          63,
          81,
          45,
          74,
          98,
          118,
          57,
          135,
          63,
          84,
          215,
          120,
          73,
          120,
          28,
          79,
          101,
          94,
          62,
          139,
          69,
          83,
          192,
          166,
          91,
          97,
          96,
          84,
          74,
          60,
          84,
          116,
          72,
          303,
          34,
          116,
          100,
          80,
          188,
          103,
          232,
          89,
          53,
          66,
          116,
          108,
          7,
          50,
          29,
          83,
          118,
          147,
          74,
          111,
          84,
          64,
          151,
          72,
          33,
          67,
          46,
          92,
          138,
          69,
          137,
          74,
          63,
          131,
          195,
          88,
          161,
          55,
          170,
          170,
          40,
          141,
          120,
          63,
          77,
          77,
          68,
          113,
          82,
          87,
          139,
          83,
          91,
          55,
          55,
          113,
          73,
          108,
          104,
          134,
          124,
          66,
          95,
          17,
          275,
          59,
          105,
          193,
          205,
          64,
          78,
          118,
          210,
          80,
          99,
          161,
          92,
          216,
          80,
          89,
          68,
          129,
          64,
          55,
          40,
          138,
          134,
          79,
          143,
          21,
          75,
          138,
          187,
          62,
          56,
          95,
          154,
          87,
          164,
          110,
          86,
          60,
          152,
          29,
          97,
          70,
          136,
          70,
          108,
          102,
          121,
          56,
          28,
          115,
          69,
          135,
          144,
          101,
          85,
          106,
          37,
          87,
          46,
          77,
          99,
          111,
          91,
          54,
          126,
          75,
          56,
          58,
          216,
          91,
          60,
          132,
          124,
          139,
          204
         ]
        }
       ],
       "layout": {
        "height": 500,
        "showlegend": true,
        "template": {
         "data": {
          "bar": [
           {
            "error_x": {
             "color": "#2a3f5f"
            },
            "error_y": {
             "color": "#2a3f5f"
            },
            "marker": {
             "line": {
              "color": "#E5ECF6",
              "width": 0.5
             },
             "pattern": {
              "fillmode": "overlay",
              "size": 10,
              "solidity": 0.2
             }
            },
            "type": "bar"
           }
          ],
          "barpolar": [
           {
            "marker": {
             "line": {
              "color": "#E5ECF6",
              "width": 0.5
             },
             "pattern": {
              "fillmode": "overlay",
              "size": 10,
              "solidity": 0.2
             }
            },
            "type": "barpolar"
           }
          ],
          "carpet": [
           {
            "aaxis": {
             "endlinecolor": "#2a3f5f",
             "gridcolor": "white",
             "linecolor": "white",
             "minorgridcolor": "white",
             "startlinecolor": "#2a3f5f"
            },
            "baxis": {
             "endlinecolor": "#2a3f5f",
             "gridcolor": "white",
             "linecolor": "white",
             "minorgridcolor": "white",
             "startlinecolor": "#2a3f5f"
            },
            "type": "carpet"
           }
          ],
          "choropleth": [
           {
            "colorbar": {
             "outlinewidth": 0,
             "ticks": ""
            },
            "type": "choropleth"
           }
          ],
          "contour": [
           {
            "colorbar": {
             "outlinewidth": 0,
             "ticks": ""
            },
            "colorscale": [
             [
              0,
              "#0d0887"
             ],
             [
              0.1111111111111111,
              "#46039f"
             ],
             [
              0.2222222222222222,
              "#7201a8"
             ],
             [
              0.3333333333333333,
              "#9c179e"
             ],
             [
              0.4444444444444444,
              "#bd3786"
             ],
             [
              0.5555555555555556,
              "#d8576b"
             ],
             [
              0.6666666666666666,
              "#ed7953"
             ],
             [
              0.7777777777777778,
              "#fb9f3a"
             ],
             [
              0.8888888888888888,
              "#fdca26"
             ],
             [
              1,
              "#f0f921"
             ]
            ],
            "type": "contour"
           }
          ],
          "contourcarpet": [
           {
            "colorbar": {
             "outlinewidth": 0,
             "ticks": ""
            },
            "type": "contourcarpet"
           }
          ],
          "heatmap": [
           {
            "colorbar": {
             "outlinewidth": 0,
             "ticks": ""
            },
            "colorscale": [
             [
              0,
              "#0d0887"
             ],
             [
              0.1111111111111111,
              "#46039f"
             ],
             [
              0.2222222222222222,
              "#7201a8"
             ],
             [
              0.3333333333333333,
              "#9c179e"
             ],
             [
              0.4444444444444444,
              "#bd3786"
             ],
             [
              0.5555555555555556,
              "#d8576b"
             ],
             [
              0.6666666666666666,
              "#ed7953"
             ],
             [
              0.7777777777777778,
              "#fb9f3a"
             ],
             [
              0.8888888888888888,
              "#fdca26"
             ],
             [
              1,
              "#f0f921"
             ]
            ],
            "type": "heatmap"
           }
          ],
          "heatmapgl": [
           {
            "colorbar": {
             "outlinewidth": 0,
             "ticks": ""
            },
            "colorscale": [
             [
              0,
              "#0d0887"
             ],
             [
              0.1111111111111111,
              "#46039f"
             ],
             [
              0.2222222222222222,
              "#7201a8"
             ],
             [
              0.3333333333333333,
              "#9c179e"
             ],
             [
              0.4444444444444444,
              "#bd3786"
             ],
             [
              0.5555555555555556,
              "#d8576b"
             ],
             [
              0.6666666666666666,
              "#ed7953"
             ],
             [
              0.7777777777777778,
              "#fb9f3a"
             ],
             [
              0.8888888888888888,
              "#fdca26"
             ],
             [
              1,
              "#f0f921"
             ]
            ],
            "type": "heatmapgl"
           }
          ],
          "histogram": [
           {
            "marker": {
             "pattern": {
              "fillmode": "overlay",
              "size": 10,
              "solidity": 0.2
             }
            },
            "type": "histogram"
           }
          ],
          "histogram2d": [
           {
            "colorbar": {
             "outlinewidth": 0,
             "ticks": ""
            },
            "colorscale": [
             [
              0,
              "#0d0887"
             ],
             [
              0.1111111111111111,
              "#46039f"
             ],
             [
              0.2222222222222222,
              "#7201a8"
             ],
             [
              0.3333333333333333,
              "#9c179e"
             ],
             [
              0.4444444444444444,
              "#bd3786"
             ],
             [
              0.5555555555555556,
              "#d8576b"
             ],
             [
              0.6666666666666666,
              "#ed7953"
             ],
             [
              0.7777777777777778,
              "#fb9f3a"
             ],
             [
              0.8888888888888888,
              "#fdca26"
             ],
             [
              1,
              "#f0f921"
             ]
            ],
            "type": "histogram2d"
           }
          ],
          "histogram2dcontour": [
           {
            "colorbar": {
             "outlinewidth": 0,
             "ticks": ""
            },
            "colorscale": [
             [
              0,
              "#0d0887"
             ],
             [
              0.1111111111111111,
              "#46039f"
             ],
             [
              0.2222222222222222,
              "#7201a8"
             ],
             [
              0.3333333333333333,
              "#9c179e"
             ],
             [
              0.4444444444444444,
              "#bd3786"
             ],
             [
              0.5555555555555556,
              "#d8576b"
             ],
             [
              0.6666666666666666,
              "#ed7953"
             ],
             [
              0.7777777777777778,
              "#fb9f3a"
             ],
             [
              0.8888888888888888,
              "#fdca26"
             ],
             [
              1,
              "#f0f921"
             ]
            ],
            "type": "histogram2dcontour"
           }
          ],
          "mesh3d": [
           {
            "colorbar": {
             "outlinewidth": 0,
             "ticks": ""
            },
            "type": "mesh3d"
           }
          ],
          "parcoords": [
           {
            "line": {
             "colorbar": {
              "outlinewidth": 0,
              "ticks": ""
             }
            },
            "type": "parcoords"
           }
          ],
          "pie": [
           {
            "automargin": true,
            "type": "pie"
           }
          ],
          "scatter": [
           {
            "fillpattern": {
             "fillmode": "overlay",
             "size": 10,
             "solidity": 0.2
            },
            "type": "scatter"
           }
          ],
          "scatter3d": [
           {
            "line": {
             "colorbar": {
              "outlinewidth": 0,
              "ticks": ""
             }
            },
            "marker": {
             "colorbar": {
              "outlinewidth": 0,
              "ticks": ""
             }
            },
            "type": "scatter3d"
           }
          ],
          "scattercarpet": [
           {
            "marker": {
             "colorbar": {
              "outlinewidth": 0,
              "ticks": ""
             }
            },
            "type": "scattercarpet"
           }
          ],
          "scattergeo": [
           {
            "marker": {
             "colorbar": {
              "outlinewidth": 0,
              "ticks": ""
             }
            },
            "type": "scattergeo"
           }
          ],
          "scattergl": [
           {
            "marker": {
             "colorbar": {
              "outlinewidth": 0,
              "ticks": ""
             }
            },
            "type": "scattergl"
           }
          ],
          "scattermapbox": [
           {
            "marker": {
             "colorbar": {
              "outlinewidth": 0,
              "ticks": ""
             }
            },
            "type": "scattermapbox"
           }
          ],
          "scatterpolar": [
           {
            "marker": {
             "colorbar": {
              "outlinewidth": 0,
              "ticks": ""
             }
            },
            "type": "scatterpolar"
           }
          ],
          "scatterpolargl": [
           {
            "marker": {
             "colorbar": {
              "outlinewidth": 0,
              "ticks": ""
             }
            },
            "type": "scatterpolargl"
           }
          ],
          "scatterternary": [
           {
            "marker": {
             "colorbar": {
              "outlinewidth": 0,
              "ticks": ""
             }
            },
            "type": "scatterternary"
           }
          ],
          "surface": [
           {
            "colorbar": {
             "outlinewidth": 0,
             "ticks": ""
            },
            "colorscale": [
             [
              0,
              "#0d0887"
             ],
             [
              0.1111111111111111,
              "#46039f"
             ],
             [
              0.2222222222222222,
              "#7201a8"
             ],
             [
              0.3333333333333333,
              "#9c179e"
             ],
             [
              0.4444444444444444,
              "#bd3786"
             ],
             [
              0.5555555555555556,
              "#d8576b"
             ],
             [
              0.6666666666666666,
              "#ed7953"
             ],
             [
              0.7777777777777778,
              "#fb9f3a"
             ],
             [
              0.8888888888888888,
              "#fdca26"
             ],
             [
              1,
              "#f0f921"
             ]
            ],
            "type": "surface"
           }
          ],
          "table": [
           {
            "cells": {
             "fill": {
              "color": "#EBF0F8"
             },
             "line": {
              "color": "white"
             }
            },
            "header": {
             "fill": {
              "color": "#C8D4E3"
             },
             "line": {
              "color": "white"
             }
            },
            "type": "table"
           }
          ]
         },
         "layout": {
          "annotationdefaults": {
           "arrowcolor": "#2a3f5f",
           "arrowhead": 0,
           "arrowwidth": 1
          },
          "autotypenumbers": "strict",
          "coloraxis": {
           "colorbar": {
            "outlinewidth": 0,
            "ticks": ""
           }
          },
          "colorscale": {
           "diverging": [
            [
             0,
             "#8e0152"
            ],
            [
             0.1,
             "#c51b7d"
            ],
            [
             0.2,
             "#de77ae"
            ],
            [
             0.3,
             "#f1b6da"
            ],
            [
             0.4,
             "#fde0ef"
            ],
            [
             0.5,
             "#f7f7f7"
            ],
            [
             0.6,
             "#e6f5d0"
            ],
            [
             0.7,
             "#b8e186"
            ],
            [
             0.8,
             "#7fbc41"
            ],
            [
             0.9,
             "#4d9221"
            ],
            [
             1,
             "#276419"
            ]
           ],
           "sequential": [
            [
             0,
             "#0d0887"
            ],
            [
             0.1111111111111111,
             "#46039f"
            ],
            [
             0.2222222222222222,
             "#7201a8"
            ],
            [
             0.3333333333333333,
             "#9c179e"
            ],
            [
             0.4444444444444444,
             "#bd3786"
            ],
            [
             0.5555555555555556,
             "#d8576b"
            ],
            [
             0.6666666666666666,
             "#ed7953"
            ],
            [
             0.7777777777777778,
             "#fb9f3a"
            ],
            [
             0.8888888888888888,
             "#fdca26"
            ],
            [
             1,
             "#f0f921"
            ]
           ],
           "sequentialminus": [
            [
             0,
             "#0d0887"
            ],
            [
             0.1111111111111111,
             "#46039f"
            ],
            [
             0.2222222222222222,
             "#7201a8"
            ],
            [
             0.3333333333333333,
             "#9c179e"
            ],
            [
             0.4444444444444444,
             "#bd3786"
            ],
            [
             0.5555555555555556,
             "#d8576b"
            ],
            [
             0.6666666666666666,
             "#ed7953"
            ],
            [
             0.7777777777777778,
             "#fb9f3a"
            ],
            [
             0.8888888888888888,
             "#fdca26"
            ],
            [
             1,
             "#f0f921"
            ]
           ]
          },
          "colorway": [
           "#636efa",
           "#EF553B",
           "#00cc96",
           "#ab63fa",
           "#FFA15A",
           "#19d3f3",
           "#FF6692",
           "#B6E880",
           "#FF97FF",
           "#FECB52"
          ],
          "font": {
           "color": "#2a3f5f"
          },
          "geo": {
           "bgcolor": "white",
           "lakecolor": "white",
           "landcolor": "#E5ECF6",
           "showlakes": true,
           "showland": true,
           "subunitcolor": "white"
          },
          "hoverlabel": {
           "align": "left"
          },
          "hovermode": "closest",
          "mapbox": {
           "style": "light"
          },
          "paper_bgcolor": "white",
          "plot_bgcolor": "#E5ECF6",
          "polar": {
           "angularaxis": {
            "gridcolor": "white",
            "linecolor": "white",
            "ticks": ""
           },
           "bgcolor": "#E5ECF6",
           "radialaxis": {
            "gridcolor": "white",
            "linecolor": "white",
            "ticks": ""
           }
          },
          "scene": {
           "xaxis": {
            "backgroundcolor": "#E5ECF6",
            "gridcolor": "white",
            "gridwidth": 2,
            "linecolor": "white",
            "showbackground": true,
            "ticks": "",
            "zerolinecolor": "white"
           },
           "yaxis": {
            "backgroundcolor": "#E5ECF6",
            "gridcolor": "white",
            "gridwidth": 2,
            "linecolor": "white",
            "showbackground": true,
            "ticks": "",
            "zerolinecolor": "white"
           },
           "zaxis": {
            "backgroundcolor": "#E5ECF6",
            "gridcolor": "white",
            "gridwidth": 2,
            "linecolor": "white",
            "showbackground": true,
            "ticks": "",
            "zerolinecolor": "white"
           }
          },
          "shapedefaults": {
           "line": {
            "color": "#2a3f5f"
           }
          },
          "ternary": {
           "aaxis": {
            "gridcolor": "white",
            "linecolor": "white",
            "ticks": ""
           },
           "baxis": {
            "gridcolor": "white",
            "linecolor": "white",
            "ticks": ""
           },
           "bgcolor": "#E5ECF6",
           "caxis": {
            "gridcolor": "white",
            "linecolor": "white",
            "ticks": ""
           }
          },
          "title": {
           "x": 0.05
          },
          "xaxis": {
           "automargin": true,
           "gridcolor": "white",
           "linecolor": "white",
           "ticks": "",
           "title": {
            "standoff": 15
           },
           "zerolinecolor": "white",
           "zerolinewidth": 2
          },
          "yaxis": {
           "automargin": true,
           "gridcolor": "white",
           "linecolor": "white",
           "ticks": "",
           "title": {
            "standoff": 15
           },
           "zerolinecolor": "white",
           "zerolinewidth": 2
          }
         }
        },
        "title": {
         "text": "Predicciones vs Valores Reales - RandomForestRegressor"
        },
        "width": 700,
        "xaxis": {
         "showgrid": true,
         "title": {
          "text": "Valores Reales"
         }
        },
        "yaxis": {
         "showgrid": true,
         "title": {
          "text": "Predicciones"
         }
        }
       }
      }
     },
     "metadata": {},
     "output_type": "display_data"
    }
   ],
   "source": [
    "X= df_modelo.drop(columns=['rating', 'all_reviews', 'price','unique_id', 'url', 'id_url', 'city' , 'title', 'type_host', 'type_bathroom'])\n",
    "y = df_modelo['price']\n",
    "resultados_todo, X_train, y_train, mejor_modelo,percentil_inferior, percentil_superior = evaluate_models(X, y)"
   ]
  },
  {
   "cell_type": "code",
   "execution_count": 366,
   "metadata": {},
   "outputs": [
    {
     "name": "stdout",
     "output_type": "stream",
     "text": [
      "Modelo: LinearRegression\n",
      "R2: 0.4023137770671964, RMSE: 29.01323885480823, MAE: 22.229166666666668, Percentil Inferior: 2.75, Percentil Superior: 47.875\n",
      "\n",
      "Modelo: KNeighborsRegressor\n",
      "R2: 0.36334683587691685, RMSE: 29.944084643351598, MAE: 22.023076923076925, Percentil Inferior: 3.4000000000000057, Percentil Superior: 48.5\n",
      "\n",
      "Modelo: DecisionTreeRegressor\n",
      "R2: 0.3039881159467287, RMSE: 31.308907847607877, MAE: 23.73471033006805, Percentil Inferior: 3.6779661016949206, Percentil Superior: 49.586184841701304\n",
      "\n",
      "Modelo: RandomForestRegressor\n",
      "R2: 0.38197216665515477, RMSE: 29.50282532377022, MAE: 22.552240134333918, Percentil Inferior: 3.2197865979283478, Percentil Superior: 48.96946992671313\n",
      "\n",
      "Modelo: SVR\n",
      "R2: 0.14226459464644348, RMSE: 34.75651785574781, MAE: 24.412230449314766, Percentil Inferior: 2.8923532517593102, Percentil Superior: 54.06261695257002\n",
      "\n",
      "Modelo: AdaBoostRegressor\n",
      "R2: 0.15224975190860468, RMSE: 34.5536200605211, MAE: 25.74644703722911, Percentil Inferior: 3.5, Percentil Superior: 54.63756613756614\n",
      "\n",
      "Modelo: GradientBoostingRegressor\n",
      "R2: 0.39602412862505054, RMSE: 29.165497257957686, MAE: 21.897265225549273, Percentil Inferior: 3.2885044337657163, Percentil Superior: 47.162298917873926\n",
      "\n",
      "\n",
      "Valores reales vs predicciones del mejor modelo:\n",
      "[[ 96.    93.75]\n",
      " [ 63.    98.5 ]\n",
      " [ 96.    78.25]\n",
      " [ 53.    62.25]\n",
      " [ 88.    90.25]\n",
      " [ 67.    90.25]\n",
      " [ 76.    90.5 ]\n",
      " [ 63.    93.5 ]\n",
      " [ 92.   164.  ]\n",
      " [ 82.    93.75]\n",
      " [124.    80.  ]\n",
      " [ 75.    90.5 ]\n",
      " [126.   115.25]\n",
      " [ 54.    80.  ]\n",
      " [100.   101.5 ]\n",
      " [ 92.   101.5 ]\n",
      " [ 87.    88.25]\n",
      " [104.    86.5 ]\n",
      " [137.    96.  ]\n",
      " [147.    93.25]\n",
      " [134.    90.25]\n",
      " [ 73.    77.25]\n",
      " [ 74.    90.25]\n",
      " [ 74.    90.25]\n",
      " [129.   155.75]\n",
      " [134.    74.25]\n",
      " [117.    90.25]\n",
      " [ 75.    74.25]\n",
      " [121.   155.75]\n",
      " [ 69.    80.  ]\n",
      " [ 67.   109.25]\n",
      " [ 48.    72.  ]\n",
      " [110.    98.25]\n",
      " [125.   156.25]\n",
      " [ 64.    93.25]\n",
      " [ 92.    93.25]\n",
      " [129.    90.25]\n",
      " [108.   109.25]\n",
      " [146.   155.75]\n",
      " [ 48.    72.25]\n",
      " [ 99.    90.25]\n",
      " [142.    90.25]\n",
      " [126.    88.25]\n",
      " [ 55.    74.25]\n",
      " [ 73.    90.25]\n",
      " [ 73.    74.5 ]\n",
      " [ 72.   101.75]\n",
      " [121.   155.75]\n",
      " [117.   101.5 ]\n",
      " [ 79.   155.75]\n",
      " [ 57.    64.  ]\n",
      " [ 65.    74.25]\n",
      " [ 77.    93.25]\n",
      " [183.   155.75]\n",
      " [ 88.    85.5 ]\n",
      " [188.   155.75]\n",
      " [ 82.   155.75]\n",
      " [ 79.    93.5 ]\n",
      " [102.    93.25]\n",
      " [ 92.    90.25]\n",
      " [118.   155.75]\n",
      " [ 82.    74.25]\n",
      " [ 59.    82.25]\n",
      " [ 69.    72.  ]\n",
      " [ 72.    90.25]\n",
      " [ 88.   101.75]\n",
      " [143.    90.25]\n",
      " [106.    90.25]\n",
      " [129.   155.75]\n",
      " [240.   171.75]\n",
      " [ 88.    90.25]\n",
      " [ 92.    85.25]\n",
      " [114.    90.25]\n",
      " [ 75.    80.25]\n",
      " [ 51.    78.25]\n",
      " [ 60.    80.  ]\n",
      " [ 46.    64.  ]\n",
      " [119.   101.5 ]\n",
      " [ 75.    80.  ]\n",
      " [154.   163.75]\n",
      " [103.    93.5 ]\n",
      " [230.   155.75]\n",
      " [ 53.    64.  ]\n",
      " [154.   155.75]\n",
      " [ 60.    74.25]\n",
      " [ 96.    90.25]\n",
      " [ 55.    80.  ]\n",
      " [ 93.    80.  ]\n",
      " [ 88.    90.25]\n",
      " [115.    86.25]\n",
      " [109.    93.5 ]\n",
      " [114.    93.25]\n",
      " [102.    64.  ]\n",
      " [ 55.    74.25]\n",
      " [ 17.    77.25]\n",
      " [ 77.    93.5 ]\n",
      " [110.    90.25]\n",
      " [ 79.    86.25]\n",
      " [ 55.    93.25]\n",
      " [ 88.    74.25]\n",
      " [ 60.    93.5 ]\n",
      " [ 91.    78.25]\n",
      " [ 56.    80.  ]\n",
      " [ 60.    78.25]\n",
      " [122.    93.5 ]\n",
      " [ 67.    74.25]\n",
      " [183.   164.  ]\n",
      " [ 86.    93.5 ]\n",
      " [ 97.    80.  ]\n",
      " [ 92.   101.75]\n",
      " [ 82.    90.25]\n",
      " [ 74.    80.  ]\n",
      " [148.   164.  ]\n",
      " [101.   155.75]\n",
      " [147.   109.25]\n",
      " [ 70.    74.25]\n",
      " [ 74.    64.  ]\n",
      " [ 56.    80.  ]\n",
      " [185.    90.25]\n",
      " [ 92.    93.25]\n",
      " [ 63.    64.  ]\n",
      " [ 72.    93.25]\n",
      " [163.   106.25]\n",
      " [ 83.    80.  ]\n",
      " [216.   155.75]\n",
      " [103.    80.  ]\n",
      " [121.    77.25]\n",
      " [110.    80.  ]\n",
      " [ 69.    88.25]\n",
      " [ 90.   101.25]\n",
      " [ 95.    74.25]\n",
      " [107.    90.25]\n",
      " [ 97.    78.25]\n",
      " [119.    90.25]\n",
      " [185.   163.75]\n",
      " [120.    90.25]\n",
      " [ 68.   106.  ]\n",
      " [182.   165.  ]\n",
      " [ 75.    93.25]\n",
      " [ 68.    80.  ]\n",
      " [ 75.   147.75]\n",
      " [104.    98.5 ]\n",
      " [ 48.    86.25]\n",
      " [ 81.    90.25]\n",
      " [ 84.    77.5 ]\n",
      " [ 82.    70.5 ]\n",
      " [ 91.    98.25]\n",
      " [ 88.    90.25]\n",
      " [ 87.    77.5 ]\n",
      " [ 33.    72.  ]\n",
      " [ 92.    98.5 ]\n",
      " [ 86.    80.5 ]\n",
      " [ 64.    98.25]\n",
      " [ 79.    74.25]\n",
      " [ 91.   101.25]\n",
      " [155.    93.  ]]\n"
     ]
    },
    {
     "name": "stderr",
     "output_type": "stream",
     "text": [
      "/var/folders/7h/qmh6bk5x34g5j30ygn0wjywr0000gn/T/ipykernel_1991/381939984.py:136: FutureWarning:\n",
      "\n",
      "The behavior of DataFrame concatenation with empty or all-NA entries is deprecated. In a future version, this will no longer exclude empty or all-NA columns when determining the result dtypes. To retain the old behavior, exclude the relevant entries before the concat operation.\n",
      "\n"
     ]
    },
    {
     "data": {
      "application/vnd.plotly.v1+json": {
       "config": {
        "plotlyServerURL": "https://plot.ly"
       },
       "data": [
        {
         "hovertext": [
          "Real: 96.0<br>Predicción: 93.75",
          "Real: 63.0<br>Predicción: 98.5",
          "Real: 96.0<br>Predicción: 78.25",
          "Real: 53.0<br>Predicción: 62.25",
          "Real: 88.0<br>Predicción: 90.25",
          "Real: 67.0<br>Predicción: 90.25",
          "Real: 76.0<br>Predicción: 90.5",
          "Real: 63.0<br>Predicción: 93.5",
          "Real: 92.0<br>Predicción: 164.0",
          "Real: 82.0<br>Predicción: 93.75",
          "Real: 124.0<br>Predicción: 80.0",
          "Real: 75.0<br>Predicción: 90.5",
          "Real: 126.0<br>Predicción: 115.25",
          "Real: 54.0<br>Predicción: 80.0",
          "Real: 100.0<br>Predicción: 101.5",
          "Real: 92.0<br>Predicción: 101.5",
          "Real: 87.0<br>Predicción: 88.25",
          "Real: 104.0<br>Predicción: 86.5",
          "Real: 137.0<br>Predicción: 96.0",
          "Real: 147.0<br>Predicción: 93.25",
          "Real: 134.0<br>Predicción: 90.25",
          "Real: 73.0<br>Predicción: 77.25",
          "Real: 74.0<br>Predicción: 90.25",
          "Real: 74.0<br>Predicción: 90.25",
          "Real: 129.0<br>Predicción: 155.75",
          "Real: 134.0<br>Predicción: 74.25",
          "Real: 117.0<br>Predicción: 90.25",
          "Real: 75.0<br>Predicción: 74.25",
          "Real: 121.0<br>Predicción: 155.75",
          "Real: 69.0<br>Predicción: 80.0",
          "Real: 67.0<br>Predicción: 109.25",
          "Real: 48.0<br>Predicción: 72.0",
          "Real: 110.0<br>Predicción: 98.25",
          "Real: 125.0<br>Predicción: 156.25",
          "Real: 64.0<br>Predicción: 93.25",
          "Real: 92.0<br>Predicción: 93.25",
          "Real: 129.0<br>Predicción: 90.25",
          "Real: 108.0<br>Predicción: 109.25",
          "Real: 146.0<br>Predicción: 155.75",
          "Real: 48.0<br>Predicción: 72.25",
          "Real: 99.0<br>Predicción: 90.25",
          "Real: 142.0<br>Predicción: 90.25",
          "Real: 126.0<br>Predicción: 88.25",
          "Real: 55.0<br>Predicción: 74.25",
          "Real: 73.0<br>Predicción: 90.25",
          "Real: 73.0<br>Predicción: 74.5",
          "Real: 72.0<br>Predicción: 101.75",
          "Real: 121.0<br>Predicción: 155.75",
          "Real: 117.0<br>Predicción: 101.5",
          "Real: 79.0<br>Predicción: 155.75",
          "Real: 57.0<br>Predicción: 64.0",
          "Real: 65.0<br>Predicción: 74.25",
          "Real: 77.0<br>Predicción: 93.25",
          "Real: 183.0<br>Predicción: 155.75",
          "Real: 88.0<br>Predicción: 85.5",
          "Real: 188.0<br>Predicción: 155.75",
          "Real: 82.0<br>Predicción: 155.75",
          "Real: 79.0<br>Predicción: 93.5",
          "Real: 102.0<br>Predicción: 93.25",
          "Real: 92.0<br>Predicción: 90.25",
          "Real: 118.0<br>Predicción: 155.75",
          "Real: 82.0<br>Predicción: 74.25",
          "Real: 59.0<br>Predicción: 82.25",
          "Real: 69.0<br>Predicción: 72.0",
          "Real: 72.0<br>Predicción: 90.25",
          "Real: 88.0<br>Predicción: 101.75",
          "Real: 143.0<br>Predicción: 90.25",
          "Real: 106.0<br>Predicción: 90.25",
          "Real: 129.0<br>Predicción: 155.75",
          "Real: 240.0<br>Predicción: 171.75",
          "Real: 88.0<br>Predicción: 90.25",
          "Real: 92.0<br>Predicción: 85.25",
          "Real: 114.0<br>Predicción: 90.25",
          "Real: 75.0<br>Predicción: 80.25",
          "Real: 51.0<br>Predicción: 78.25",
          "Real: 60.0<br>Predicción: 80.0",
          "Real: 46.0<br>Predicción: 64.0",
          "Real: 119.0<br>Predicción: 101.5",
          "Real: 75.0<br>Predicción: 80.0",
          "Real: 154.0<br>Predicción: 163.75",
          "Real: 103.0<br>Predicción: 93.5",
          "Real: 230.0<br>Predicción: 155.75",
          "Real: 53.0<br>Predicción: 64.0",
          "Real: 154.0<br>Predicción: 155.75",
          "Real: 60.0<br>Predicción: 74.25",
          "Real: 96.0<br>Predicción: 90.25",
          "Real: 55.0<br>Predicción: 80.0",
          "Real: 93.0<br>Predicción: 80.0",
          "Real: 88.0<br>Predicción: 90.25",
          "Real: 115.0<br>Predicción: 86.25",
          "Real: 109.0<br>Predicción: 93.5",
          "Real: 114.0<br>Predicción: 93.25",
          "Real: 102.0<br>Predicción: 64.0",
          "Real: 55.0<br>Predicción: 74.25",
          "Real: 17.0<br>Predicción: 77.25",
          "Real: 77.0<br>Predicción: 93.5",
          "Real: 110.0<br>Predicción: 90.25",
          "Real: 79.0<br>Predicción: 86.25",
          "Real: 55.0<br>Predicción: 93.25",
          "Real: 88.0<br>Predicción: 74.25",
          "Real: 60.0<br>Predicción: 93.5",
          "Real: 91.0<br>Predicción: 78.25",
          "Real: 56.0<br>Predicción: 80.0",
          "Real: 60.0<br>Predicción: 78.25",
          "Real: 122.0<br>Predicción: 93.5",
          "Real: 67.0<br>Predicción: 74.25",
          "Real: 183.0<br>Predicción: 164.0",
          "Real: 86.0<br>Predicción: 93.5",
          "Real: 97.0<br>Predicción: 80.0",
          "Real: 92.0<br>Predicción: 101.75",
          "Real: 82.0<br>Predicción: 90.25",
          "Real: 74.0<br>Predicción: 80.0",
          "Real: 148.0<br>Predicción: 164.0",
          "Real: 101.0<br>Predicción: 155.75",
          "Real: 147.0<br>Predicción: 109.25",
          "Real: 70.0<br>Predicción: 74.25",
          "Real: 74.0<br>Predicción: 64.0",
          "Real: 56.0<br>Predicción: 80.0",
          "Real: 185.0<br>Predicción: 90.25",
          "Real: 92.0<br>Predicción: 93.25",
          "Real: 63.0<br>Predicción: 64.0",
          "Real: 72.0<br>Predicción: 93.25",
          "Real: 163.0<br>Predicción: 106.25",
          "Real: 83.0<br>Predicción: 80.0",
          "Real: 216.0<br>Predicción: 155.75",
          "Real: 103.0<br>Predicción: 80.0",
          "Real: 121.0<br>Predicción: 77.25",
          "Real: 110.0<br>Predicción: 80.0",
          "Real: 69.0<br>Predicción: 88.25",
          "Real: 90.0<br>Predicción: 101.25",
          "Real: 95.0<br>Predicción: 74.25",
          "Real: 107.0<br>Predicción: 90.25",
          "Real: 97.0<br>Predicción: 78.25",
          "Real: 119.0<br>Predicción: 90.25",
          "Real: 185.0<br>Predicción: 163.75",
          "Real: 120.0<br>Predicción: 90.25",
          "Real: 68.0<br>Predicción: 106.0",
          "Real: 182.0<br>Predicción: 165.0",
          "Real: 75.0<br>Predicción: 93.25",
          "Real: 68.0<br>Predicción: 80.0",
          "Real: 75.0<br>Predicción: 147.75",
          "Real: 104.0<br>Predicción: 98.5",
          "Real: 48.0<br>Predicción: 86.25",
          "Real: 81.0<br>Predicción: 90.25",
          "Real: 84.0<br>Predicción: 77.5",
          "Real: 82.0<br>Predicción: 70.5",
          "Real: 91.0<br>Predicción: 98.25",
          "Real: 88.0<br>Predicción: 90.25",
          "Real: 87.0<br>Predicción: 77.5",
          "Real: 33.0<br>Predicción: 72.0",
          "Real: 92.0<br>Predicción: 98.5",
          "Real: 86.0<br>Predicción: 80.5",
          "Real: 64.0<br>Predicción: 98.25",
          "Real: 79.0<br>Predicción: 74.25",
          "Real: 91.0<br>Predicción: 101.25",
          "Real: 155.0<br>Predicción: 93.0"
         ],
         "marker": {
          "color": "blue",
          "size": 10
         },
         "mode": "markers",
         "name": "Predicciones",
         "type": "scatter",
         "x": [
          96,
          63,
          96,
          53,
          88,
          67,
          76,
          63,
          92,
          82,
          124,
          75,
          126,
          54,
          100,
          92,
          87,
          104,
          137,
          147,
          134,
          73,
          74,
          74,
          129,
          134,
          117,
          75,
          121,
          69,
          67,
          48,
          110,
          125,
          64,
          92,
          129,
          108,
          146,
          48,
          99,
          142,
          126,
          55,
          73,
          73,
          72,
          121,
          117,
          79,
          57,
          65,
          77,
          183,
          88,
          188,
          82,
          79,
          102,
          92,
          118,
          82,
          59,
          69,
          72,
          88,
          143,
          106,
          129,
          240,
          88,
          92,
          114,
          75,
          51,
          60,
          46,
          119,
          75,
          154,
          103,
          230,
          53,
          154,
          60,
          96,
          55,
          93,
          88,
          115,
          109,
          114,
          102,
          55,
          17,
          77,
          110,
          79,
          55,
          88,
          60,
          91,
          56,
          60,
          122,
          67,
          183,
          86,
          97,
          92,
          82,
          74,
          148,
          101,
          147,
          70,
          74,
          56,
          185,
          92,
          63,
          72,
          163,
          83,
          216,
          103,
          121,
          110,
          69,
          90,
          95,
          107,
          97,
          119,
          185,
          120,
          68,
          182,
          75,
          68,
          75,
          104,
          48,
          81,
          84,
          82,
          91,
          88,
          87,
          33,
          92,
          86,
          64,
          79,
          91,
          155
         ],
         "y": [
          93.75,
          98.5,
          78.25,
          62.25,
          90.25,
          90.25,
          90.5,
          93.5,
          164,
          93.75,
          80,
          90.5,
          115.25,
          80,
          101.5,
          101.5,
          88.25,
          86.5,
          96,
          93.25,
          90.25,
          77.25,
          90.25,
          90.25,
          155.75,
          74.25,
          90.25,
          74.25,
          155.75,
          80,
          109.25,
          72,
          98.25,
          156.25,
          93.25,
          93.25,
          90.25,
          109.25,
          155.75,
          72.25,
          90.25,
          90.25,
          88.25,
          74.25,
          90.25,
          74.5,
          101.75,
          155.75,
          101.5,
          155.75,
          64,
          74.25,
          93.25,
          155.75,
          85.5,
          155.75,
          155.75,
          93.5,
          93.25,
          90.25,
          155.75,
          74.25,
          82.25,
          72,
          90.25,
          101.75,
          90.25,
          90.25,
          155.75,
          171.75,
          90.25,
          85.25,
          90.25,
          80.25,
          78.25,
          80,
          64,
          101.5,
          80,
          163.75,
          93.5,
          155.75,
          64,
          155.75,
          74.25,
          90.25,
          80,
          80,
          90.25,
          86.25,
          93.5,
          93.25,
          64,
          74.25,
          77.25,
          93.5,
          90.25,
          86.25,
          93.25,
          74.25,
          93.5,
          78.25,
          80,
          78.25,
          93.5,
          74.25,
          164,
          93.5,
          80,
          101.75,
          90.25,
          80,
          164,
          155.75,
          109.25,
          74.25,
          64,
          80,
          90.25,
          93.25,
          64,
          93.25,
          106.25,
          80,
          155.75,
          80,
          77.25,
          80,
          88.25,
          101.25,
          74.25,
          90.25,
          78.25,
          90.25,
          163.75,
          90.25,
          106,
          165,
          93.25,
          80,
          147.75,
          98.5,
          86.25,
          90.25,
          77.5,
          70.5,
          98.25,
          90.25,
          77.5,
          72,
          98.5,
          80.5,
          98.25,
          74.25,
          101.25,
          93
         ]
        },
        {
         "line": {
          "color": "red",
          "dash": "dash"
         },
         "mode": "lines",
         "name": "Valor Real",
         "type": "scatter",
         "x": [
          96,
          63,
          96,
          53,
          88,
          67,
          76,
          63,
          92,
          82,
          124,
          75,
          126,
          54,
          100,
          92,
          87,
          104,
          137,
          147,
          134,
          73,
          74,
          74,
          129,
          134,
          117,
          75,
          121,
          69,
          67,
          48,
          110,
          125,
          64,
          92,
          129,
          108,
          146,
          48,
          99,
          142,
          126,
          55,
          73,
          73,
          72,
          121,
          117,
          79,
          57,
          65,
          77,
          183,
          88,
          188,
          82,
          79,
          102,
          92,
          118,
          82,
          59,
          69,
          72,
          88,
          143,
          106,
          129,
          240,
          88,
          92,
          114,
          75,
          51,
          60,
          46,
          119,
          75,
          154,
          103,
          230,
          53,
          154,
          60,
          96,
          55,
          93,
          88,
          115,
          109,
          114,
          102,
          55,
          17,
          77,
          110,
          79,
          55,
          88,
          60,
          91,
          56,
          60,
          122,
          67,
          183,
          86,
          97,
          92,
          82,
          74,
          148,
          101,
          147,
          70,
          74,
          56,
          185,
          92,
          63,
          72,
          163,
          83,
          216,
          103,
          121,
          110,
          69,
          90,
          95,
          107,
          97,
          119,
          185,
          120,
          68,
          182,
          75,
          68,
          75,
          104,
          48,
          81,
          84,
          82,
          91,
          88,
          87,
          33,
          92,
          86,
          64,
          79,
          91,
          155
         ],
         "y": [
          96,
          63,
          96,
          53,
          88,
          67,
          76,
          63,
          92,
          82,
          124,
          75,
          126,
          54,
          100,
          92,
          87,
          104,
          137,
          147,
          134,
          73,
          74,
          74,
          129,
          134,
          117,
          75,
          121,
          69,
          67,
          48,
          110,
          125,
          64,
          92,
          129,
          108,
          146,
          48,
          99,
          142,
          126,
          55,
          73,
          73,
          72,
          121,
          117,
          79,
          57,
          65,
          77,
          183,
          88,
          188,
          82,
          79,
          102,
          92,
          118,
          82,
          59,
          69,
          72,
          88,
          143,
          106,
          129,
          240,
          88,
          92,
          114,
          75,
          51,
          60,
          46,
          119,
          75,
          154,
          103,
          230,
          53,
          154,
          60,
          96,
          55,
          93,
          88,
          115,
          109,
          114,
          102,
          55,
          17,
          77,
          110,
          79,
          55,
          88,
          60,
          91,
          56,
          60,
          122,
          67,
          183,
          86,
          97,
          92,
          82,
          74,
          148,
          101,
          147,
          70,
          74,
          56,
          185,
          92,
          63,
          72,
          163,
          83,
          216,
          103,
          121,
          110,
          69,
          90,
          95,
          107,
          97,
          119,
          185,
          120,
          68,
          182,
          75,
          68,
          75,
          104,
          48,
          81,
          84,
          82,
          91,
          88,
          87,
          33,
          92,
          86,
          64,
          79,
          91,
          155
         ]
        }
       ],
       "layout": {
        "height": 500,
        "showlegend": true,
        "template": {
         "data": {
          "bar": [
           {
            "error_x": {
             "color": "#2a3f5f"
            },
            "error_y": {
             "color": "#2a3f5f"
            },
            "marker": {
             "line": {
              "color": "#E5ECF6",
              "width": 0.5
             },
             "pattern": {
              "fillmode": "overlay",
              "size": 10,
              "solidity": 0.2
             }
            },
            "type": "bar"
           }
          ],
          "barpolar": [
           {
            "marker": {
             "line": {
              "color": "#E5ECF6",
              "width": 0.5
             },
             "pattern": {
              "fillmode": "overlay",
              "size": 10,
              "solidity": 0.2
             }
            },
            "type": "barpolar"
           }
          ],
          "carpet": [
           {
            "aaxis": {
             "endlinecolor": "#2a3f5f",
             "gridcolor": "white",
             "linecolor": "white",
             "minorgridcolor": "white",
             "startlinecolor": "#2a3f5f"
            },
            "baxis": {
             "endlinecolor": "#2a3f5f",
             "gridcolor": "white",
             "linecolor": "white",
             "minorgridcolor": "white",
             "startlinecolor": "#2a3f5f"
            },
            "type": "carpet"
           }
          ],
          "choropleth": [
           {
            "colorbar": {
             "outlinewidth": 0,
             "ticks": ""
            },
            "type": "choropleth"
           }
          ],
          "contour": [
           {
            "colorbar": {
             "outlinewidth": 0,
             "ticks": ""
            },
            "colorscale": [
             [
              0,
              "#0d0887"
             ],
             [
              0.1111111111111111,
              "#46039f"
             ],
             [
              0.2222222222222222,
              "#7201a8"
             ],
             [
              0.3333333333333333,
              "#9c179e"
             ],
             [
              0.4444444444444444,
              "#bd3786"
             ],
             [
              0.5555555555555556,
              "#d8576b"
             ],
             [
              0.6666666666666666,
              "#ed7953"
             ],
             [
              0.7777777777777778,
              "#fb9f3a"
             ],
             [
              0.8888888888888888,
              "#fdca26"
             ],
             [
              1,
              "#f0f921"
             ]
            ],
            "type": "contour"
           }
          ],
          "contourcarpet": [
           {
            "colorbar": {
             "outlinewidth": 0,
             "ticks": ""
            },
            "type": "contourcarpet"
           }
          ],
          "heatmap": [
           {
            "colorbar": {
             "outlinewidth": 0,
             "ticks": ""
            },
            "colorscale": [
             [
              0,
              "#0d0887"
             ],
             [
              0.1111111111111111,
              "#46039f"
             ],
             [
              0.2222222222222222,
              "#7201a8"
             ],
             [
              0.3333333333333333,
              "#9c179e"
             ],
             [
              0.4444444444444444,
              "#bd3786"
             ],
             [
              0.5555555555555556,
              "#d8576b"
             ],
             [
              0.6666666666666666,
              "#ed7953"
             ],
             [
              0.7777777777777778,
              "#fb9f3a"
             ],
             [
              0.8888888888888888,
              "#fdca26"
             ],
             [
              1,
              "#f0f921"
             ]
            ],
            "type": "heatmap"
           }
          ],
          "heatmapgl": [
           {
            "colorbar": {
             "outlinewidth": 0,
             "ticks": ""
            },
            "colorscale": [
             [
              0,
              "#0d0887"
             ],
             [
              0.1111111111111111,
              "#46039f"
             ],
             [
              0.2222222222222222,
              "#7201a8"
             ],
             [
              0.3333333333333333,
              "#9c179e"
             ],
             [
              0.4444444444444444,
              "#bd3786"
             ],
             [
              0.5555555555555556,
              "#d8576b"
             ],
             [
              0.6666666666666666,
              "#ed7953"
             ],
             [
              0.7777777777777778,
              "#fb9f3a"
             ],
             [
              0.8888888888888888,
              "#fdca26"
             ],
             [
              1,
              "#f0f921"
             ]
            ],
            "type": "heatmapgl"
           }
          ],
          "histogram": [
           {
            "marker": {
             "pattern": {
              "fillmode": "overlay",
              "size": 10,
              "solidity": 0.2
             }
            },
            "type": "histogram"
           }
          ],
          "histogram2d": [
           {
            "colorbar": {
             "outlinewidth": 0,
             "ticks": ""
            },
            "colorscale": [
             [
              0,
              "#0d0887"
             ],
             [
              0.1111111111111111,
              "#46039f"
             ],
             [
              0.2222222222222222,
              "#7201a8"
             ],
             [
              0.3333333333333333,
              "#9c179e"
             ],
             [
              0.4444444444444444,
              "#bd3786"
             ],
             [
              0.5555555555555556,
              "#d8576b"
             ],
             [
              0.6666666666666666,
              "#ed7953"
             ],
             [
              0.7777777777777778,
              "#fb9f3a"
             ],
             [
              0.8888888888888888,
              "#fdca26"
             ],
             [
              1,
              "#f0f921"
             ]
            ],
            "type": "histogram2d"
           }
          ],
          "histogram2dcontour": [
           {
            "colorbar": {
             "outlinewidth": 0,
             "ticks": ""
            },
            "colorscale": [
             [
              0,
              "#0d0887"
             ],
             [
              0.1111111111111111,
              "#46039f"
             ],
             [
              0.2222222222222222,
              "#7201a8"
             ],
             [
              0.3333333333333333,
              "#9c179e"
             ],
             [
              0.4444444444444444,
              "#bd3786"
             ],
             [
              0.5555555555555556,
              "#d8576b"
             ],
             [
              0.6666666666666666,
              "#ed7953"
             ],
             [
              0.7777777777777778,
              "#fb9f3a"
             ],
             [
              0.8888888888888888,
              "#fdca26"
             ],
             [
              1,
              "#f0f921"
             ]
            ],
            "type": "histogram2dcontour"
           }
          ],
          "mesh3d": [
           {
            "colorbar": {
             "outlinewidth": 0,
             "ticks": ""
            },
            "type": "mesh3d"
           }
          ],
          "parcoords": [
           {
            "line": {
             "colorbar": {
              "outlinewidth": 0,
              "ticks": ""
             }
            },
            "type": "parcoords"
           }
          ],
          "pie": [
           {
            "automargin": true,
            "type": "pie"
           }
          ],
          "scatter": [
           {
            "fillpattern": {
             "fillmode": "overlay",
             "size": 10,
             "solidity": 0.2
            },
            "type": "scatter"
           }
          ],
          "scatter3d": [
           {
            "line": {
             "colorbar": {
              "outlinewidth": 0,
              "ticks": ""
             }
            },
            "marker": {
             "colorbar": {
              "outlinewidth": 0,
              "ticks": ""
             }
            },
            "type": "scatter3d"
           }
          ],
          "scattercarpet": [
           {
            "marker": {
             "colorbar": {
              "outlinewidth": 0,
              "ticks": ""
             }
            },
            "type": "scattercarpet"
           }
          ],
          "scattergeo": [
           {
            "marker": {
             "colorbar": {
              "outlinewidth": 0,
              "ticks": ""
             }
            },
            "type": "scattergeo"
           }
          ],
          "scattergl": [
           {
            "marker": {
             "colorbar": {
              "outlinewidth": 0,
              "ticks": ""
             }
            },
            "type": "scattergl"
           }
          ],
          "scattermapbox": [
           {
            "marker": {
             "colorbar": {
              "outlinewidth": 0,
              "ticks": ""
             }
            },
            "type": "scattermapbox"
           }
          ],
          "scatterpolar": [
           {
            "marker": {
             "colorbar": {
              "outlinewidth": 0,
              "ticks": ""
             }
            },
            "type": "scatterpolar"
           }
          ],
          "scatterpolargl": [
           {
            "marker": {
             "colorbar": {
              "outlinewidth": 0,
              "ticks": ""
             }
            },
            "type": "scatterpolargl"
           }
          ],
          "scatterternary": [
           {
            "marker": {
             "colorbar": {
              "outlinewidth": 0,
              "ticks": ""
             }
            },
            "type": "scatterternary"
           }
          ],
          "surface": [
           {
            "colorbar": {
             "outlinewidth": 0,
             "ticks": ""
            },
            "colorscale": [
             [
              0,
              "#0d0887"
             ],
             [
              0.1111111111111111,
              "#46039f"
             ],
             [
              0.2222222222222222,
              "#7201a8"
             ],
             [
              0.3333333333333333,
              "#9c179e"
             ],
             [
              0.4444444444444444,
              "#bd3786"
             ],
             [
              0.5555555555555556,
              "#d8576b"
             ],
             [
              0.6666666666666666,
              "#ed7953"
             ],
             [
              0.7777777777777778,
              "#fb9f3a"
             ],
             [
              0.8888888888888888,
              "#fdca26"
             ],
             [
              1,
              "#f0f921"
             ]
            ],
            "type": "surface"
           }
          ],
          "table": [
           {
            "cells": {
             "fill": {
              "color": "#EBF0F8"
             },
             "line": {
              "color": "white"
             }
            },
            "header": {
             "fill": {
              "color": "#C8D4E3"
             },
             "line": {
              "color": "white"
             }
            },
            "type": "table"
           }
          ]
         },
         "layout": {
          "annotationdefaults": {
           "arrowcolor": "#2a3f5f",
           "arrowhead": 0,
           "arrowwidth": 1
          },
          "autotypenumbers": "strict",
          "coloraxis": {
           "colorbar": {
            "outlinewidth": 0,
            "ticks": ""
           }
          },
          "colorscale": {
           "diverging": [
            [
             0,
             "#8e0152"
            ],
            [
             0.1,
             "#c51b7d"
            ],
            [
             0.2,
             "#de77ae"
            ],
            [
             0.3,
             "#f1b6da"
            ],
            [
             0.4,
             "#fde0ef"
            ],
            [
             0.5,
             "#f7f7f7"
            ],
            [
             0.6,
             "#e6f5d0"
            ],
            [
             0.7,
             "#b8e186"
            ],
            [
             0.8,
             "#7fbc41"
            ],
            [
             0.9,
             "#4d9221"
            ],
            [
             1,
             "#276419"
            ]
           ],
           "sequential": [
            [
             0,
             "#0d0887"
            ],
            [
             0.1111111111111111,
             "#46039f"
            ],
            [
             0.2222222222222222,
             "#7201a8"
            ],
            [
             0.3333333333333333,
             "#9c179e"
            ],
            [
             0.4444444444444444,
             "#bd3786"
            ],
            [
             0.5555555555555556,
             "#d8576b"
            ],
            [
             0.6666666666666666,
             "#ed7953"
            ],
            [
             0.7777777777777778,
             "#fb9f3a"
            ],
            [
             0.8888888888888888,
             "#fdca26"
            ],
            [
             1,
             "#f0f921"
            ]
           ],
           "sequentialminus": [
            [
             0,
             "#0d0887"
            ],
            [
             0.1111111111111111,
             "#46039f"
            ],
            [
             0.2222222222222222,
             "#7201a8"
            ],
            [
             0.3333333333333333,
             "#9c179e"
            ],
            [
             0.4444444444444444,
             "#bd3786"
            ],
            [
             0.5555555555555556,
             "#d8576b"
            ],
            [
             0.6666666666666666,
             "#ed7953"
            ],
            [
             0.7777777777777778,
             "#fb9f3a"
            ],
            [
             0.8888888888888888,
             "#fdca26"
            ],
            [
             1,
             "#f0f921"
            ]
           ]
          },
          "colorway": [
           "#636efa",
           "#EF553B",
           "#00cc96",
           "#ab63fa",
           "#FFA15A",
           "#19d3f3",
           "#FF6692",
           "#B6E880",
           "#FF97FF",
           "#FECB52"
          ],
          "font": {
           "color": "#2a3f5f"
          },
          "geo": {
           "bgcolor": "white",
           "lakecolor": "white",
           "landcolor": "#E5ECF6",
           "showlakes": true,
           "showland": true,
           "subunitcolor": "white"
          },
          "hoverlabel": {
           "align": "left"
          },
          "hovermode": "closest",
          "mapbox": {
           "style": "light"
          },
          "paper_bgcolor": "white",
          "plot_bgcolor": "#E5ECF6",
          "polar": {
           "angularaxis": {
            "gridcolor": "white",
            "linecolor": "white",
            "ticks": ""
           },
           "bgcolor": "#E5ECF6",
           "radialaxis": {
            "gridcolor": "white",
            "linecolor": "white",
            "ticks": ""
           }
          },
          "scene": {
           "xaxis": {
            "backgroundcolor": "#E5ECF6",
            "gridcolor": "white",
            "gridwidth": 2,
            "linecolor": "white",
            "showbackground": true,
            "ticks": "",
            "zerolinecolor": "white"
           },
           "yaxis": {
            "backgroundcolor": "#E5ECF6",
            "gridcolor": "white",
            "gridwidth": 2,
            "linecolor": "white",
            "showbackground": true,
            "ticks": "",
            "zerolinecolor": "white"
           },
           "zaxis": {
            "backgroundcolor": "#E5ECF6",
            "gridcolor": "white",
            "gridwidth": 2,
            "linecolor": "white",
            "showbackground": true,
            "ticks": "",
            "zerolinecolor": "white"
           }
          },
          "shapedefaults": {
           "line": {
            "color": "#2a3f5f"
           }
          },
          "ternary": {
           "aaxis": {
            "gridcolor": "white",
            "linecolor": "white",
            "ticks": ""
           },
           "baxis": {
            "gridcolor": "white",
            "linecolor": "white",
            "ticks": ""
           },
           "bgcolor": "#E5ECF6",
           "caxis": {
            "gridcolor": "white",
            "linecolor": "white",
            "ticks": ""
           }
          },
          "title": {
           "x": 0.05
          },
          "xaxis": {
           "automargin": true,
           "gridcolor": "white",
           "linecolor": "white",
           "ticks": "",
           "title": {
            "standoff": 15
           },
           "zerolinecolor": "white",
           "zerolinewidth": 2
          },
          "yaxis": {
           "automargin": true,
           "gridcolor": "white",
           "linecolor": "white",
           "ticks": "",
           "title": {
            "standoff": 15
           },
           "zerolinecolor": "white",
           "zerolinewidth": 2
          }
         }
        },
        "title": {
         "text": "Predicciones vs Valores Reales - LinearRegression"
        },
        "width": 700,
        "xaxis": {
         "showgrid": true,
         "title": {
          "text": "Valores Reales"
         }
        },
        "yaxis": {
         "showgrid": true,
         "title": {
          "text": "Predicciones"
         }
        }
       }
      }
     },
     "metadata": {},
     "output_type": "display_data"
    }
   ],
   "source": [
    "X= df_precio_cluster_0.drop(columns=['price', 'cluster'])\n",
    "y = df_precio_cluster_0['price']\n",
    "resultados_0, X_train, y_train, mejor_modelo_0, percentil_inferior_0, percentil_superior_0 = evaluate_models(X, y)"
   ]
  },
  {
   "cell_type": "code",
   "execution_count": 367,
   "metadata": {},
   "outputs": [],
   "source": [
    "with open('columnas_X.pkl', 'wb') as file:\n",
    "    pickle.dump(X.columns, file)"
   ]
  },
  {
   "cell_type": "code",
   "execution_count": 368,
   "metadata": {},
   "outputs": [
    {
     "data": {
      "text/plain": [
       "Index(['guest_favorite', 'number_guest', 'number_bedroom', 'number_beds',\n",
       "       'number_bathroom', 'city_Austin', 'city_Charlotte', 'city_Chicago',\n",
       "       'city_Las vegas', 'city_Miami', 'city_San Francisco', 'city_Seattle',\n",
       "       'type_bathroom_private', 'type_bathroom_shared',\n",
       "       'type_bathroom_unknown'],\n",
       "      dtype='object')"
      ]
     },
     "execution_count": 368,
     "metadata": {},
     "output_type": "execute_result"
    }
   ],
   "source": [
    "X.columns"
   ]
  },
  {
   "cell_type": "code",
   "execution_count": 369,
   "metadata": {},
   "outputs": [],
   "source": [
    "with open('modelo_c0.pkl', 'wb') as file:\n",
    "    pickle.dump(mejor_modelo_0, file)"
   ]
  },
  {
   "cell_type": "code",
   "execution_count": 370,
   "metadata": {},
   "outputs": [],
   "source": [
    "with open('percentiles_modelo0.pkl', 'wb') as file:\n",
    "    pickle.dump((percentil_inferior_0, percentil_superior_0), file)"
   ]
  },
  {
   "cell_type": "code",
   "execution_count": 371,
   "metadata": {},
   "outputs": [
    {
     "name": "stdout",
     "output_type": "stream",
     "text": [
      "Modelo: LinearRegression\n",
      "R2: 0.3232157405530155, RMSE: 46.215171888027974, MAE: 31.232177905096957, Percentil Inferior: 3.188248047718389, Percentil Superior: 73.87016653879387\n",
      "\n",
      "Modelo: KNeighborsRegressor\n",
      "R2: 0.09716003443176813, RMSE: 53.37831198601348, MAE: 35.756190476190476, Percentil Inferior: 5.400000000000006, Percentil Superior: 75.76000000000006\n",
      "\n",
      "Modelo: DecisionTreeRegressor\n",
      "R2: 0.251147471085194, RMSE: 48.613579303666896, MAE: 31.3818253968254, Percentil Inferior: 2.2566666666666664, Percentil Superior: 69.36000000000004\n",
      "\n",
      "Modelo: RandomForestRegressor\n",
      "R2: 0.32339671298966743, RMSE: 46.20899249530616, MAE: 30.384251429948403, Percentil Inferior: 3.0790836692838695, Percentil Superior: 66.21966666666668\n",
      "\n",
      "Modelo: SVR\n",
      "R2: -0.0017679183433834122, RMSE: 56.22675340531413, MAE: 36.26876555080413, Percentil Inferior: 4.9296036609544185, Percentil Superior: 92.35332891915915\n",
      "\n",
      "Modelo: AdaBoostRegressor\n",
      "R2: 0.2813632518946124, RMSE: 47.62271582382668, MAE: 37.11949009116663, Percentil Inferior: 7.399376114081992, Percentil Superior: 80.64961756291238\n",
      "\n",
      "Modelo: GradientBoostingRegressor\n",
      "R2: 0.4060413365824984, RMSE: 43.294981519030735, MAE: 28.615675181356846, Percentil Inferior: 4.141984591433766, Percentil Superior: 67.99660372134338\n",
      "\n",
      "\n",
      "Valores reales vs predicciones del mejor modelo:\n",
      "[[112.          86.591911  ]\n",
      " [ 75.          84.98383716]\n",
      " [173.         198.43319435]\n",
      " [212.         203.80598655]\n",
      " [ 94.         182.40133471]\n",
      " [134.         149.2659823 ]\n",
      " [ 90.         139.21622555]\n",
      " [193.         198.43319435]\n",
      " [100.          82.15788364]\n",
      " [135.         110.88972679]\n",
      " [122.         110.88972679]\n",
      " [101.         107.37681833]\n",
      " [119.          95.20423624]\n",
      " [166.         190.82541844]\n",
      " [ 94.         110.51567059]\n",
      " [105.         110.88972679]\n",
      " [106.         104.8922033 ]\n",
      " [115.          95.68178637]\n",
      " [ 82.          86.46183165]\n",
      " [ 99.         112.58718991]\n",
      " [237.         135.96166172]\n",
      " [ 84.         101.51459395]\n",
      " [176.         104.8922033 ]\n",
      " [ 76.         101.51459395]\n",
      " [ 74.         122.68611441]\n",
      " [ 60.         106.17292765]\n",
      " [102.         106.24183518]\n",
      " [163.         140.11594911]\n",
      " [ 97.          99.34058539]\n",
      " [ 92.         101.87041456]\n",
      " [ 86.         198.72508808]\n",
      " [ 60.          98.09881776]\n",
      " [106.         137.96632138]\n",
      " [ 88.         109.11210485]\n",
      " [ 96.          77.96995708]\n",
      " [106.         104.8922033 ]\n",
      " [ 92.          93.91197125]\n",
      " [ 69.          83.24320711]\n",
      " [ 78.         112.58718991]\n",
      " [104.          98.09881776]\n",
      " [234.         200.46154289]\n",
      " [193.         198.43319435]\n",
      " [ 81.          80.64847705]\n",
      " [ 79.         109.0204023 ]\n",
      " [ 70.          90.07541753]\n",
      " [139.         112.58718991]\n",
      " [ 68.          90.07541753]\n",
      " [208.         121.33611146]\n",
      " [ 93.          90.07541753]\n",
      " [ 77.         110.88972679]\n",
      " [ 73.          95.68178637]\n",
      " [ 83.         136.27506646]\n",
      " [ 86.          90.07541753]\n",
      " [276.         190.82541844]\n",
      " [163.         111.42669869]\n",
      " [ 67.         110.88972679]\n",
      " [ 60.          81.94718425]\n",
      " [ 83.         101.51459395]\n",
      " [108.         107.92885621]\n",
      " [ 60.         110.88972679]\n",
      " [124.         107.92885621]\n",
      " [110.         104.81852256]\n",
      " [ 69.         104.8922033 ]\n",
      " [ 98.         104.8922033 ]\n",
      " [ 82.         111.24356536]\n",
      " [113.         105.36047904]\n",
      " [326.         132.08969192]\n",
      " [103.         104.8922033 ]\n",
      " [ 94.         104.8922033 ]\n",
      " [147.         170.26813257]\n",
      " [229.         198.43319435]\n",
      " [128.         112.06672578]\n",
      " [152.         198.43319435]\n",
      " [ 55.         104.8922033 ]\n",
      " [ 78.          86.60551795]\n",
      " [215.         121.33611146]\n",
      " [359.         221.10057667]\n",
      " [147.         104.81852256]\n",
      " [104.         129.2651821 ]\n",
      " [138.         143.95643683]\n",
      " [129.         121.33611146]\n",
      " [289.         149.38565892]\n",
      " [131.         107.92885621]\n",
      " [ 94.          84.98383716]\n",
      " [205.         198.43319435]\n",
      " [ 89.         152.32981426]\n",
      " [116.         107.92885621]\n",
      " [141.         135.75251783]\n",
      " [117.          97.32310118]\n",
      " [ 88.         110.90016888]\n",
      " [118.         104.8922033 ]\n",
      " [130.         136.27506646]\n",
      " [ 92.          73.46745259]\n",
      " [145.         106.24183518]\n",
      " [111.         182.60300155]\n",
      " [ 83.         110.47113821]\n",
      " [ 96.         108.26572791]\n",
      " [109.          98.09881776]\n",
      " [ 92.          95.68178637]\n",
      " [ 69.          80.64847705]\n",
      " [120.         110.90016888]\n",
      " [143.         141.39667346]\n",
      " [120.         112.58718991]\n",
      " [ 92.         128.64245549]\n",
      " [ 91.          86.60551795]]\n"
     ]
    },
    {
     "name": "stderr",
     "output_type": "stream",
     "text": [
      "/var/folders/7h/qmh6bk5x34g5j30ygn0wjywr0000gn/T/ipykernel_1991/381939984.py:136: FutureWarning:\n",
      "\n",
      "The behavior of DataFrame concatenation with empty or all-NA entries is deprecated. In a future version, this will no longer exclude empty or all-NA columns when determining the result dtypes. To retain the old behavior, exclude the relevant entries before the concat operation.\n",
      "\n"
     ]
    },
    {
     "data": {
      "application/vnd.plotly.v1+json": {
       "config": {
        "plotlyServerURL": "https://plot.ly"
       },
       "data": [
        {
         "hovertext": [
          "Real: 112.0<br>Predicción: 86.59191099588365",
          "Real: 75.0<br>Predicción: 84.98383716021146",
          "Real: 173.0<br>Predicción: 198.43319434697594",
          "Real: 212.0<br>Predicción: 203.80598655195968",
          "Real: 94.0<br>Predicción: 182.40133470978577",
          "Real: 134.0<br>Predicción: 149.2659822966251",
          "Real: 90.0<br>Predicción: 139.21622555329498",
          "Real: 193.0<br>Predicción: 198.43319434697594",
          "Real: 100.0<br>Predicción: 82.15788363532558",
          "Real: 135.0<br>Predicción: 110.88972678919009",
          "Real: 122.0<br>Predicción: 110.88972678919009",
          "Real: 101.0<br>Predicción: 107.37681833433422",
          "Real: 119.0<br>Predicción: 95.2042362422249",
          "Real: 166.0<br>Predicción: 190.82541844043195",
          "Real: 94.0<br>Predicción: 110.51567059082397",
          "Real: 105.0<br>Predicción: 110.88972678919009",
          "Real: 106.0<br>Predicción: 104.8922033033463",
          "Real: 115.0<br>Predicción: 95.68178636820642",
          "Real: 82.0<br>Predicción: 86.46183165079574",
          "Real: 99.0<br>Predicción: 112.58718990947108",
          "Real: 237.0<br>Predicción: 135.96166172238122",
          "Real: 84.0<br>Predicción: 101.51459395426784",
          "Real: 176.0<br>Predicción: 104.8922033033463",
          "Real: 76.0<br>Predicción: 101.51459395426784",
          "Real: 74.0<br>Predicción: 122.68611441463693",
          "Real: 60.0<br>Predicción: 106.17292765393401",
          "Real: 102.0<br>Predicción: 106.2418351809266",
          "Real: 163.0<br>Predicción: 140.11594910585382",
          "Real: 97.0<br>Predicción: 99.34058538740621",
          "Real: 92.0<br>Predicción: 101.87041455675008",
          "Real: 86.0<br>Predicción: 198.72508808233414",
          "Real: 60.0<br>Predicción: 98.0988177644804",
          "Real: 106.0<br>Predicción: 137.96632138221793",
          "Real: 88.0<br>Predicción: 109.11210485120483",
          "Real: 96.0<br>Predicción: 77.96995708342996",
          "Real: 106.0<br>Predicción: 104.8922033033463",
          "Real: 92.0<br>Predicción: 93.91197124765809",
          "Real: 69.0<br>Predicción: 83.24320711421794",
          "Real: 78.0<br>Predicción: 112.58718990947108",
          "Real: 104.0<br>Predicción: 98.0988177644804",
          "Real: 234.0<br>Predicción: 200.46154289052444",
          "Real: 193.0<br>Predicción: 198.43319434697594",
          "Real: 81.0<br>Predicción: 80.64847705234847",
          "Real: 79.0<br>Predicción: 109.0204023000465",
          "Real: 70.0<br>Predicción: 90.07541753177188",
          "Real: 139.0<br>Predicción: 112.58718990947108",
          "Real: 68.0<br>Predicción: 90.07541753177188",
          "Real: 208.0<br>Predicción: 121.3361114576332",
          "Real: 93.0<br>Predicción: 90.07541753177188",
          "Real: 77.0<br>Predicción: 110.88972678919009",
          "Real: 73.0<br>Predicción: 95.68178636820642",
          "Real: 83.0<br>Predicción: 136.2750664565484",
          "Real: 86.0<br>Predicción: 90.07541753177188",
          "Real: 276.0<br>Predicción: 190.82541844043195",
          "Real: 163.0<br>Predicción: 111.42669869307055",
          "Real: 67.0<br>Predicción: 110.88972678919009",
          "Real: 60.0<br>Predicción: 81.94718425375287",
          "Real: 83.0<br>Predicción: 101.51459395426784",
          "Real: 108.0<br>Predicción: 107.9288562098049",
          "Real: 60.0<br>Predicción: 110.88972678919009",
          "Real: 124.0<br>Predicción: 107.9288562098049",
          "Real: 110.0<br>Predicción: 104.81852255966726",
          "Real: 69.0<br>Predicción: 104.8922033033463",
          "Real: 98.0<br>Predicción: 104.8922033033463",
          "Real: 82.0<br>Predicción: 111.24356536182796",
          "Real: 113.0<br>Predicción: 105.36047904071513",
          "Real: 326.0<br>Predicción: 132.08969191991721",
          "Real: 103.0<br>Predicción: 104.8922033033463",
          "Real: 94.0<br>Predicción: 104.8922033033463",
          "Real: 147.0<br>Predicción: 170.26813256597393",
          "Real: 229.0<br>Predicción: 198.43319434697594",
          "Real: 128.0<br>Predicción: 112.06672578287021",
          "Real: 152.0<br>Predicción: 198.43319434697594",
          "Real: 55.0<br>Predicción: 104.8922033033463",
          "Real: 78.0<br>Predicción: 86.60551795341904",
          "Real: 215.0<br>Predicción: 121.3361114576332",
          "Real: 359.0<br>Predicción: 221.10057667047693",
          "Real: 147.0<br>Predicción: 104.81852255966726",
          "Real: 104.0<br>Predicción: 129.26518209912638",
          "Real: 138.0<br>Predicción: 143.95643682931762",
          "Real: 129.0<br>Predicción: 121.3361114576332",
          "Real: 289.0<br>Predicción: 149.385658923395",
          "Real: 131.0<br>Predicción: 107.9288562098049",
          "Real: 94.0<br>Predicción: 84.98383716021146",
          "Real: 205.0<br>Predicción: 198.43319434697594",
          "Real: 89.0<br>Predicción: 152.32981425837772",
          "Real: 116.0<br>Predicción: 107.9288562098049",
          "Real: 141.0<br>Predicción: 135.7525178273743",
          "Real: 117.0<br>Predicción: 97.32310117512141",
          "Real: 88.0<br>Predicción: 110.90016888059277",
          "Real: 118.0<br>Predicción: 104.8922033033463",
          "Real: 130.0<br>Predicción: 136.2750664565484",
          "Real: 92.0<br>Predicción: 73.46745258621263",
          "Real: 145.0<br>Predicción: 106.2418351809266",
          "Real: 111.0<br>Predicción: 182.60300154660658",
          "Real: 83.0<br>Predicción: 110.47113821076654",
          "Real: 96.0<br>Predicción: 108.2657279142241",
          "Real: 109.0<br>Predicción: 98.0988177644804",
          "Real: 92.0<br>Predicción: 95.68178636820642",
          "Real: 69.0<br>Predicción: 80.64847705234847",
          "Real: 120.0<br>Predicción: 110.90016888059277",
          "Real: 143.0<br>Predicción: 141.3966734564415",
          "Real: 120.0<br>Predicción: 112.58718990947108",
          "Real: 92.0<br>Predicción: 128.6424554922116",
          "Real: 91.0<br>Predicción: 86.60551795341904"
         ],
         "marker": {
          "color": "blue",
          "size": 10
         },
         "mode": "markers",
         "name": "Predicciones",
         "type": "scatter",
         "x": [
          112,
          75,
          173,
          212,
          94,
          134,
          90,
          193,
          100,
          135,
          122,
          101,
          119,
          166,
          94,
          105,
          106,
          115,
          82,
          99,
          237,
          84,
          176,
          76,
          74,
          60,
          102,
          163,
          97,
          92,
          86,
          60,
          106,
          88,
          96,
          106,
          92,
          69,
          78,
          104,
          234,
          193,
          81,
          79,
          70,
          139,
          68,
          208,
          93,
          77,
          73,
          83,
          86,
          276,
          163,
          67,
          60,
          83,
          108,
          60,
          124,
          110,
          69,
          98,
          82,
          113,
          326,
          103,
          94,
          147,
          229,
          128,
          152,
          55,
          78,
          215,
          359,
          147,
          104,
          138,
          129,
          289,
          131,
          94,
          205,
          89,
          116,
          141,
          117,
          88,
          118,
          130,
          92,
          145,
          111,
          83,
          96,
          109,
          92,
          69,
          120,
          143,
          120,
          92,
          91
         ],
         "y": [
          86.59191099588365,
          84.98383716021146,
          198.43319434697594,
          203.80598655195968,
          182.40133470978577,
          149.2659822966251,
          139.21622555329498,
          198.43319434697594,
          82.15788363532558,
          110.88972678919009,
          110.88972678919009,
          107.37681833433422,
          95.2042362422249,
          190.82541844043195,
          110.51567059082397,
          110.88972678919009,
          104.8922033033463,
          95.68178636820642,
          86.46183165079574,
          112.58718990947108,
          135.96166172238122,
          101.51459395426784,
          104.8922033033463,
          101.51459395426784,
          122.68611441463693,
          106.17292765393401,
          106.2418351809266,
          140.11594910585382,
          99.34058538740621,
          101.87041455675008,
          198.72508808233414,
          98.0988177644804,
          137.96632138221793,
          109.11210485120483,
          77.96995708342996,
          104.8922033033463,
          93.91197124765809,
          83.24320711421794,
          112.58718990947108,
          98.0988177644804,
          200.46154289052444,
          198.43319434697594,
          80.64847705234847,
          109.0204023000465,
          90.07541753177188,
          112.58718990947108,
          90.07541753177188,
          121.3361114576332,
          90.07541753177188,
          110.88972678919009,
          95.68178636820642,
          136.2750664565484,
          90.07541753177188,
          190.82541844043195,
          111.42669869307055,
          110.88972678919009,
          81.94718425375287,
          101.51459395426784,
          107.9288562098049,
          110.88972678919009,
          107.9288562098049,
          104.81852255966726,
          104.8922033033463,
          104.8922033033463,
          111.24356536182796,
          105.36047904071513,
          132.08969191991721,
          104.8922033033463,
          104.8922033033463,
          170.26813256597393,
          198.43319434697594,
          112.06672578287021,
          198.43319434697594,
          104.8922033033463,
          86.60551795341904,
          121.3361114576332,
          221.10057667047693,
          104.81852255966726,
          129.26518209912638,
          143.95643682931762,
          121.3361114576332,
          149.385658923395,
          107.9288562098049,
          84.98383716021146,
          198.43319434697594,
          152.32981425837772,
          107.9288562098049,
          135.7525178273743,
          97.32310117512141,
          110.90016888059277,
          104.8922033033463,
          136.2750664565484,
          73.46745258621263,
          106.2418351809266,
          182.60300154660658,
          110.47113821076654,
          108.2657279142241,
          98.0988177644804,
          95.68178636820642,
          80.64847705234847,
          110.90016888059277,
          141.3966734564415,
          112.58718990947108,
          128.6424554922116,
          86.60551795341904
         ]
        },
        {
         "line": {
          "color": "red",
          "dash": "dash"
         },
         "mode": "lines",
         "name": "Valor Real",
         "type": "scatter",
         "x": [
          112,
          75,
          173,
          212,
          94,
          134,
          90,
          193,
          100,
          135,
          122,
          101,
          119,
          166,
          94,
          105,
          106,
          115,
          82,
          99,
          237,
          84,
          176,
          76,
          74,
          60,
          102,
          163,
          97,
          92,
          86,
          60,
          106,
          88,
          96,
          106,
          92,
          69,
          78,
          104,
          234,
          193,
          81,
          79,
          70,
          139,
          68,
          208,
          93,
          77,
          73,
          83,
          86,
          276,
          163,
          67,
          60,
          83,
          108,
          60,
          124,
          110,
          69,
          98,
          82,
          113,
          326,
          103,
          94,
          147,
          229,
          128,
          152,
          55,
          78,
          215,
          359,
          147,
          104,
          138,
          129,
          289,
          131,
          94,
          205,
          89,
          116,
          141,
          117,
          88,
          118,
          130,
          92,
          145,
          111,
          83,
          96,
          109,
          92,
          69,
          120,
          143,
          120,
          92,
          91
         ],
         "y": [
          112,
          75,
          173,
          212,
          94,
          134,
          90,
          193,
          100,
          135,
          122,
          101,
          119,
          166,
          94,
          105,
          106,
          115,
          82,
          99,
          237,
          84,
          176,
          76,
          74,
          60,
          102,
          163,
          97,
          92,
          86,
          60,
          106,
          88,
          96,
          106,
          92,
          69,
          78,
          104,
          234,
          193,
          81,
          79,
          70,
          139,
          68,
          208,
          93,
          77,
          73,
          83,
          86,
          276,
          163,
          67,
          60,
          83,
          108,
          60,
          124,
          110,
          69,
          98,
          82,
          113,
          326,
          103,
          94,
          147,
          229,
          128,
          152,
          55,
          78,
          215,
          359,
          147,
          104,
          138,
          129,
          289,
          131,
          94,
          205,
          89,
          116,
          141,
          117,
          88,
          118,
          130,
          92,
          145,
          111,
          83,
          96,
          109,
          92,
          69,
          120,
          143,
          120,
          92,
          91
         ]
        }
       ],
       "layout": {
        "height": 500,
        "showlegend": true,
        "template": {
         "data": {
          "bar": [
           {
            "error_x": {
             "color": "#2a3f5f"
            },
            "error_y": {
             "color": "#2a3f5f"
            },
            "marker": {
             "line": {
              "color": "#E5ECF6",
              "width": 0.5
             },
             "pattern": {
              "fillmode": "overlay",
              "size": 10,
              "solidity": 0.2
             }
            },
            "type": "bar"
           }
          ],
          "barpolar": [
           {
            "marker": {
             "line": {
              "color": "#E5ECF6",
              "width": 0.5
             },
             "pattern": {
              "fillmode": "overlay",
              "size": 10,
              "solidity": 0.2
             }
            },
            "type": "barpolar"
           }
          ],
          "carpet": [
           {
            "aaxis": {
             "endlinecolor": "#2a3f5f",
             "gridcolor": "white",
             "linecolor": "white",
             "minorgridcolor": "white",
             "startlinecolor": "#2a3f5f"
            },
            "baxis": {
             "endlinecolor": "#2a3f5f",
             "gridcolor": "white",
             "linecolor": "white",
             "minorgridcolor": "white",
             "startlinecolor": "#2a3f5f"
            },
            "type": "carpet"
           }
          ],
          "choropleth": [
           {
            "colorbar": {
             "outlinewidth": 0,
             "ticks": ""
            },
            "type": "choropleth"
           }
          ],
          "contour": [
           {
            "colorbar": {
             "outlinewidth": 0,
             "ticks": ""
            },
            "colorscale": [
             [
              0,
              "#0d0887"
             ],
             [
              0.1111111111111111,
              "#46039f"
             ],
             [
              0.2222222222222222,
              "#7201a8"
             ],
             [
              0.3333333333333333,
              "#9c179e"
             ],
             [
              0.4444444444444444,
              "#bd3786"
             ],
             [
              0.5555555555555556,
              "#d8576b"
             ],
             [
              0.6666666666666666,
              "#ed7953"
             ],
             [
              0.7777777777777778,
              "#fb9f3a"
             ],
             [
              0.8888888888888888,
              "#fdca26"
             ],
             [
              1,
              "#f0f921"
             ]
            ],
            "type": "contour"
           }
          ],
          "contourcarpet": [
           {
            "colorbar": {
             "outlinewidth": 0,
             "ticks": ""
            },
            "type": "contourcarpet"
           }
          ],
          "heatmap": [
           {
            "colorbar": {
             "outlinewidth": 0,
             "ticks": ""
            },
            "colorscale": [
             [
              0,
              "#0d0887"
             ],
             [
              0.1111111111111111,
              "#46039f"
             ],
             [
              0.2222222222222222,
              "#7201a8"
             ],
             [
              0.3333333333333333,
              "#9c179e"
             ],
             [
              0.4444444444444444,
              "#bd3786"
             ],
             [
              0.5555555555555556,
              "#d8576b"
             ],
             [
              0.6666666666666666,
              "#ed7953"
             ],
             [
              0.7777777777777778,
              "#fb9f3a"
             ],
             [
              0.8888888888888888,
              "#fdca26"
             ],
             [
              1,
              "#f0f921"
             ]
            ],
            "type": "heatmap"
           }
          ],
          "heatmapgl": [
           {
            "colorbar": {
             "outlinewidth": 0,
             "ticks": ""
            },
            "colorscale": [
             [
              0,
              "#0d0887"
             ],
             [
              0.1111111111111111,
              "#46039f"
             ],
             [
              0.2222222222222222,
              "#7201a8"
             ],
             [
              0.3333333333333333,
              "#9c179e"
             ],
             [
              0.4444444444444444,
              "#bd3786"
             ],
             [
              0.5555555555555556,
              "#d8576b"
             ],
             [
              0.6666666666666666,
              "#ed7953"
             ],
             [
              0.7777777777777778,
              "#fb9f3a"
             ],
             [
              0.8888888888888888,
              "#fdca26"
             ],
             [
              1,
              "#f0f921"
             ]
            ],
            "type": "heatmapgl"
           }
          ],
          "histogram": [
           {
            "marker": {
             "pattern": {
              "fillmode": "overlay",
              "size": 10,
              "solidity": 0.2
             }
            },
            "type": "histogram"
           }
          ],
          "histogram2d": [
           {
            "colorbar": {
             "outlinewidth": 0,
             "ticks": ""
            },
            "colorscale": [
             [
              0,
              "#0d0887"
             ],
             [
              0.1111111111111111,
              "#46039f"
             ],
             [
              0.2222222222222222,
              "#7201a8"
             ],
             [
              0.3333333333333333,
              "#9c179e"
             ],
             [
              0.4444444444444444,
              "#bd3786"
             ],
             [
              0.5555555555555556,
              "#d8576b"
             ],
             [
              0.6666666666666666,
              "#ed7953"
             ],
             [
              0.7777777777777778,
              "#fb9f3a"
             ],
             [
              0.8888888888888888,
              "#fdca26"
             ],
             [
              1,
              "#f0f921"
             ]
            ],
            "type": "histogram2d"
           }
          ],
          "histogram2dcontour": [
           {
            "colorbar": {
             "outlinewidth": 0,
             "ticks": ""
            },
            "colorscale": [
             [
              0,
              "#0d0887"
             ],
             [
              0.1111111111111111,
              "#46039f"
             ],
             [
              0.2222222222222222,
              "#7201a8"
             ],
             [
              0.3333333333333333,
              "#9c179e"
             ],
             [
              0.4444444444444444,
              "#bd3786"
             ],
             [
              0.5555555555555556,
              "#d8576b"
             ],
             [
              0.6666666666666666,
              "#ed7953"
             ],
             [
              0.7777777777777778,
              "#fb9f3a"
             ],
             [
              0.8888888888888888,
              "#fdca26"
             ],
             [
              1,
              "#f0f921"
             ]
            ],
            "type": "histogram2dcontour"
           }
          ],
          "mesh3d": [
           {
            "colorbar": {
             "outlinewidth": 0,
             "ticks": ""
            },
            "type": "mesh3d"
           }
          ],
          "parcoords": [
           {
            "line": {
             "colorbar": {
              "outlinewidth": 0,
              "ticks": ""
             }
            },
            "type": "parcoords"
           }
          ],
          "pie": [
           {
            "automargin": true,
            "type": "pie"
           }
          ],
          "scatter": [
           {
            "fillpattern": {
             "fillmode": "overlay",
             "size": 10,
             "solidity": 0.2
            },
            "type": "scatter"
           }
          ],
          "scatter3d": [
           {
            "line": {
             "colorbar": {
              "outlinewidth": 0,
              "ticks": ""
             }
            },
            "marker": {
             "colorbar": {
              "outlinewidth": 0,
              "ticks": ""
             }
            },
            "type": "scatter3d"
           }
          ],
          "scattercarpet": [
           {
            "marker": {
             "colorbar": {
              "outlinewidth": 0,
              "ticks": ""
             }
            },
            "type": "scattercarpet"
           }
          ],
          "scattergeo": [
           {
            "marker": {
             "colorbar": {
              "outlinewidth": 0,
              "ticks": ""
             }
            },
            "type": "scattergeo"
           }
          ],
          "scattergl": [
           {
            "marker": {
             "colorbar": {
              "outlinewidth": 0,
              "ticks": ""
             }
            },
            "type": "scattergl"
           }
          ],
          "scattermapbox": [
           {
            "marker": {
             "colorbar": {
              "outlinewidth": 0,
              "ticks": ""
             }
            },
            "type": "scattermapbox"
           }
          ],
          "scatterpolar": [
           {
            "marker": {
             "colorbar": {
              "outlinewidth": 0,
              "ticks": ""
             }
            },
            "type": "scatterpolar"
           }
          ],
          "scatterpolargl": [
           {
            "marker": {
             "colorbar": {
              "outlinewidth": 0,
              "ticks": ""
             }
            },
            "type": "scatterpolargl"
           }
          ],
          "scatterternary": [
           {
            "marker": {
             "colorbar": {
              "outlinewidth": 0,
              "ticks": ""
             }
            },
            "type": "scatterternary"
           }
          ],
          "surface": [
           {
            "colorbar": {
             "outlinewidth": 0,
             "ticks": ""
            },
            "colorscale": [
             [
              0,
              "#0d0887"
             ],
             [
              0.1111111111111111,
              "#46039f"
             ],
             [
              0.2222222222222222,
              "#7201a8"
             ],
             [
              0.3333333333333333,
              "#9c179e"
             ],
             [
              0.4444444444444444,
              "#bd3786"
             ],
             [
              0.5555555555555556,
              "#d8576b"
             ],
             [
              0.6666666666666666,
              "#ed7953"
             ],
             [
              0.7777777777777778,
              "#fb9f3a"
             ],
             [
              0.8888888888888888,
              "#fdca26"
             ],
             [
              1,
              "#f0f921"
             ]
            ],
            "type": "surface"
           }
          ],
          "table": [
           {
            "cells": {
             "fill": {
              "color": "#EBF0F8"
             },
             "line": {
              "color": "white"
             }
            },
            "header": {
             "fill": {
              "color": "#C8D4E3"
             },
             "line": {
              "color": "white"
             }
            },
            "type": "table"
           }
          ]
         },
         "layout": {
          "annotationdefaults": {
           "arrowcolor": "#2a3f5f",
           "arrowhead": 0,
           "arrowwidth": 1
          },
          "autotypenumbers": "strict",
          "coloraxis": {
           "colorbar": {
            "outlinewidth": 0,
            "ticks": ""
           }
          },
          "colorscale": {
           "diverging": [
            [
             0,
             "#8e0152"
            ],
            [
             0.1,
             "#c51b7d"
            ],
            [
             0.2,
             "#de77ae"
            ],
            [
             0.3,
             "#f1b6da"
            ],
            [
             0.4,
             "#fde0ef"
            ],
            [
             0.5,
             "#f7f7f7"
            ],
            [
             0.6,
             "#e6f5d0"
            ],
            [
             0.7,
             "#b8e186"
            ],
            [
             0.8,
             "#7fbc41"
            ],
            [
             0.9,
             "#4d9221"
            ],
            [
             1,
             "#276419"
            ]
           ],
           "sequential": [
            [
             0,
             "#0d0887"
            ],
            [
             0.1111111111111111,
             "#46039f"
            ],
            [
             0.2222222222222222,
             "#7201a8"
            ],
            [
             0.3333333333333333,
             "#9c179e"
            ],
            [
             0.4444444444444444,
             "#bd3786"
            ],
            [
             0.5555555555555556,
             "#d8576b"
            ],
            [
             0.6666666666666666,
             "#ed7953"
            ],
            [
             0.7777777777777778,
             "#fb9f3a"
            ],
            [
             0.8888888888888888,
             "#fdca26"
            ],
            [
             1,
             "#f0f921"
            ]
           ],
           "sequentialminus": [
            [
             0,
             "#0d0887"
            ],
            [
             0.1111111111111111,
             "#46039f"
            ],
            [
             0.2222222222222222,
             "#7201a8"
            ],
            [
             0.3333333333333333,
             "#9c179e"
            ],
            [
             0.4444444444444444,
             "#bd3786"
            ],
            [
             0.5555555555555556,
             "#d8576b"
            ],
            [
             0.6666666666666666,
             "#ed7953"
            ],
            [
             0.7777777777777778,
             "#fb9f3a"
            ],
            [
             0.8888888888888888,
             "#fdca26"
            ],
            [
             1,
             "#f0f921"
            ]
           ]
          },
          "colorway": [
           "#636efa",
           "#EF553B",
           "#00cc96",
           "#ab63fa",
           "#FFA15A",
           "#19d3f3",
           "#FF6692",
           "#B6E880",
           "#FF97FF",
           "#FECB52"
          ],
          "font": {
           "color": "#2a3f5f"
          },
          "geo": {
           "bgcolor": "white",
           "lakecolor": "white",
           "landcolor": "#E5ECF6",
           "showlakes": true,
           "showland": true,
           "subunitcolor": "white"
          },
          "hoverlabel": {
           "align": "left"
          },
          "hovermode": "closest",
          "mapbox": {
           "style": "light"
          },
          "paper_bgcolor": "white",
          "plot_bgcolor": "#E5ECF6",
          "polar": {
           "angularaxis": {
            "gridcolor": "white",
            "linecolor": "white",
            "ticks": ""
           },
           "bgcolor": "#E5ECF6",
           "radialaxis": {
            "gridcolor": "white",
            "linecolor": "white",
            "ticks": ""
           }
          },
          "scene": {
           "xaxis": {
            "backgroundcolor": "#E5ECF6",
            "gridcolor": "white",
            "gridwidth": 2,
            "linecolor": "white",
            "showbackground": true,
            "ticks": "",
            "zerolinecolor": "white"
           },
           "yaxis": {
            "backgroundcolor": "#E5ECF6",
            "gridcolor": "white",
            "gridwidth": 2,
            "linecolor": "white",
            "showbackground": true,
            "ticks": "",
            "zerolinecolor": "white"
           },
           "zaxis": {
            "backgroundcolor": "#E5ECF6",
            "gridcolor": "white",
            "gridwidth": 2,
            "linecolor": "white",
            "showbackground": true,
            "ticks": "",
            "zerolinecolor": "white"
           }
          },
          "shapedefaults": {
           "line": {
            "color": "#2a3f5f"
           }
          },
          "ternary": {
           "aaxis": {
            "gridcolor": "white",
            "linecolor": "white",
            "ticks": ""
           },
           "baxis": {
            "gridcolor": "white",
            "linecolor": "white",
            "ticks": ""
           },
           "bgcolor": "#E5ECF6",
           "caxis": {
            "gridcolor": "white",
            "linecolor": "white",
            "ticks": ""
           }
          },
          "title": {
           "x": 0.05
          },
          "xaxis": {
           "automargin": true,
           "gridcolor": "white",
           "linecolor": "white",
           "ticks": "",
           "title": {
            "standoff": 15
           },
           "zerolinecolor": "white",
           "zerolinewidth": 2
          },
          "yaxis": {
           "automargin": true,
           "gridcolor": "white",
           "linecolor": "white",
           "ticks": "",
           "title": {
            "standoff": 15
           },
           "zerolinecolor": "white",
           "zerolinewidth": 2
          }
         }
        },
        "title": {
         "text": "Predicciones vs Valores Reales - GradientBoostingRegressor"
        },
        "width": 700,
        "xaxis": {
         "showgrid": true,
         "title": {
          "text": "Valores Reales"
         }
        },
        "yaxis": {
         "showgrid": true,
         "title": {
          "text": "Predicciones"
         }
        }
       }
      }
     },
     "metadata": {},
     "output_type": "display_data"
    }
   ],
   "source": [
    "X= df_precio_cluster_1.drop(columns=['price', 'cluster'])\n",
    "y = df_precio_cluster_1['price']\n",
    "resultados_1, X_train, y_train, mejor_modelo_1,  percentil_inferior_1, percentil_superior_1 = evaluate_models(X, y)"
   ]
  },
  {
   "cell_type": "code",
   "execution_count": 372,
   "metadata": {},
   "outputs": [],
   "source": [
    "with open('percentiles_modelo1.pkl', 'wb') as file:\n",
    "    pickle.dump((percentil_inferior_1, percentil_superior_1), file)"
   ]
  },
  {
   "cell_type": "code",
   "execution_count": 373,
   "metadata": {},
   "outputs": [],
   "source": [
    "with open('modelo_c1.pkl', 'wb') as file:\n",
    "    pickle.dump(mejor_modelo_1, file)"
   ]
  },
  {
   "cell_type": "code",
   "execution_count": 374,
   "metadata": {},
   "outputs": [
    {
     "name": "stdout",
     "output_type": "stream",
     "text": [
      "Modelo: LinearRegression\n",
      "R2: 0.4224432654935719, RMSE: 11.21964488386192, MAE: 9.427565751224101, Percentil Inferior: 1.9841246190371535, Percentil Superior: 17.86410799967819\n"
     ]
    },
    {
     "name": "stderr",
     "output_type": "stream",
     "text": [
      "/var/folders/7h/qmh6bk5x34g5j30ygn0wjywr0000gn/T/ipykernel_1991/381939984.py:136: FutureWarning:\n",
      "\n",
      "The behavior of DataFrame concatenation with empty or all-NA entries is deprecated. In a future version, this will no longer exclude empty or all-NA columns when determining the result dtypes. To retain the old behavior, exclude the relevant entries before the concat operation.\n",
      "\n"
     ]
    },
    {
     "name": "stdout",
     "output_type": "stream",
     "text": [
      "\n",
      "Modelo: KNeighborsRegressor\n",
      "R2: 0.18664216303308, RMSE: 13.314431045826709, MAE: 10.725925925925926, Percentil Inferior: 1.2000000000000028, Percentil Superior: 20.560000000000002\n",
      "\n",
      "Modelo: DecisionTreeRegressor\n",
      "R2: 0.22438865647306783, RMSE: 13.00181137271322, MAE: 10.321107314979864, Percentil Inferior: 1.2333333333333358, Percentil Superior: 20.837500000000002\n",
      "\n",
      "Modelo: RandomForestRegressor\n",
      "R2: 0.3484266413441768, RMSE: 11.916904099053768, MAE: 9.518307531285329, Percentil Inferior: 1.3602647485847656, Percentil Superior: 19.635154597766096\n",
      "\n",
      "Modelo: SVR\n",
      "R2: -0.15150236613021661, RMSE: 15.842152967023988, MAE: 12.799640642097874, Percentil Inferior: 2.803112283203339, Percentil Superior: 26.276458977246563\n",
      "\n",
      "Modelo: AdaBoostRegressor\n",
      "R2: 0.322499850944047, RMSE: 12.151684426765076, MAE: 9.108827281756609, Percentil Inferior: 1.3050847457627128, Percentil Superior: 21.200000000000003\n",
      "\n",
      "Modelo: GradientBoostingRegressor\n",
      "R2: 0.33292364247016626, RMSE: 12.057841183753432, MAE: 9.658684713783908, Percentil Inferior: 1.252864417406518, Percentil Superior: 18.416508848921058\n",
      "\n",
      "\n",
      "Valores reales vs predicciones del mejor modelo:\n",
      "[[41.         30.64072344]\n",
      " [58.         45.50525688]\n",
      " [74.         61.08504225]\n",
      " [43.         34.31851011]\n",
      " [46.         48.15758793]\n",
      " [32.         37.72821827]\n",
      " [48.         46.27607034]\n",
      " [82.         61.08504225]\n",
      " [41.         42.59828366]\n",
      " [42.         30.64072344]\n",
      " [41.         44.33333333]\n",
      " [31.         46.27607034]\n",
      " [49.         32.37577311]\n",
      " [55.         65.00531898]\n",
      " [36.         42.59828366]\n",
      " [64.         61.08504225]\n",
      " [66.         46.27607034]\n",
      " [74.         60.44513841]\n",
      " [55.         65.56361546]\n",
      " [69.         46.5185604 ]\n",
      " [36.         34.31851011]\n",
      " [64.         76.96287921]\n",
      " [67.         62.1539073 ]\n",
      " [69.         65.00531898]\n",
      " [36.         30.64072344]\n",
      " [64.         76.96287921]\n",
      " [34.         37.72821827]]\n"
     ]
    },
    {
     "data": {
      "application/vnd.plotly.v1+json": {
       "config": {
        "plotlyServerURL": "https://plot.ly"
       },
       "data": [
        {
         "hovertext": [
          "Real: 41.0<br>Predicción: 30.64072343745194",
          "Real: 58.0<br>Predicción: 45.50525687945489",
          "Real: 74.0<br>Predicción: 61.085042246189005",
          "Real: 43.0<br>Predicción: 34.318510113905084",
          "Real: 46.0<br>Predicción: 48.15758792513268",
          "Real: 32.0<br>Predicción: 37.72821827013756",
          "Real: 48.0<br>Predicción: 46.27607034010614",
          "Real: 82.0<br>Predicción: 61.085042246189005",
          "Real: 41.0<br>Predicción: 42.59828366365299",
          "Real: 42.0<br>Predicción: 30.64072343745194",
          "Real: 41.0<br>Predicción: 44.33333333333332",
          "Real: 31.0<br>Predicción: 46.27607034010614",
          "Real: 49.0<br>Predicción: 32.37577310713227",
          "Real: 55.0<br>Predicción: 65.00531897962367",
          "Real: 36.0<br>Predicción: 42.59828366365299",
          "Real: 64.0<br>Predicción: 61.085042246189005",
          "Real: 66.0<br>Predicción: 46.27607034010614",
          "Real: 74.0<br>Predicción: 60.44513840836436",
          "Real: 55.0<br>Predicción: 65.56361545597431",
          "Real: 69.0<br>Predicción: 46.51856039708764",
          "Real: 36.0<br>Predicción: 34.318510113905084",
          "Real: 64.0<br>Predicción: 76.9628792058247",
          "Real: 67.0<br>Predicción: 62.15390729974184",
          "Real: 69.0<br>Predicción: 65.00531897962367",
          "Real: 36.0<br>Predicción: 30.64072343745194",
          "Real: 64.0<br>Predicción: 76.9628792058247",
          "Real: 34.0<br>Predicción: 37.72821827013756"
         ],
         "marker": {
          "color": "blue",
          "size": 10
         },
         "mode": "markers",
         "name": "Predicciones",
         "type": "scatter",
         "x": [
          41,
          58,
          74,
          43,
          46,
          32,
          48,
          82,
          41,
          42,
          41,
          31,
          49,
          55,
          36,
          64,
          66,
          74,
          55,
          69,
          36,
          64,
          67,
          69,
          36,
          64,
          34
         ],
         "y": [
          30.64072343745194,
          45.50525687945489,
          61.085042246189005,
          34.318510113905084,
          48.15758792513268,
          37.72821827013756,
          46.27607034010614,
          61.085042246189005,
          42.59828366365299,
          30.64072343745194,
          44.33333333333332,
          46.27607034010614,
          32.37577310713227,
          65.00531897962367,
          42.59828366365299,
          61.085042246189005,
          46.27607034010614,
          60.44513840836436,
          65.56361545597431,
          46.51856039708764,
          34.318510113905084,
          76.9628792058247,
          62.15390729974184,
          65.00531897962367,
          30.64072343745194,
          76.9628792058247,
          37.72821827013756
         ]
        },
        {
         "line": {
          "color": "red",
          "dash": "dash"
         },
         "mode": "lines",
         "name": "Valor Real",
         "type": "scatter",
         "x": [
          41,
          58,
          74,
          43,
          46,
          32,
          48,
          82,
          41,
          42,
          41,
          31,
          49,
          55,
          36,
          64,
          66,
          74,
          55,
          69,
          36,
          64,
          67,
          69,
          36,
          64,
          34
         ],
         "y": [
          41,
          58,
          74,
          43,
          46,
          32,
          48,
          82,
          41,
          42,
          41,
          31,
          49,
          55,
          36,
          64,
          66,
          74,
          55,
          69,
          36,
          64,
          67,
          69,
          36,
          64,
          34
         ]
        }
       ],
       "layout": {
        "height": 500,
        "showlegend": true,
        "template": {
         "data": {
          "bar": [
           {
            "error_x": {
             "color": "#2a3f5f"
            },
            "error_y": {
             "color": "#2a3f5f"
            },
            "marker": {
             "line": {
              "color": "#E5ECF6",
              "width": 0.5
             },
             "pattern": {
              "fillmode": "overlay",
              "size": 10,
              "solidity": 0.2
             }
            },
            "type": "bar"
           }
          ],
          "barpolar": [
           {
            "marker": {
             "line": {
              "color": "#E5ECF6",
              "width": 0.5
             },
             "pattern": {
              "fillmode": "overlay",
              "size": 10,
              "solidity": 0.2
             }
            },
            "type": "barpolar"
           }
          ],
          "carpet": [
           {
            "aaxis": {
             "endlinecolor": "#2a3f5f",
             "gridcolor": "white",
             "linecolor": "white",
             "minorgridcolor": "white",
             "startlinecolor": "#2a3f5f"
            },
            "baxis": {
             "endlinecolor": "#2a3f5f",
             "gridcolor": "white",
             "linecolor": "white",
             "minorgridcolor": "white",
             "startlinecolor": "#2a3f5f"
            },
            "type": "carpet"
           }
          ],
          "choropleth": [
           {
            "colorbar": {
             "outlinewidth": 0,
             "ticks": ""
            },
            "type": "choropleth"
           }
          ],
          "contour": [
           {
            "colorbar": {
             "outlinewidth": 0,
             "ticks": ""
            },
            "colorscale": [
             [
              0,
              "#0d0887"
             ],
             [
              0.1111111111111111,
              "#46039f"
             ],
             [
              0.2222222222222222,
              "#7201a8"
             ],
             [
              0.3333333333333333,
              "#9c179e"
             ],
             [
              0.4444444444444444,
              "#bd3786"
             ],
             [
              0.5555555555555556,
              "#d8576b"
             ],
             [
              0.6666666666666666,
              "#ed7953"
             ],
             [
              0.7777777777777778,
              "#fb9f3a"
             ],
             [
              0.8888888888888888,
              "#fdca26"
             ],
             [
              1,
              "#f0f921"
             ]
            ],
            "type": "contour"
           }
          ],
          "contourcarpet": [
           {
            "colorbar": {
             "outlinewidth": 0,
             "ticks": ""
            },
            "type": "contourcarpet"
           }
          ],
          "heatmap": [
           {
            "colorbar": {
             "outlinewidth": 0,
             "ticks": ""
            },
            "colorscale": [
             [
              0,
              "#0d0887"
             ],
             [
              0.1111111111111111,
              "#46039f"
             ],
             [
              0.2222222222222222,
              "#7201a8"
             ],
             [
              0.3333333333333333,
              "#9c179e"
             ],
             [
              0.4444444444444444,
              "#bd3786"
             ],
             [
              0.5555555555555556,
              "#d8576b"
             ],
             [
              0.6666666666666666,
              "#ed7953"
             ],
             [
              0.7777777777777778,
              "#fb9f3a"
             ],
             [
              0.8888888888888888,
              "#fdca26"
             ],
             [
              1,
              "#f0f921"
             ]
            ],
            "type": "heatmap"
           }
          ],
          "heatmapgl": [
           {
            "colorbar": {
             "outlinewidth": 0,
             "ticks": ""
            },
            "colorscale": [
             [
              0,
              "#0d0887"
             ],
             [
              0.1111111111111111,
              "#46039f"
             ],
             [
              0.2222222222222222,
              "#7201a8"
             ],
             [
              0.3333333333333333,
              "#9c179e"
             ],
             [
              0.4444444444444444,
              "#bd3786"
             ],
             [
              0.5555555555555556,
              "#d8576b"
             ],
             [
              0.6666666666666666,
              "#ed7953"
             ],
             [
              0.7777777777777778,
              "#fb9f3a"
             ],
             [
              0.8888888888888888,
              "#fdca26"
             ],
             [
              1,
              "#f0f921"
             ]
            ],
            "type": "heatmapgl"
           }
          ],
          "histogram": [
           {
            "marker": {
             "pattern": {
              "fillmode": "overlay",
              "size": 10,
              "solidity": 0.2
             }
            },
            "type": "histogram"
           }
          ],
          "histogram2d": [
           {
            "colorbar": {
             "outlinewidth": 0,
             "ticks": ""
            },
            "colorscale": [
             [
              0,
              "#0d0887"
             ],
             [
              0.1111111111111111,
              "#46039f"
             ],
             [
              0.2222222222222222,
              "#7201a8"
             ],
             [
              0.3333333333333333,
              "#9c179e"
             ],
             [
              0.4444444444444444,
              "#bd3786"
             ],
             [
              0.5555555555555556,
              "#d8576b"
             ],
             [
              0.6666666666666666,
              "#ed7953"
             ],
             [
              0.7777777777777778,
              "#fb9f3a"
             ],
             [
              0.8888888888888888,
              "#fdca26"
             ],
             [
              1,
              "#f0f921"
             ]
            ],
            "type": "histogram2d"
           }
          ],
          "histogram2dcontour": [
           {
            "colorbar": {
             "outlinewidth": 0,
             "ticks": ""
            },
            "colorscale": [
             [
              0,
              "#0d0887"
             ],
             [
              0.1111111111111111,
              "#46039f"
             ],
             [
              0.2222222222222222,
              "#7201a8"
             ],
             [
              0.3333333333333333,
              "#9c179e"
             ],
             [
              0.4444444444444444,
              "#bd3786"
             ],
             [
              0.5555555555555556,
              "#d8576b"
             ],
             [
              0.6666666666666666,
              "#ed7953"
             ],
             [
              0.7777777777777778,
              "#fb9f3a"
             ],
             [
              0.8888888888888888,
              "#fdca26"
             ],
             [
              1,
              "#f0f921"
             ]
            ],
            "type": "histogram2dcontour"
           }
          ],
          "mesh3d": [
           {
            "colorbar": {
             "outlinewidth": 0,
             "ticks": ""
            },
            "type": "mesh3d"
           }
          ],
          "parcoords": [
           {
            "line": {
             "colorbar": {
              "outlinewidth": 0,
              "ticks": ""
             }
            },
            "type": "parcoords"
           }
          ],
          "pie": [
           {
            "automargin": true,
            "type": "pie"
           }
          ],
          "scatter": [
           {
            "fillpattern": {
             "fillmode": "overlay",
             "size": 10,
             "solidity": 0.2
            },
            "type": "scatter"
           }
          ],
          "scatter3d": [
           {
            "line": {
             "colorbar": {
              "outlinewidth": 0,
              "ticks": ""
             }
            },
            "marker": {
             "colorbar": {
              "outlinewidth": 0,
              "ticks": ""
             }
            },
            "type": "scatter3d"
           }
          ],
          "scattercarpet": [
           {
            "marker": {
             "colorbar": {
              "outlinewidth": 0,
              "ticks": ""
             }
            },
            "type": "scattercarpet"
           }
          ],
          "scattergeo": [
           {
            "marker": {
             "colorbar": {
              "outlinewidth": 0,
              "ticks": ""
             }
            },
            "type": "scattergeo"
           }
          ],
          "scattergl": [
           {
            "marker": {
             "colorbar": {
              "outlinewidth": 0,
              "ticks": ""
             }
            },
            "type": "scattergl"
           }
          ],
          "scattermapbox": [
           {
            "marker": {
             "colorbar": {
              "outlinewidth": 0,
              "ticks": ""
             }
            },
            "type": "scattermapbox"
           }
          ],
          "scatterpolar": [
           {
            "marker": {
             "colorbar": {
              "outlinewidth": 0,
              "ticks": ""
             }
            },
            "type": "scatterpolar"
           }
          ],
          "scatterpolargl": [
           {
            "marker": {
             "colorbar": {
              "outlinewidth": 0,
              "ticks": ""
             }
            },
            "type": "scatterpolargl"
           }
          ],
          "scatterternary": [
           {
            "marker": {
             "colorbar": {
              "outlinewidth": 0,
              "ticks": ""
             }
            },
            "type": "scatterternary"
           }
          ],
          "surface": [
           {
            "colorbar": {
             "outlinewidth": 0,
             "ticks": ""
            },
            "colorscale": [
             [
              0,
              "#0d0887"
             ],
             [
              0.1111111111111111,
              "#46039f"
             ],
             [
              0.2222222222222222,
              "#7201a8"
             ],
             [
              0.3333333333333333,
              "#9c179e"
             ],
             [
              0.4444444444444444,
              "#bd3786"
             ],
             [
              0.5555555555555556,
              "#d8576b"
             ],
             [
              0.6666666666666666,
              "#ed7953"
             ],
             [
              0.7777777777777778,
              "#fb9f3a"
             ],
             [
              0.8888888888888888,
              "#fdca26"
             ],
             [
              1,
              "#f0f921"
             ]
            ],
            "type": "surface"
           }
          ],
          "table": [
           {
            "cells": {
             "fill": {
              "color": "#EBF0F8"
             },
             "line": {
              "color": "white"
             }
            },
            "header": {
             "fill": {
              "color": "#C8D4E3"
             },
             "line": {
              "color": "white"
             }
            },
            "type": "table"
           }
          ]
         },
         "layout": {
          "annotationdefaults": {
           "arrowcolor": "#2a3f5f",
           "arrowhead": 0,
           "arrowwidth": 1
          },
          "autotypenumbers": "strict",
          "coloraxis": {
           "colorbar": {
            "outlinewidth": 0,
            "ticks": ""
           }
          },
          "colorscale": {
           "diverging": [
            [
             0,
             "#8e0152"
            ],
            [
             0.1,
             "#c51b7d"
            ],
            [
             0.2,
             "#de77ae"
            ],
            [
             0.3,
             "#f1b6da"
            ],
            [
             0.4,
             "#fde0ef"
            ],
            [
             0.5,
             "#f7f7f7"
            ],
            [
             0.6,
             "#e6f5d0"
            ],
            [
             0.7,
             "#b8e186"
            ],
            [
             0.8,
             "#7fbc41"
            ],
            [
             0.9,
             "#4d9221"
            ],
            [
             1,
             "#276419"
            ]
           ],
           "sequential": [
            [
             0,
             "#0d0887"
            ],
            [
             0.1111111111111111,
             "#46039f"
            ],
            [
             0.2222222222222222,
             "#7201a8"
            ],
            [
             0.3333333333333333,
             "#9c179e"
            ],
            [
             0.4444444444444444,
             "#bd3786"
            ],
            [
             0.5555555555555556,
             "#d8576b"
            ],
            [
             0.6666666666666666,
             "#ed7953"
            ],
            [
             0.7777777777777778,
             "#fb9f3a"
            ],
            [
             0.8888888888888888,
             "#fdca26"
            ],
            [
             1,
             "#f0f921"
            ]
           ],
           "sequentialminus": [
            [
             0,
             "#0d0887"
            ],
            [
             0.1111111111111111,
             "#46039f"
            ],
            [
             0.2222222222222222,
             "#7201a8"
            ],
            [
             0.3333333333333333,
             "#9c179e"
            ],
            [
             0.4444444444444444,
             "#bd3786"
            ],
            [
             0.5555555555555556,
             "#d8576b"
            ],
            [
             0.6666666666666666,
             "#ed7953"
            ],
            [
             0.7777777777777778,
             "#fb9f3a"
            ],
            [
             0.8888888888888888,
             "#fdca26"
            ],
            [
             1,
             "#f0f921"
            ]
           ]
          },
          "colorway": [
           "#636efa",
           "#EF553B",
           "#00cc96",
           "#ab63fa",
           "#FFA15A",
           "#19d3f3",
           "#FF6692",
           "#B6E880",
           "#FF97FF",
           "#FECB52"
          ],
          "font": {
           "color": "#2a3f5f"
          },
          "geo": {
           "bgcolor": "white",
           "lakecolor": "white",
           "landcolor": "#E5ECF6",
           "showlakes": true,
           "showland": true,
           "subunitcolor": "white"
          },
          "hoverlabel": {
           "align": "left"
          },
          "hovermode": "closest",
          "mapbox": {
           "style": "light"
          },
          "paper_bgcolor": "white",
          "plot_bgcolor": "#E5ECF6",
          "polar": {
           "angularaxis": {
            "gridcolor": "white",
            "linecolor": "white",
            "ticks": ""
           },
           "bgcolor": "#E5ECF6",
           "radialaxis": {
            "gridcolor": "white",
            "linecolor": "white",
            "ticks": ""
           }
          },
          "scene": {
           "xaxis": {
            "backgroundcolor": "#E5ECF6",
            "gridcolor": "white",
            "gridwidth": 2,
            "linecolor": "white",
            "showbackground": true,
            "ticks": "",
            "zerolinecolor": "white"
           },
           "yaxis": {
            "backgroundcolor": "#E5ECF6",
            "gridcolor": "white",
            "gridwidth": 2,
            "linecolor": "white",
            "showbackground": true,
            "ticks": "",
            "zerolinecolor": "white"
           },
           "zaxis": {
            "backgroundcolor": "#E5ECF6",
            "gridcolor": "white",
            "gridwidth": 2,
            "linecolor": "white",
            "showbackground": true,
            "ticks": "",
            "zerolinecolor": "white"
           }
          },
          "shapedefaults": {
           "line": {
            "color": "#2a3f5f"
           }
          },
          "ternary": {
           "aaxis": {
            "gridcolor": "white",
            "linecolor": "white",
            "ticks": ""
           },
           "baxis": {
            "gridcolor": "white",
            "linecolor": "white",
            "ticks": ""
           },
           "bgcolor": "#E5ECF6",
           "caxis": {
            "gridcolor": "white",
            "linecolor": "white",
            "ticks": ""
           }
          },
          "title": {
           "x": 0.05
          },
          "xaxis": {
           "automargin": true,
           "gridcolor": "white",
           "linecolor": "white",
           "ticks": "",
           "title": {
            "standoff": 15
           },
           "zerolinecolor": "white",
           "zerolinewidth": 2
          },
          "yaxis": {
           "automargin": true,
           "gridcolor": "white",
           "linecolor": "white",
           "ticks": "",
           "title": {
            "standoff": 15
           },
           "zerolinecolor": "white",
           "zerolinewidth": 2
          }
         }
        },
        "title": {
         "text": "Predicciones vs Valores Reales - LinearRegression"
        },
        "width": 700,
        "xaxis": {
         "showgrid": true,
         "title": {
          "text": "Valores Reales"
         }
        },
        "yaxis": {
         "showgrid": true,
         "title": {
          "text": "Predicciones"
         }
        }
       }
      }
     },
     "metadata": {},
     "output_type": "display_data"
    }
   ],
   "source": [
    "X= df_precio_cluster_2.drop(columns=['price', 'cluster'])\n",
    "y = df_precio_cluster_2['price']\n",
    "resultados_2, X_train, y_train, mejor_modelo_2,  percentil_inferior_2, percentil_superior_2 = evaluate_models(X, y)"
   ]
  },
  {
   "cell_type": "code",
   "execution_count": 375,
   "metadata": {},
   "outputs": [],
   "source": [
    "with open('modelo_c2.pkl', 'wb') as file:\n",
    "    pickle.dump(mejor_modelo_2, file)"
   ]
  },
  {
   "cell_type": "code",
   "execution_count": 376,
   "metadata": {},
   "outputs": [],
   "source": [
    "with open('percentiles_modelo2.pkl', 'wb') as file:\n",
    "    pickle.dump((percentil_inferior_2, percentil_superior_2), file)"
   ]
  },
  {
   "cell_type": "markdown",
   "metadata": {},
   "source": [
    "con cv=10"
   ]
  }
 ],
 "metadata": {
  "kernelspec": {
   "display_name": "venv",
   "language": "python",
   "name": "python3"
  },
  "language_info": {
   "codemirror_mode": {
    "name": "ipython",
    "version": 3
   },
   "file_extension": ".py",
   "mimetype": "text/x-python",
   "name": "python",
   "nbconvert_exporter": "python",
   "pygments_lexer": "ipython3",
   "version": "3.12.6"
  }
 },
 "nbformat": 4,
 "nbformat_minor": 2
}
